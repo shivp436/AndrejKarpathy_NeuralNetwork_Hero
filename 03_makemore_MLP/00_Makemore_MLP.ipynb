{
  "nbformat": 4,
  "nbformat_minor": 0,
  "metadata": {
    "colab": {
      "provenance": []
    },
    "kernelspec": {
      "name": "python3",
      "display_name": "Python 3"
    },
    "language_info": {
      "name": "python"
    }
  },
  "cells": [
    {
      "cell_type": "markdown",
      "source": [
        "Reference Paper: [A Neural Probabilistic Language Model - Bengio et.al.](https://www.jmlr.org/papers/volume3/bengio03a/bengio03a.pdf)\n",
        "\n",
        "<br>\n",
        "\n",
        "## Graphic of an MLP:\n",
        "![MLP](https://i.postimg.cc/4d03m46Q/Screenshot-2025-06-09-022351.png)"
      ],
      "metadata": {
        "id": "3cmfHGDXU_uS"
      }
    },
    {
      "cell_type": "code",
      "source": [
        "import torch"
      ],
      "metadata": {
        "id": "37N-rNj5UXlx"
      },
      "execution_count": 2,
      "outputs": []
    },
    {
      "cell_type": "code",
      "execution_count": 3,
      "metadata": {
        "id": "gMyGEqnTQ3q7"
      },
      "outputs": [],
      "source": [
        "path = '/content/drive/MyDrive/Colab Notebooks/AndrejKarpathy_NN_Hero/names.txt'\n",
        "\n",
        "words = open(path, 'r').read().splitlines()"
      ]
    },
    {
      "cell_type": "code",
      "source": [
        "chars = sorted(list(set(''.join(words))))\n",
        "stoi = {s:i+1 for i,s in enumerate(chars)}\n",
        "stoi['.'] = 0\n",
        "itos = {i:s for s,i in stoi.items()}"
      ],
      "metadata": {
        "id": "hELdb1PfRq4b"
      },
      "execution_count": 4,
      "outputs": []
    },
    {
      "cell_type": "code",
      "source": [
        "block_size = 3 # no of characters to predict the next one\n",
        "X, Y = [], []\n",
        "\n",
        "for w in words[:5]:\n",
        "    print(w)\n",
        "\n",
        "    context = [0] * block_size\n",
        "    for ch in w + '.':\n",
        "        ix = stoi[ch]\n",
        "        X.append(context)\n",
        "        Y.append(ix)\n",
        "        print(''.join(itos[i] for i in context), \" ------> \", ch)\n",
        "        context= context[1:] + [ix]\n",
        "\n",
        "X = torch.tensor(X)\n",
        "Y = torch.tensor(Y)"
      ],
      "metadata": {
        "colab": {
          "base_uri": "https://localhost:8080/"
        },
        "id": "OPTbksozSeZr",
        "outputId": "0f858158-8d47-451c-fb99-abf223a570a2"
      },
      "execution_count": 5,
      "outputs": [
        {
          "output_type": "stream",
          "name": "stdout",
          "text": [
            "emma\n",
            "...  ------>  e\n",
            "..e  ------>  m\n",
            ".em  ------>  m\n",
            "emm  ------>  a\n",
            "mma  ------>  .\n",
            "olivia\n",
            "...  ------>  o\n",
            "..o  ------>  l\n",
            ".ol  ------>  i\n",
            "oli  ------>  v\n",
            "liv  ------>  i\n",
            "ivi  ------>  a\n",
            "via  ------>  .\n",
            "ava\n",
            "...  ------>  a\n",
            "..a  ------>  v\n",
            ".av  ------>  a\n",
            "ava  ------>  .\n",
            "isabella\n",
            "...  ------>  i\n",
            "..i  ------>  s\n",
            ".is  ------>  a\n",
            "isa  ------>  b\n",
            "sab  ------>  e\n",
            "abe  ------>  l\n",
            "bel  ------>  l\n",
            "ell  ------>  a\n",
            "lla  ------>  .\n",
            "sophia\n",
            "...  ------>  s\n",
            "..s  ------>  o\n",
            ".so  ------>  p\n",
            "sop  ------>  h\n",
            "oph  ------>  i\n",
            "phi  ------>  a\n",
            "hia  ------>  .\n"
          ]
        }
      ]
    },
    {
      "cell_type": "code",
      "source": [
        "# Create an embedding layer (depends on us)\n",
        "C = torch.randn((27, 2)) # Lookup Matrix with 27 Weights an 2 Layers\n",
        "emb = C[X] # As learn in previous exercise, it's same as X@C\n",
        "emb.shape"
      ],
      "metadata": {
        "id": "5NRdQdP_ZS_z",
        "outputId": "60831eea-ea37-46ec-9f87-0fcf52b14833",
        "colab": {
          "base_uri": "https://localhost:8080/"
        }
      },
      "execution_count": 9,
      "outputs": [
        {
          "output_type": "execute_result",
          "data": {
            "text/plain": [
              "torch.Size([32, 3, 2])"
            ]
          },
          "metadata": {},
          "execution_count": 9
        }
      ]
    },
    {
      "cell_type": "code",
      "source": [
        "X[0], C[0], emb[0]"
      ],
      "metadata": {
        "colab": {
          "base_uri": "https://localhost:8080/"
        },
        "id": "SdP7WDe87X70",
        "outputId": "1d43cdc8-9529-497a-db03-5fb47e2853a1"
      },
      "execution_count": 19,
      "outputs": [
        {
          "output_type": "execute_result",
          "data": {
            "text/plain": [
              "(tensor([0, 0, 0]),\n",
              " tensor([-0.9795,  1.0075]),\n",
              " tensor([[-0.9795,  1.0075],\n",
              "         [-0.9795,  1.0075],\n",
              "         [-0.9795,  1.0075]]))"
            ]
          },
          "metadata": {},
          "execution_count": 19
        }
      ]
    },
    {
      "cell_type": "code",
      "source": [
        "# Now we can multiply with our next layer\n",
        "# For 32 Examples, we have 3 index in each, and 2 layers\n",
        "    # Have to get that 32 * 3 * 2 => 32 * 6 shape\n",
        "# We can concat the last 2 dimensions into 1 single dimension\n",
        "\n",
        "# emb[:, 0, :] # this gives us 1st column, similarly 2 more columns.\n",
        "\n",
        "torch.cat([emb[ :, 0, :], emb[:, 1, :] , emb[:, 2, :]], dim=1).shape"
      ],
      "metadata": {
        "id": "AEGFNfi1ZTo9",
        "colab": {
          "base_uri": "https://localhost:8080/"
        },
        "outputId": "dd2c48de-142a-4ae7-f542-096a3563b6f2"
      },
      "execution_count": 21,
      "outputs": [
        {
          "output_type": "execute_result",
          "data": {
            "text/plain": [
              "torch.Size([32, 6])"
            ]
          },
          "metadata": {},
          "execution_count": 21
        }
      ]
    },
    {
      "cell_type": "code",
      "source": [
        "# torch.unbind(emb, 1) # this achieves the same as drilling into 1st dimension [:, i, :]\n",
        "\n",
        "unb = torch.cat(torch.unbind(emb, 1), 1)\n",
        "unb.shape"
      ],
      "metadata": {
        "colab": {
          "base_uri": "https://localhost:8080/"
        },
        "id": "kSZAemMp8nZO",
        "outputId": "45358c3a-4783-4105-f1cf-6a51806e0833"
      },
      "execution_count": 30,
      "outputs": [
        {
          "output_type": "execute_result",
          "data": {
            "text/plain": [
              "torch.Size([32, 6])"
            ]
          },
          "metadata": {},
          "execution_count": 30
        }
      ]
    },
    {
      "cell_type": "code",
      "source": [
        "emb[0].view(6) # we can replace the arg by -1 when we dont know the number"
      ],
      "metadata": {
        "colab": {
          "base_uri": "https://localhost:8080/"
        },
        "id": "3q3vqFmk-oci",
        "outputId": "e492d0f1-63dd-437f-86d8-062c72783943"
      },
      "execution_count": 34,
      "outputs": [
        {
          "output_type": "execute_result",
          "data": {
            "text/plain": [
              "tensor([-0.9795,  1.0075, -0.9795,  1.0075, -0.9795,  1.0075])"
            ]
          },
          "metadata": {},
          "execution_count": 34
        }
      ]
    },
    {
      "cell_type": "code",
      "source": [
        "unb2 = emb.view(32, -1) # this will give us 32, multiply whatever dimensions are left (3*2) into the next dimension\n",
        "unb2"
      ],
      "metadata": {
        "colab": {
          "base_uri": "https://localhost:8080/"
        },
        "id": "BoV0gyB6-zRO",
        "outputId": "02d7b891-fc67-4896-dd67-02d63c9afb34"
      },
      "execution_count": 37,
      "outputs": [
        {
          "output_type": "execute_result",
          "data": {
            "text/plain": [
              "tensor([[-0.9795,  1.0075, -0.9795,  1.0075, -0.9795,  1.0075],\n",
              "        [-0.9795,  1.0075, -0.9795,  1.0075,  0.4978, -0.7835],\n",
              "        [-0.9795,  1.0075,  0.4978, -0.7835, -1.2198,  0.9824],\n",
              "        [ 0.4978, -0.7835, -1.2198,  0.9824, -1.2198,  0.9824],\n",
              "        [-1.2198,  0.9824, -1.2198,  0.9824,  1.2706,  0.7349],\n",
              "        [-0.9795,  1.0075, -0.9795,  1.0075, -0.9795,  1.0075],\n",
              "        [-0.9795,  1.0075, -0.9795,  1.0075, -0.2962, -1.0084],\n",
              "        [-0.9795,  1.0075, -0.2962, -1.0084,  1.0889,  1.6599],\n",
              "        [-0.2962, -1.0084,  1.0889,  1.6599, -0.2205, -1.0814],\n",
              "        [ 1.0889,  1.6599, -0.2205, -1.0814,  1.1028, -1.9828],\n",
              "        [-0.2205, -1.0814,  1.1028, -1.9828, -0.2205, -1.0814],\n",
              "        [ 1.1028, -1.9828, -0.2205, -1.0814,  1.2706,  0.7349],\n",
              "        [-0.9795,  1.0075, -0.9795,  1.0075, -0.9795,  1.0075],\n",
              "        [-0.9795,  1.0075, -0.9795,  1.0075,  1.2706,  0.7349],\n",
              "        [-0.9795,  1.0075,  1.2706,  0.7349,  1.1028, -1.9828],\n",
              "        [ 1.2706,  0.7349,  1.1028, -1.9828,  1.2706,  0.7349],\n",
              "        [-0.9795,  1.0075, -0.9795,  1.0075, -0.9795,  1.0075],\n",
              "        [-0.9795,  1.0075, -0.9795,  1.0075, -0.2205, -1.0814],\n",
              "        [-0.9795,  1.0075, -0.2205, -1.0814, -0.8995, -0.6155],\n",
              "        [-0.2205, -1.0814, -0.8995, -0.6155,  1.2706,  0.7349],\n",
              "        [-0.8995, -0.6155,  1.2706,  0.7349,  0.0636,  0.3004],\n",
              "        [ 1.2706,  0.7349,  0.0636,  0.3004,  0.4978, -0.7835],\n",
              "        [ 0.0636,  0.3004,  0.4978, -0.7835,  1.0889,  1.6599],\n",
              "        [ 0.4978, -0.7835,  1.0889,  1.6599,  1.0889,  1.6599],\n",
              "        [ 1.0889,  1.6599,  1.0889,  1.6599,  1.2706,  0.7349],\n",
              "        [-0.9795,  1.0075, -0.9795,  1.0075, -0.9795,  1.0075],\n",
              "        [-0.9795,  1.0075, -0.9795,  1.0075, -0.8995, -0.6155],\n",
              "        [-0.9795,  1.0075, -0.8995, -0.6155, -0.2962, -1.0084],\n",
              "        [-0.8995, -0.6155, -0.2962, -1.0084, -0.9051, -0.0459],\n",
              "        [-0.2962, -1.0084, -0.9051, -0.0459,  0.9606, -0.1454],\n",
              "        [-0.9051, -0.0459,  0.9606, -0.1454, -0.2205, -1.0814],\n",
              "        [ 0.9606, -0.1454, -0.2205, -1.0814,  1.2706,  0.7349]])"
            ]
          },
          "metadata": {},
          "execution_count": 37
        }
      ]
    },
    {
      "cell_type": "code",
      "source": [
        "unb3 = emb.view(-1, 6)\n",
        "unb3"
      ],
      "metadata": {
        "colab": {
          "base_uri": "https://localhost:8080/"
        },
        "id": "Q0aKjoSE_Qqm",
        "outputId": "5c46e50c-8d93-40b7-8510-e42582ca9bfc"
      },
      "execution_count": 38,
      "outputs": [
        {
          "output_type": "execute_result",
          "data": {
            "text/plain": [
              "tensor([[-0.9795,  1.0075, -0.9795,  1.0075, -0.9795,  1.0075],\n",
              "        [-0.9795,  1.0075, -0.9795,  1.0075,  0.4978, -0.7835],\n",
              "        [-0.9795,  1.0075,  0.4978, -0.7835, -1.2198,  0.9824],\n",
              "        [ 0.4978, -0.7835, -1.2198,  0.9824, -1.2198,  0.9824],\n",
              "        [-1.2198,  0.9824, -1.2198,  0.9824,  1.2706,  0.7349],\n",
              "        [-0.9795,  1.0075, -0.9795,  1.0075, -0.9795,  1.0075],\n",
              "        [-0.9795,  1.0075, -0.9795,  1.0075, -0.2962, -1.0084],\n",
              "        [-0.9795,  1.0075, -0.2962, -1.0084,  1.0889,  1.6599],\n",
              "        [-0.2962, -1.0084,  1.0889,  1.6599, -0.2205, -1.0814],\n",
              "        [ 1.0889,  1.6599, -0.2205, -1.0814,  1.1028, -1.9828],\n",
              "        [-0.2205, -1.0814,  1.1028, -1.9828, -0.2205, -1.0814],\n",
              "        [ 1.1028, -1.9828, -0.2205, -1.0814,  1.2706,  0.7349],\n",
              "        [-0.9795,  1.0075, -0.9795,  1.0075, -0.9795,  1.0075],\n",
              "        [-0.9795,  1.0075, -0.9795,  1.0075,  1.2706,  0.7349],\n",
              "        [-0.9795,  1.0075,  1.2706,  0.7349,  1.1028, -1.9828],\n",
              "        [ 1.2706,  0.7349,  1.1028, -1.9828,  1.2706,  0.7349],\n",
              "        [-0.9795,  1.0075, -0.9795,  1.0075, -0.9795,  1.0075],\n",
              "        [-0.9795,  1.0075, -0.9795,  1.0075, -0.2205, -1.0814],\n",
              "        [-0.9795,  1.0075, -0.2205, -1.0814, -0.8995, -0.6155],\n",
              "        [-0.2205, -1.0814, -0.8995, -0.6155,  1.2706,  0.7349],\n",
              "        [-0.8995, -0.6155,  1.2706,  0.7349,  0.0636,  0.3004],\n",
              "        [ 1.2706,  0.7349,  0.0636,  0.3004,  0.4978, -0.7835],\n",
              "        [ 0.0636,  0.3004,  0.4978, -0.7835,  1.0889,  1.6599],\n",
              "        [ 0.4978, -0.7835,  1.0889,  1.6599,  1.0889,  1.6599],\n",
              "        [ 1.0889,  1.6599,  1.0889,  1.6599,  1.2706,  0.7349],\n",
              "        [-0.9795,  1.0075, -0.9795,  1.0075, -0.9795,  1.0075],\n",
              "        [-0.9795,  1.0075, -0.9795,  1.0075, -0.8995, -0.6155],\n",
              "        [-0.9795,  1.0075, -0.8995, -0.6155, -0.2962, -1.0084],\n",
              "        [-0.8995, -0.6155, -0.2962, -1.0084, -0.9051, -0.0459],\n",
              "        [-0.2962, -1.0084, -0.9051, -0.0459,  0.9606, -0.1454],\n",
              "        [-0.9051, -0.0459,  0.9606, -0.1454, -0.2205, -1.0814],\n",
              "        [ 0.9606, -0.1454, -0.2205, -1.0814,  1.2706,  0.7349]])"
            ]
          },
          "metadata": {},
          "execution_count": 38
        }
      ]
    },
    {
      "cell_type": "code",
      "source": [
        "# Let's use .view as it's the most efficient"
      ],
      "metadata": {
        "id": "koUbgQHbAape"
      },
      "execution_count": 39,
      "outputs": []
    },
    {
      "cell_type": "code",
      "source": [
        "# 2nd Layer with 100 Neurons\n",
        "\n",
        "w1 = torch.randn(6, 100)\n",
        "b1 = torch.randn(100)"
      ],
      "metadata": {
        "id": "QBDOy2_fArTJ"
      },
      "execution_count": 41,
      "outputs": []
    },
    {
      "cell_type": "code",
      "source": [
        "h = torch.tanh(emb.view(-1, 6) @ w1 + b1)"
      ],
      "metadata": {
        "id": "eC0rb0QDA0-8"
      },
      "execution_count": 42,
      "outputs": []
    },
    {
      "cell_type": "code",
      "source": [
        "h.shape"
      ],
      "metadata": {
        "colab": {
          "base_uri": "https://localhost:8080/"
        },
        "id": "01x35AZhBPNF",
        "outputId": "fa8f3151-c373-4456-bb08-4b69f50ce12b"
      },
      "execution_count": 44,
      "outputs": [
        {
          "output_type": "execute_result",
          "data": {
            "text/plain": [
              "torch.Size([32, 100])"
            ]
          },
          "metadata": {},
          "execution_count": 44
        }
      ]
    },
    {
      "cell_type": "code",
      "source": [
        "h"
      ],
      "metadata": {
        "colab": {
          "base_uri": "https://localhost:8080/"
        },
        "id": "_KrOx5KCBPkW",
        "outputId": "0ce5a346-0171-48c1-d8cc-210cfac15457"
      },
      "execution_count": 46,
      "outputs": [
        {
          "output_type": "execute_result",
          "data": {
            "text/plain": [
              "tensor([[ 0.9812,  0.8002, -0.9867,  ..., -0.9683, -0.9956,  0.6567],\n",
              "        [-0.6342, -0.8895, -0.8123,  ..., -0.9969, -0.7499, -0.5278],\n",
              "        [ 0.5557,  0.6569, -0.9898,  ..., -0.9202, -0.9930,  0.9574],\n",
              "        ...,\n",
              "        [ 0.7506, -0.9901,  0.9174,  ..., -0.0026,  0.2115, -0.9510],\n",
              "        [-0.9956,  0.2821, -0.9676,  ..., -0.9619, -0.8717,  0.7159],\n",
              "        [-0.3010, -0.9999,  0.9820,  ..., -0.6499,  0.5470, -0.8605]])"
            ]
          },
          "metadata": {},
          "execution_count": 46
        }
      ]
    },
    {
      "cell_type": "code",
      "source": [
        "# Final Layer\n",
        "w2 = torch.randn(100, 27)\n",
        "b2 = torch.randn(27)"
      ],
      "metadata": {
        "id": "hXbTVqq_BStJ"
      },
      "execution_count": 47,
      "outputs": []
    },
    {
      "cell_type": "code",
      "source": [
        "logits = h @ w2 + b2\n",
        "logits.shape"
      ],
      "metadata": {
        "colab": {
          "base_uri": "https://localhost:8080/"
        },
        "id": "3CNSnsjzBu8N",
        "outputId": "8b17893d-cab2-40b2-db6e-580674c69517"
      },
      "execution_count": 48,
      "outputs": [
        {
          "output_type": "execute_result",
          "data": {
            "text/plain": [
              "torch.Size([32, 27])"
            ]
          },
          "metadata": {},
          "execution_count": 48
        }
      ]
    },
    {
      "cell_type": "code",
      "source": [
        "counts = logits.exp()\n",
        "probs = counts / counts.sum(1, keepdims=True)\n",
        "probs.shape"
      ],
      "metadata": {
        "colab": {
          "base_uri": "https://localhost:8080/"
        },
        "id": "EzPMjolaBxUh",
        "outputId": "fdc8f4c8-cb31-4ac0-998a-fb36e7ed66a1"
      },
      "execution_count": 49,
      "outputs": [
        {
          "output_type": "execute_result",
          "data": {
            "text/plain": [
              "torch.Size([32, 27])"
            ]
          },
          "metadata": {},
          "execution_count": 49
        }
      ]
    },
    {
      "cell_type": "code",
      "source": [
        "probs[0]"
      ],
      "metadata": {
        "colab": {
          "base_uri": "https://localhost:8080/"
        },
        "id": "l1DbuZdkCZwX",
        "outputId": "844c2745-27f0-465c-cc3f-abb77f1f6c26"
      },
      "execution_count": 50,
      "outputs": [
        {
          "output_type": "execute_result",
          "data": {
            "text/plain": [
              "tensor([3.5492e-05, 4.5299e-05, 1.6494e-01, 2.8948e-10, 8.2483e-01, 8.7969e-11,\n",
              "        5.2079e-11, 2.0505e-03, 9.5199e-05, 2.0868e-11, 1.1648e-05, 1.5561e-06,\n",
              "        2.4305e-08, 1.2082e-03, 1.9975e-08, 4.5817e-15, 1.7619e-09, 2.6627e-03,\n",
              "        1.1615e-05, 1.5985e-05, 7.5409e-10, 2.7947e-04, 2.0669e-06, 3.5843e-03,\n",
              "        2.1932e-04, 9.1112e-09, 2.8289e-06])"
            ]
          },
          "metadata": {},
          "execution_count": 50
        }
      ]
    },
    {
      "cell_type": "code",
      "source": [
        "probs[0].sum()"
      ],
      "metadata": {
        "colab": {
          "base_uri": "https://localhost:8080/"
        },
        "id": "QLz77dDQCbAx",
        "outputId": "8ff369e9-b06b-4172-f3b6-ffb4473c8742"
      },
      "execution_count": 51,
      "outputs": [
        {
          "output_type": "execute_result",
          "data": {
            "text/plain": [
              "tensor(1.0000)"
            ]
          },
          "metadata": {},
          "execution_count": 51
        }
      ]
    },
    {
      "cell_type": "code",
      "source": [
        "loss = -probs[torch.arange(Y.nelement()), Y].log().mean()"
      ],
      "metadata": {
        "id": "Mu4nCzfyCjlb"
      },
      "execution_count": 52,
      "outputs": []
    },
    {
      "cell_type": "code",
      "source": [
        "import torch.nn.functional as F\n",
        "\n",
        "loss2 = F.cross_entropy(h @ w2 + b2, Y)"
      ],
      "metadata": {
        "id": "Pe3O7DtyC_G1"
      },
      "execution_count": 53,
      "outputs": []
    },
    {
      "cell_type": "code",
      "source": [
        "loss, loss2"
      ],
      "metadata": {
        "colab": {
          "base_uri": "https://localhost:8080/"
        },
        "id": "MDgCdmAGDcHc",
        "outputId": "4385dcd9-a9bb-4aca-8099-b9eebfd82244"
      },
      "execution_count": 54,
      "outputs": [
        {
          "output_type": "execute_result",
          "data": {
            "text/plain": [
              "(tensor(17.5548), tensor(17.5548))"
            ]
          },
          "metadata": {},
          "execution_count": 54
        }
      ]
    },
    {
      "cell_type": "code",
      "source": [
        "# CLEAN CODE"
      ],
      "metadata": {
        "id": "hc181zwtDc9H"
      },
      "execution_count": 63,
      "outputs": []
    },
    {
      "cell_type": "code",
      "source": [
        "block_size = 3 # no of characters to predict the next one\n",
        "X, Y = [], []\n",
        "\n",
        "for w in words:\n",
        "    # print(w)\n",
        "\n",
        "    context = [0] * block_size\n",
        "    for ch in w + '.':\n",
        "        ix = stoi[ch]\n",
        "        X.append(context)\n",
        "        Y.append(ix)\n",
        "        # print(''.join(itos[i] for i in context), \" ------> \", ch)\n",
        "        context= context[1:] + [ix]\n",
        "\n",
        "X = torch.tensor(X)\n",
        "Y = torch.tensor(Y)"
      ],
      "metadata": {
        "id": "UBm1tCvgHwl0"
      },
      "execution_count": 77,
      "outputs": []
    },
    {
      "cell_type": "code",
      "source": [
        "X.shape, Y.shape"
      ],
      "metadata": {
        "colab": {
          "base_uri": "https://localhost:8080/"
        },
        "id": "oDRy3FH5Dfxm",
        "outputId": "4a22e4cb-ea4d-472a-f733-fc00c4a6f04f"
      },
      "execution_count": 78,
      "outputs": [
        {
          "output_type": "execute_result",
          "data": {
            "text/plain": [
              "(torch.Size([228146, 3]), torch.Size([228146]))"
            ]
          },
          "metadata": {},
          "execution_count": 78
        }
      ]
    },
    {
      "cell_type": "code",
      "source": [
        "# Initializing the parameters\n",
        "g = torch.Generator().manual_seed(2147483647)\n",
        "nh = 2 # number of Neurons in the first layer # lookup layer\n",
        "\n",
        "C = torch.randn((27, nh), generator=g, requires_grad=True) # [27, 2]\n",
        "w1 = torch.randn(( nh*block_size , 100), generator=g, requires_grad=True) # [27, 6]\n",
        "b1 = torch.randn((100), generator=g, requires_grad=True)\n",
        "w2 = torch.randn((100, 27), generator=g, requires_grad=True)\n",
        "b2 = torch.randn((27), generator=g, requires_grad=True)\n",
        "\n",
        "params = [C, w1, b1, w2, b2]"
      ],
      "metadata": {
        "id": "4BY6-qOeDgV1"
      },
      "execution_count": 103,
      "outputs": []
    },
    {
      "cell_type": "code",
      "source": [
        "sum(p.nelement() for p in params) # number of parameters in total"
      ],
      "metadata": {
        "colab": {
          "base_uri": "https://localhost:8080/"
        },
        "id": "vSiPVLR-EJH-",
        "outputId": "8becc8bd-607e-4eec-92bf-cb417a2ece56"
      },
      "execution_count": 104,
      "outputs": [
        {
          "output_type": "execute_result",
          "data": {
            "text/plain": [
              "3481"
            ]
          },
          "metadata": {},
          "execution_count": 104
        }
      ]
    },
    {
      "cell_type": "code",
      "source": [
        "# Setting Dynamic learning rate\n",
        "lre = torch.linspace(-3, 0, 1000)\n",
        "lrs = 10**lre # from 0.001 to 1 exponentially"
      ],
      "metadata": {
        "id": "nSGTMfpLLQRy"
      },
      "execution_count": 105,
      "outputs": []
    },
    {
      "cell_type": "code",
      "source": [
        "# Making it learn\n",
        "# for _ in range(10):\n",
        "#     # Forward Pass\n",
        "#     emb = C[X] # First Layer: [228146, 3, 2]\n",
        "#     h = torch.tanh(emb.view(-1, 6) @ w1 + b1) # 2nd Layer: [228146, 6] @ [6, 100] = [228146, 100]\n",
        "#     logits = h @ w2 + b2 # 3rd Layer: [228146, 100] @ [100, 27] = [228146, 27]\n",
        "#     loss = F.cross_entropy(logits, Y) # Calculating loss\n",
        "#     print(loss.item())\n",
        "\n",
        "#     # Backward Pass\n",
        "#     for p in params:\n",
        "#         p.grad = None\n",
        "#     loss.backward()\n",
        "#     for p in params:\n",
        "#         p.data += -0.1 * p.grad"
      ],
      "metadata": {
        "id": "5hORw7w5G4-8"
      },
      "execution_count": 106,
      "outputs": []
    },
    {
      "cell_type": "code",
      "source": [
        "# We see that each iteration is taking a lot of time\n",
        "# So, instead of adjusting all params, we can randomly choose some of them\n",
        "# it's called batching"
      ],
      "metadata": {
        "id": "MxHZcIp1JeuR"
      },
      "execution_count": 107,
      "outputs": []
    },
    {
      "cell_type": "code",
      "source": [
        "# Making it learn\n",
        "lri = []\n",
        "lossi = []\n",
        "\n",
        "for i in range(1000):\n",
        "\n",
        "    # minibatch construct\n",
        "    ix = torch.randint(0, X.shape[0], (32, )) # staring num, end num, number of ints\n",
        "    # we are randomly choosing 32 indexes to look into and optimize\n",
        "\n",
        "    # Forward Pass\n",
        "    emb = C[X[ix]] # First Layer: [32, 3, 2]\n",
        "    h = torch.tanh(emb.view(-1, 6) @ w1 + b1) # 2nd Layer: [32, 6] @ [6, 100] = [32, 100]\n",
        "    logits = h @ w2 + b2 # 3rd Layer: [32, 100] @ [100, 27] = [32, 27]\n",
        "    loss = F.cross_entropy(logits, Y[ix]) # Calculating loss\n",
        "\n",
        "    # Backward Pass\n",
        "    for p in params:\n",
        "        p.grad = None\n",
        "    loss.backward()\n",
        "\n",
        "    # nudging\n",
        "    lr = lrs[i]\n",
        "    for p in params:\n",
        "        p.data += -lr * p.grad\n",
        "\n",
        "    # track stats\n",
        "    lri.append(lre[i])\n",
        "    lossi.append(loss.item())\n",
        "\n",
        "print(loss.item())"
      ],
      "metadata": {
        "colab": {
          "base_uri": "https://localhost:8080/"
        },
        "id": "d7zZedUMJtzW",
        "outputId": "4a95992e-34ab-49ac-8bfe-8e832e330a29"
      },
      "execution_count": 108,
      "outputs": [
        {
          "output_type": "stream",
          "name": "stdout",
          "text": [
            "7.708298683166504\n"
          ]
        }
      ]
    },
    {
      "cell_type": "code",
      "source": [
        "import matplotlib.pyplot as plt\n",
        "plt.plot(lri, lossi)"
      ],
      "metadata": {
        "colab": {
          "base_uri": "https://localhost:8080/",
          "height": 451
        },
        "id": "6iMxeU8FJ-ni",
        "outputId": "a68c5145-0773-4eca-b6a4-64fe9f9da49d"
      },
      "execution_count": 109,
      "outputs": [
        {
          "output_type": "execute_result",
          "data": {
            "text/plain": [
              "[<matplotlib.lines.Line2D at 0x7ca8c5fc0cd0>]"
            ]
          },
          "metadata": {},
          "execution_count": 109
        },
        {
          "output_type": "display_data",
          "data": {
            "text/plain": [
              "<Figure size 640x480 with 1 Axes>"
            ],
            "image/png": "[encoded data removed]"
          },
          "metadata": {}
        }
      ]
    },
    {
      "cell_type": "code",
      "source": [
        "# so best learning rate exponent is somewhere in the dip\n",
        "# let's go with lre=-1, lri= 0.1\n",
        "# train again with that lr"
      ],
      "metadata": {
        "id": "F_4-efvRMrKx"
      },
      "execution_count": 111,
      "outputs": []
    },
    {
      "cell_type": "code",
      "source": [
        "# Initializing the parameters\n",
        "g = torch.Generator().manual_seed(2147483647)\n",
        "nh = 2 # number of Neurons in the first layer # lookup layer\n",
        "\n",
        "C = torch.randn((27, nh), generator=g, requires_grad=True) # [27, 2]\n",
        "w1 = torch.randn(( nh*block_size , 100), generator=g, requires_grad=True) # [27, 6]\n",
        "b1 = torch.randn((100), generator=g, requires_grad=True)\n",
        "w2 = torch.randn((100, 27), generator=g, requires_grad=True)\n",
        "b2 = torch.randn((27), generator=g, requires_grad=True)\n",
        "\n",
        "params = [C, w1, b1, w2, b2]\n",
        "\n",
        "# Making it learn\n",
        "for i in range(100000):\n",
        "\n",
        "    # minibatch construct\n",
        "    ix = torch.randint(0, X.shape[0], (32, )) # staring num, end num, number of ints\n",
        "    # we are randomly choosing 32 indexes to look into and optimize\n",
        "\n",
        "    # Forward Pass\n",
        "    emb = C[X[ix]] # First Layer: [32, 3, 2]\n",
        "    h = torch.tanh(emb.view(-1, 6) @ w1 + b1) # 2nd Layer: [32, 6] @ [6, 100] = [32, 100]\n",
        "    logits = h @ w2 + b2 # 3rd Layer: [32, 100] @ [100, 27] = [32, 27]\n",
        "    loss = F.cross_entropy(logits, Y[ix]) # Calculating loss\n",
        "\n",
        "    # Backward Pass\n",
        "    for p in params:\n",
        "        p.grad = None\n",
        "    loss.backward()\n",
        "\n",
        "    # nudging\n",
        "    for p in params:\n",
        "        p.data += -0.1 * p.grad\n",
        "\n",
        "print(loss.item())"
      ],
      "metadata": {
        "colab": {
          "base_uri": "https://localhost:8080/"
        },
        "id": "DMVVQkIVM5-u",
        "outputId": "d689fa02-c96e-4ca2-cb3b-505e8e58fb34"
      },
      "execution_count": 112,
      "outputs": [
        {
          "output_type": "stream",
          "name": "stdout",
          "text": [
            "2.40836238861084\n"
          ]
        }
      ]
    },
    {
      "cell_type": "code",
      "source": [
        "# checking loss for complete dataset\n",
        "\n",
        "emb = C[X]\n",
        "h = torch.tanh(emb.view(-1, 6) @ w1 + b1)\n",
        "logits = h @ w2 + b2\n",
        "loss = F.cross_entropy(logits, Y)\n",
        "loss.item()"
      ],
      "metadata": {
        "colab": {
          "base_uri": "https://localhost:8080/"
        },
        "id": "jQDlbFVoNScc",
        "outputId": "c0b1053c-eea6-4b64-9fa6-1737e61a1bd1"
      },
      "execution_count": 113,
      "outputs": [
        {
          "output_type": "execute_result",
          "data": {
            "text/plain": [
              "2.308875322341919"
            ]
          },
          "metadata": {},
          "execution_count": 113
        }
      ]
    },
    {
      "cell_type": "code",
      "source": [
        "# Always better to split the data into 3 sets: train, dev/validation, test\n",
        "# Train: to train the parameters (Eg: Weights & biases)\n",
        "# Dev: to tune the hyperparameters (Eg: number of Neurons in hidden layers)\n",
        "# Test: to test the final loss/accuracy"
      ],
      "metadata": {
        "id": "dn75jsOLNqPF"
      },
      "execution_count": 114,
      "outputs": []
    },
    {
      "cell_type": "code",
      "source": [
        "# After training on Train, evaluate the loss on dev\n",
        "\n",
        "# if loss(train) << loss(dev)\n",
        "    # it means that our model has hypothetically memorized the training data\n",
        "    # that's why it's giving very low loss on train data, but high loss on dev data\n",
        "    # this is called overfitting\n",
        "\n",
        "# if loss(train) ~ loss(dev)\n",
        "    # this is a case of underfitting\n",
        "    # i.e. our model is too small, and we expect to make performance improvements by increasing the parameters\n",
        "    # best way is to increase the number of Neurons in the hidden layer (100 -> 300)\n",
        "    # or we can also increase the layers in our embedding (2 -> 10)\n",
        "    # or we can change the number of characters we are feeding (context 3 -> 4, 5)\n",
        "    # or we can run more training loops with decaying learning rate\n",
        "    # or we can change the batch size (32 -> 64)"
      ],
      "metadata": {
        "id": "QoASRHTGO-sQ"
      },
      "execution_count": 115,
      "outputs": []
    },
    {
      "cell_type": "code",
      "source": [
        "# SAMPLING\n",
        "\n",
        "g = torch.Generator().manual_seed(2147483647 + 10)\n",
        "\n",
        "for _ in range(20):\n",
        "    out = []\n",
        "    context = [0] * block_size\n",
        "\n",
        "    while True:\n",
        "        emb = C[torch.tensor([context])] # [1, block_size, C dimension]\n",
        "        h = torch.tanh(emb.view(1, -1) @ w1 + b1)\n",
        "        logits = h @ w2 + b2\n",
        "        probs = F.softmax(logits, dim=1)\n",
        "        ix = torch.multinomial(probs, num_samples=1, generator=g).item()\n",
        "        context = context[1:] + [ix]\n",
        "        if ix ==0:\n",
        "            break\n",
        "        out.append(ix)\n",
        "    print(''.join(itos[i] for i in out))"
      ],
      "metadata": {
        "colab": {
          "base_uri": "https://localhost:8080/"
        },
        "id": "80g5HPPpSf61",
        "outputId": "daaf1410-98c5-49e4-ea0b-7216849ab3f2"
      },
      "execution_count": 118,
      "outputs": [
        {
          "output_type": "stream",
          "name": "stdout",
          "text": [
            "mora\n",
            "mayah\n",
            "seel\n",
            "ndheyah\n",
            "rethrsiendrlee\n",
            "azeredieliah\n",
            "milie\n",
            "rekeliean\n",
            "nar\n",
            "kayzioh\n",
            "karin\n",
            "shubergsairiel\n",
            "kin\n",
            "reneliph\n",
            "thuofiu\n",
            "zen\n",
            "dar\n",
            "yurue\n",
            "ehs\n",
            "kay\n"
          ]
        }
      ]
    },
    {
      "cell_type": "code",
      "source": [],
      "metadata": {
        "id": "0zdcaCDhTs4z"
      },
      "execution_count": null,
      "outputs": []
    }
  ]
}