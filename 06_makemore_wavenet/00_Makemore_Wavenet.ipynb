{
  "nbformat": 4,
  "nbformat_minor": 0,
  "metadata": {
    "colab": {
      "provenance": []
    },
    "kernelspec": {
      "name": "python3",
      "display_name": "Python 3"
    },
    "language_info": {
      "name": "python"
    }
  },
  "cells": [
    {
      "cell_type": "code",
      "source": [
        "import torch\n",
        "import numpy as np\n",
        "import pandas as pd\n",
        "import sklearn\n",
        "import matplotlib.pyplot as plt\n",
        "%matplotlib inline\n",
        "\n",
        "from sklearn.model_selection import train_test_split\n",
        "import torch.nn.functional as F"
      ],
      "metadata": {
        "id": "HtRkX3czeig7"
      },
      "execution_count": 1,
      "outputs": []
    },
    {
      "cell_type": "code",
      "execution_count": 10,
      "metadata": {
        "id": "xxZCu7WwcQ5N"
      },
      "outputs": [],
      "source": [
        "# Collecting Words\n",
        "path = '/content/drive/MyDrive/Colab Notebooks/AndrejKarpathy_NN_Hero/names.txt'\n",
        "words = open(path, 'r').read().splitlines()\n",
        "\n",
        "# Mapping\n",
        "chars = sorted(list(set(''.join(words))))\n",
        "stoi = {s:i+1 for i,s in enumerate(chars)}\n",
        "stoi['.'] = 0\n",
        "itos = {i:s for s,i in stoi.items()}"
      ]
    },
    {
      "cell_type": "code",
      "source": [
        "block_size = 3 # number of characters as input\n",
        "X, Y = [], []\n",
        "\n",
        "for w in words:\n",
        "    context = [0] * block_size\n",
        "    for ch in w+'.':\n",
        "        ix = stoi[ch]\n",
        "        X.append(context)\n",
        "        Y.append(ix)\n",
        "        context = context[1:] + [ix]\n",
        "\n",
        "X = torch.tensor(X)\n",
        "Y = torch.tensor(Y)\n",
        "\n",
        "# Split the dataset (train: 80%, dev: 10%, test:10%)\n",
        "rs = 2147483647\n",
        "torch.manual_seed(42); # for reproduceability\n",
        "X_train, X_temp, Y_train, Y_temp = train_test_split(X, Y, train_size=0.8, random_state=rs, shuffle=True)\n",
        "X_dev, X_test, Y_dev, Y_test = train_test_split(X_temp, Y_temp, train_size=0.5, random_state=rs, shuffle=True)"
      ],
      "metadata": {
        "id": "tOUQONHSegku"
      },
      "execution_count": 29,
      "outputs": []
    },
    {
      "cell_type": "markdown",
      "source": [
        "### Pytorchify Code: Add more classes and club layers into Sequential"
      ],
      "metadata": {
        "id": "Skda5gcGPYIE"
      }
    },
    {
      "cell_type": "code",
      "source": [
        "class Linear:\n",
        "\n",
        "    def __init__(self, fan_in, fan_out, bias=True):\n",
        "        self.weight = torch.randn((fan_in, fan_out)) / fan_in**0.5\n",
        "        self.bias = torch.zeros(fan_out) if bias else None\n",
        "\n",
        "    def __call__(self, x):\n",
        "        self.out = x @ self.weight\n",
        "        if self.bias is not None:\n",
        "            self.out += self.bias\n",
        "        return self.out\n",
        "\n",
        "    def parameters(self):\n",
        "        return [self.weight] + ([] if self.bias is None else [self.bias])\n",
        "\n",
        "\n",
        "class BatchNorm1d:\n",
        "\n",
        "    def __init__(self, dim, eps=1e-5, momentum=0.1):\n",
        "        self.eps = eps\n",
        "        self.momentum = momentum\n",
        "        self.training = True\n",
        "        # parameters (trained with backprop)\n",
        "        self.gamma = torch.ones(dim)\n",
        "        self.beta = torch.zeros(dim)\n",
        "        # buffers (trained with a running 'momentum update')\n",
        "        self.running_mean = torch.zeros(dim)\n",
        "        self.running_var = torch.ones(dim)\n",
        "\n",
        "    def __call__(self, x):\n",
        "        # calculate the forward pass\n",
        "        if self.training:\n",
        "            xmean = x.mean(0, keepdim=True) # batch mean\n",
        "            xvar = x.var(0, keepdim=True) # batch variance\n",
        "        else:\n",
        "            xmean = self.running_mean\n",
        "            xvar = self.running_var\n",
        "        xhat = (x - xmean) / torch.sqrt(xvar + self.eps) # normalize to unit variance\n",
        "        self.out = self.gamma * xhat + self.beta\n",
        "        # update the buffers\n",
        "        if self.training:\n",
        "            with torch.no_grad():\n",
        "                self.running_mean = (1 - self.momentum) * self.running_mean + self.momentum * xmean\n",
        "                self.running_var = (1 - self.momentum) * self.running_var + self.momentum * xvar\n",
        "        return self.out\n",
        "\n",
        "    def parameters(self):\n",
        "        return [self.gamma, self.beta]\n",
        "\n",
        "class Tanh:\n",
        "    def __call__(self, x):\n",
        "        self.out = torch.tanh(x)\n",
        "        return self.out\n",
        "    def parameters(self):\n",
        "        return []\n",
        "\n",
        "class Embedding:\n",
        "    def __init__(self, num_embeddings, embedding_dim):\n",
        "        self.weight = torch.randn((num_embeddings, embedding_dim))\n",
        "\n",
        "    def __call__(self, IX):\n",
        "        self.out = self.weight[IX]\n",
        "        return self.out\n",
        "\n",
        "    def parameters(self):\n",
        "        return [self.weight]\n",
        "\n",
        "class Flatten:\n",
        "    def __call__(self, x):\n",
        "        self.out = x.view(x.shape[0], -1)\n",
        "        return self.out\n",
        "\n",
        "    def parameters(self):\n",
        "        return []\n",
        "\n",
        "# Clubbing Multiple Layers into a Container\n",
        "\n",
        "class Sequential:\n",
        "\n",
        "    def __init__(self, layers):\n",
        "        self.layers = layers\n",
        "\n",
        "    def __call__(self, x):\n",
        "        for layer in self.layers:\n",
        "            x = layer(x)\n",
        "        self.out = x\n",
        "        return self.out\n",
        "\n",
        "    def parameters(self):\n",
        "        return [p for layer in self.layers for p in layer.parameters()]"
      ],
      "metadata": {
        "id": "lNXHJEIxu98w"
      },
      "execution_count": 49,
      "outputs": []
    },
    {
      "cell_type": "code",
      "source": [
        "n_embd = 10 # dimensionality of the embedding vectors\n",
        "n_hidden = 200 # neurons in the hidden layer\n",
        "vocab_size = 27\n",
        "\n",
        "model = Sequential([\n",
        "    Embedding(vocab_size, n_embd),\n",
        "    Flatten(),\n",
        "    Linear(n_embd * block_size, n_hidden, bias=False), BatchNorm1d(n_hidden), Tanh(),\n",
        "    Linear(n_hidden, vocab_size),\n",
        "])\n",
        "\n",
        "with torch.no_grad():\n",
        "    model.layers[-1].weight *= 0.1 # make last layer less confident\n",
        "\n",
        "parameters = model.parameters()\n",
        "print(sum(p.nelement() for p in parameters))\n",
        "\n",
        "for p in parameters:\n",
        "    p.requires_grad = True"
      ],
      "metadata": {
        "colab": {
          "base_uri": "https://localhost:8080/"
        },
        "id": "CRU1qK02vqrC",
        "outputId": "e02e3453-d3f2-4e0d-a3b8-f680aea0301d"
      },
      "execution_count": 50,
      "outputs": [
        {
          "output_type": "stream",
          "name": "stdout",
          "text": [
            "12097\n"
          ]
        }
      ]
    },
    {
      "cell_type": "code",
      "source": [
        "batch_size = 32\n",
        "itrns = 200000\n",
        "lossi = []\n",
        "\n",
        "for i in range(itrns):\n",
        "    # minibatch\n",
        "    ix = torch.randint(low=0, high=X_train.shape[0], size=(batch_size, ))\n",
        "    Xb, Yb = X_train[ix], Y_train[ix]\n",
        "\n",
        "    # forward pass\n",
        "    logits = model(Xb)\n",
        "    loss = F.cross_entropy(logits, Yb)\n",
        "\n",
        "    # backward pass\n",
        "    for p in parameters:\n",
        "        p.grad = None\n",
        "    loss.backward()\n",
        "\n",
        "    # nudge\n",
        "    lr = 0.1 if i < 150000 else 0.01\n",
        "    for p in parameters:\n",
        "        p.data += -lr * p.grad\n",
        "\n",
        "    if i % 10000 == 0:\n",
        "        print(f'Loss on iteration {i}: {loss.item()} | Learning Rate: {lr}')\n",
        "    lossi.append(loss.log10().item())\n",
        "\n",
        "print(\"Final Loss: \", loss.item())"
      ],
      "metadata": {
        "colab": {
          "base_uri": "https://localhost:8080/"
        },
        "id": "kDX__JD1xk_Q",
        "outputId": "885ba763-1e25-45c5-c1a6-5bee5c06b1bc"
      },
      "execution_count": 51,
      "outputs": [
        {
          "output_type": "stream",
          "name": "stdout",
          "text": [
            "Loss on iteration 0: 3.2935924530029297 | Learning Rate: 0.1\n",
            "Loss on iteration 10000: 2.29407000541687 | Learning Rate: 0.1\n",
            "Loss on iteration 20000: 1.7902637720108032 | Learning Rate: 0.1\n",
            "Loss on iteration 30000: 2.1642794609069824 | Learning Rate: 0.1\n",
            "Loss on iteration 40000: 2.1873393058776855 | Learning Rate: 0.1\n",
            "Loss on iteration 50000: 2.114886999130249 | Learning Rate: 0.1\n",
            "Loss on iteration 60000: 2.0209755897521973 | Learning Rate: 0.1\n",
            "Loss on iteration 70000: 2.0486178398132324 | Learning Rate: 0.1\n",
            "Loss on iteration 80000: 2.5024943351745605 | Learning Rate: 0.1\n",
            "Loss on iteration 90000: 2.294386386871338 | Learning Rate: 0.1\n",
            "Loss on iteration 100000: 1.882494330406189 | Learning Rate: 0.1\n",
            "Loss on iteration 110000: 2.1629228591918945 | Learning Rate: 0.1\n",
            "Loss on iteration 120000: 2.0981831550598145 | Learning Rate: 0.1\n",
            "Loss on iteration 130000: 1.984136700630188 | Learning Rate: 0.1\n",
            "Loss on iteration 140000: 2.0123836994171143 | Learning Rate: 0.1\n",
            "Loss on iteration 150000: 2.3687987327575684 | Learning Rate: 0.01\n",
            "Loss on iteration 160000: 1.7723197937011719 | Learning Rate: 0.01\n",
            "Loss on iteration 170000: 2.4408366680145264 | Learning Rate: 0.01\n",
            "Loss on iteration 180000: 2.7072103023529053 | Learning Rate: 0.01\n",
            "Loss on iteration 190000: 2.090836763381958 | Learning Rate: 0.01\n",
            "Final Loss:  2.1815147399902344\n"
          ]
        }
      ]
    },
    {
      "cell_type": "code",
      "source": [
        "# put layers into eval mode\n",
        "for layer in model.layers:\n",
        "    layer.training = False\n",
        "\n",
        "# DEV & TEST LOSS\n",
        "@torch.no_grad() # decorator to disable grad tracking for any vars inside the function\n",
        "def split_loss(split):\n",
        "    x, y = {\n",
        "        'train': (X_train, Y_train),\n",
        "        'val': (X_dev, Y_dev),\n",
        "        'test': (X_test, Y_test)\n",
        "    }[split]\n",
        "    logits = model(x)\n",
        "    loss = F.cross_entropy(logits, y)\n",
        "    print(split, loss.item())\n",
        "\n",
        "split_loss('val')\n",
        "split_loss('test')"
      ],
      "metadata": {
        "colab": {
          "base_uri": "https://localhost:8080/"
        },
        "id": "6j8_TPBqzESR",
        "outputId": "a0250113-dabb-4aee-e5f7-4b6a401ce244"
      },
      "execution_count": 53,
      "outputs": [
        {
          "output_type": "stream",
          "name": "stdout",
          "text": [
            "val 2.114558219909668\n",
            "test 2.1130573749542236\n"
          ]
        }
      ]
    },
    {
      "cell_type": "code",
      "source": [
        "g = torch.Generator().manual_seed(2147483647 + 10)\n",
        "\n",
        "for _ in range(20):\n",
        "\n",
        "    out = []\n",
        "    context = [0] * block_size # initialize with all ...\n",
        "    while True:\n",
        "        logits = model(torch.tensor([context]))\n",
        "        probs = F.softmax(logits, dim=1)\n",
        "        ix = torch.multinomial(probs, num_samples=1, generator=g).item()\n",
        "        context = context[1:] + [ix]\n",
        "        out.append(ix)\n",
        "        if ix == 0:\n",
        "            break\n",
        "\n",
        "    print(''.join(itos[i] for i in out))"
      ],
      "metadata": {
        "colab": {
          "base_uri": "https://localhost:8080/"
        },
        "id": "XlcsnXvnzaw1",
        "outputId": "8c47346c-ff77-41cc-ef4e-e944d33aae5f"
      },
      "execution_count": 54,
      "outputs": [
        {
          "output_type": "stream",
          "name": "stdout",
          "text": [
            "mona.\n",
            "kayah.\n",
            "seel.\n",
            "ndhonalee.\n",
            "thruthadrieg.\n",
            "azeled.\n",
            "elin.\n",
            "shi.\n",
            "jen.\n",
            "eden.\n",
            "estanaraelyzion.\n",
            "kamin.\n",
            "shub.\n",
            "rishiriel.\n",
            "kin.\n",
            "renlynn.\n",
            "novana.\n",
            "ubakynder.\n",
            "yarue.\n",
            "eli.\n"
          ]
        }
      ]
    },
    {
      "cell_type": "code",
      "source": [
        "plt.plot(lossi)"
      ],
      "metadata": {
        "colab": {
          "base_uri": "https://localhost:8080/",
          "height": 447
        },
        "id": "4B5gfhku0ZwH",
        "outputId": "c7d38248-bbc0-4636-d958-481c01537bb8"
      },
      "execution_count": 55,
      "outputs": [
        {
          "output_type": "execute_result",
          "data": {
            "text/plain": [
              "[<matplotlib.lines.Line2D at 0x7e159da05c50>]"
            ]
          },
          "metadata": {},
          "execution_count": 55
        },
        {
          "output_type": "display_data",
          "data": {
            "text/plain": [
              "<Figure size 640x480 with 1 Axes>"
            ],
            "image/png": "[encoded data removed]"
          },
          "metadata": {}
        }
      ]
    },
    {
      "cell_type": "code",
      "source": [
        "# the loss looks too oscillating, no clear pattern\n",
        "# let's take the mean of each 1000 iterations's loss logs\n",
        "\n",
        "plt.plot(torch.tensor(lossi).view(-1, 1000).mean(1));"
      ],
      "metadata": {
        "colab": {
          "base_uri": "https://localhost:8080/",
          "height": 430
        },
        "id": "F3blqYjxF4Eh",
        "outputId": "e0784251-2f3f-482a-e730-afaa95adeec9"
      },
      "execution_count": 56,
      "outputs": [
        {
          "output_type": "display_data",
          "data": {
            "text/plain": [
              "<Figure size 640x480 with 1 Axes>"
            ],
            "image/png": "[encoded data removed]"
          },
          "metadata": {}
        }
      ]
    },
    {
      "cell_type": "markdown",
      "source": [
        "### Dilated Causal Convolutional layers\n",
        "\n",
        "Let's use 8 characters as input, and instead of squashing them into an equation in a single layer, let's do it progressively, 2 characters at a time\n",
        "\n",
        "![](https://external-content.duckduckgo.com/iu/?u=https%3A%2F%2Ftse4.mm.bing.net%2Fth%2Fid%2FOIP.SwYimoeSeEA2vxum9bP_jgHaDl%3Fr%3D0%26pid%3DApi&f=1&ipt=0cd9b51e641c98dbd5df9a0a242822b0bb0aad3b3ebd11ea6112b4b04c3102ae&ipo=images)"
      ],
      "metadata": {
        "id": "FbhZXbQuOSK3"
      }
    },
    {
      "cell_type": "code",
      "source": [
        "block_size = 8 # number of characters as input\n",
        "X, Y = [], []\n",
        "\n",
        "for w in words:\n",
        "    context = [0] * block_size\n",
        "    for ch in w+'.':\n",
        "        ix = stoi[ch]\n",
        "        X.append(context)\n",
        "        Y.append(ix)\n",
        "        context = context[1:] + [ix]\n",
        "\n",
        "X = torch.tensor(X)\n",
        "Y = torch.tensor(Y)\n",
        "\n",
        "# Split the dataset (train: 80%, dev: 10%, test:10%)\n",
        "rs = 2147483647\n",
        "torch.manual_seed(42); # for reproduceability\n",
        "X_train, X_temp, Y_train, Y_temp = train_test_split(X, Y, train_size=0.8, random_state=rs, shuffle=True)\n",
        "X_dev, X_test, Y_dev, Y_test = train_test_split(X_temp, Y_temp, train_size=0.5, random_state=rs, shuffle=True)"
      ],
      "metadata": {
        "id": "9wNEqTG5GHSz"
      },
      "execution_count": 57,
      "outputs": []
    },
    {
      "cell_type": "code",
      "source": [
        "n_embd = 10 # dimensionality of the embedding vectors\n",
        "n_hidden = 200 # neurons in the hidden layer\n",
        "vocab_size = 27\n",
        "\n",
        "model = Sequential([\n",
        "    Embedding(vocab_size, n_embd),\n",
        "    Flatten(),\n",
        "    Linear(n_embd * block_size, n_hidden, bias=False), BatchNorm1d(n_hidden), Tanh(),\n",
        "    Linear(n_hidden, vocab_size),\n",
        "])\n",
        "\n",
        "with torch.no_grad():\n",
        "    model.layers[-1].weight *= 0.1 # make last layer less confident\n",
        "\n",
        "parameters = model.parameters()\n",
        "print(sum(p.nelement() for p in parameters))\n",
        "\n",
        "for p in parameters:\n",
        "    p.requires_grad = True"
      ],
      "metadata": {
        "colab": {
          "base_uri": "https://localhost:8080/"
        },
        "outputId": "d56b861c-4b8c-443e-f913-c1f10a6c8407",
        "id": "WhvfGYkHPCd0"
      },
      "execution_count": 60,
      "outputs": [
        {
          "output_type": "stream",
          "name": "stdout",
          "text": [
            "22097\n"
          ]
        }
      ]
    },
    {
      "cell_type": "code",
      "source": [
        "batch_size = 32\n",
        "itrns = 200000\n",
        "lossi = []\n",
        "\n",
        "for i in range(itrns):\n",
        "    # minibatch\n",
        "    ix = torch.randint(low=0, high=X_train.shape[0], size=(batch_size, ))\n",
        "    Xb, Yb = X_train[ix], Y_train[ix]\n",
        "\n",
        "    # forward pass\n",
        "    logits = model(Xb)\n",
        "    loss = F.cross_entropy(logits, Yb)\n",
        "\n",
        "    # backward pass\n",
        "    for p in parameters:\n",
        "        p.grad = None\n",
        "    loss.backward()\n",
        "\n",
        "    # nudge\n",
        "    lr = 0.1 if i < 150000 else 0.01\n",
        "    for p in parameters:\n",
        "        p.data += -lr * p.grad\n",
        "\n",
        "    if i % 10000 == 0:\n",
        "        print(f'Loss on iteration {i}: {loss.item()} | Learning Rate: {lr}')\n",
        "    lossi.append(loss.log10().item())\n",
        "\n",
        "print(\"Final Loss: \", loss.item())"
      ],
      "metadata": {
        "colab": {
          "base_uri": "https://localhost:8080/"
        },
        "outputId": "b48381f2-e323-4b84-b80a-aa602639b394",
        "id": "hNvwn8OBPCd1"
      },
      "execution_count": 61,
      "outputs": [
        {
          "output_type": "stream",
          "name": "stdout",
          "text": [
            "Loss on iteration 0: 3.3169336318969727 | Learning Rate: 0.1\n",
            "Loss on iteration 10000: 2.5022454261779785 | Learning Rate: 0.1\n",
            "Loss on iteration 20000: 2.447808027267456 | Learning Rate: 0.1\n",
            "Loss on iteration 30000: 2.334378480911255 | Learning Rate: 0.1\n",
            "Loss on iteration 40000: 2.164828062057495 | Learning Rate: 0.1\n",
            "Loss on iteration 50000: 2.0723536014556885 | Learning Rate: 0.1\n",
            "Loss on iteration 60000: 2.169372797012329 | Learning Rate: 0.1\n",
            "Loss on iteration 70000: 1.9889376163482666 | Learning Rate: 0.1\n",
            "Loss on iteration 80000: 1.8500629663467407 | Learning Rate: 0.1\n",
            "Loss on iteration 90000: 1.6178162097930908 | Learning Rate: 0.1\n",
            "Loss on iteration 100000: 1.8165514469146729 | Learning Rate: 0.1\n",
            "Loss on iteration 110000: 2.108165740966797 | Learning Rate: 0.1\n",
            "Loss on iteration 120000: 2.414097547531128 | Learning Rate: 0.1\n",
            "Loss on iteration 130000: 2.149364709854126 | Learning Rate: 0.1\n",
            "Loss on iteration 140000: 2.1517157554626465 | Learning Rate: 0.1\n",
            "Loss on iteration 150000: 2.1227049827575684 | Learning Rate: 0.01\n",
            "Loss on iteration 160000: 2.020482063293457 | Learning Rate: 0.01\n",
            "Loss on iteration 170000: 1.8329007625579834 | Learning Rate: 0.01\n",
            "Loss on iteration 180000: 2.3748974800109863 | Learning Rate: 0.01\n",
            "Loss on iteration 190000: 2.1712260246276855 | Learning Rate: 0.01\n",
            "Final Loss:  2.288226842880249\n"
          ]
        }
      ]
    },
    {
      "cell_type": "code",
      "source": [
        "# put layers into eval mode\n",
        "for layer in model.layers:\n",
        "    layer.training = False\n",
        "\n",
        "# DEV & TEST LOSS\n",
        "@torch.no_grad() # decorator to disable grad tracking for any vars inside the function\n",
        "def split_loss(split):\n",
        "    x, y = {\n",
        "        'train': (X_train, Y_train),\n",
        "        'val': (X_dev, Y_dev),\n",
        "        'test': (X_test, Y_test)\n",
        "    }[split]\n",
        "    logits = model(x)\n",
        "    loss = F.cross_entropy(logits, y)\n",
        "    print(split, loss.item())\n",
        "\n",
        "split_loss('val')\n",
        "split_loss('test')"
      ],
      "metadata": {
        "colab": {
          "base_uri": "https://localhost:8080/"
        },
        "outputId": "b694b251-9a97-4bf4-f936-1ed0707ba57a",
        "id": "YenY7g9QPCd1"
      },
      "execution_count": 62,
      "outputs": [
        {
          "output_type": "stream",
          "name": "stdout",
          "text": [
            "val 2.0325732231140137\n",
            "test 2.032092809677124\n"
          ]
        }
      ]
    },
    {
      "cell_type": "code",
      "source": [
        "g = torch.Generator().manual_seed(2147483647 + 10)\n",
        "\n",
        "for _ in range(20):\n",
        "\n",
        "    out = []\n",
        "    context = [0] * block_size # initialize with all ...\n",
        "    while True:\n",
        "        logits = model(torch.tensor([context]))\n",
        "        probs = F.softmax(logits, dim=1)\n",
        "        ix = torch.multinomial(probs, num_samples=1, generator=g).item()\n",
        "        context = context[1:] + [ix]\n",
        "        out.append(ix)\n",
        "        if ix == 0:\n",
        "            break\n",
        "\n",
        "    print(''.join(itos[i] for i in out))"
      ],
      "metadata": {
        "colab": {
          "base_uri": "https://localhost:8080/"
        },
        "outputId": "046e1c17-ea74-4de4-9838-570baa64ade5",
        "id": "kWj6S1AMPCd2"
      },
      "execution_count": 63,
      "outputs": [
        {
          "output_type": "stream",
          "name": "stdout",
          "text": [
            "mohani.\n",
            "yazziel.\n",
            "madyn.\n",
            "alareth.\n",
            "stendra.\n",
            "grazeem.\n",
            "melin.\n",
            "shyloe.\n",
            "leighsen.\n",
            "anarielle.\n",
            "malaia.\n",
            "noshaber.\n",
            "shiriel.\n",
            "kindreel.\n",
            "konnie.\n",
            "casuma.\n",
            "geda.\n",
            "jamell.\n",
            "elsyla.\n",
            "jayson.\n"
          ]
        }
      ]
    },
    {
      "cell_type": "markdown",
      "source": [
        "Performance Log\n",
        "- Original (context: 3 chars + 200 hidden neurons, 12K params): train- 2.18, val-2.114, test-2.113\n",
        "- context: 3->8 (22k params): train-2.28, val-2.03, test-2.03"
      ],
      "metadata": {
        "id": "dJ9_wxDmRGIU"
      }
    },
    {
      "cell_type": "code",
      "source": [
        "# We want to club together 2 characters in each level\n",
        "# let's take an example of what we are currently doing in our Linear layer\n",
        "# eg: take 4 inputs, 8 characters * 10 dimensional vectors = 80 dimensions, 200 hidden neurons in first layer\n",
        "emb = torch.randn(4, 80)\n",
        "wet = torch.randn(80, 200)\n",
        "bis = torch.randn(200)\n",
        "(emb @ wet + bis).shape"
      ],
      "metadata": {
        "colab": {
          "base_uri": "https://localhost:8080/"
        },
        "id": "VQ1SDy_GRn2a",
        "outputId": "728735d4-ab7d-4db7-9b97-c9066f058acc"
      },
      "execution_count": 65,
      "outputs": [
        {
          "output_type": "execute_result",
          "data": {
            "text/plain": [
              "torch.Size([4, 200])"
            ]
          },
          "metadata": {},
          "execution_count": 65
        }
      ]
    },
    {
      "cell_type": "code",
      "source": [
        "# instead of squashing like that, now we will take only a combination of 2 characters, 20 dimensional vectors in each layer\n",
        "emb = torch.randn(4, 8, 10)\n",
        "\n",
        "l1 = (emb.view(4, -1, 20) @ torch.randn(20, 200) + torch.randn(200))\n",
        "print('l1: ', l1.shape)"
      ],
      "metadata": {
        "colab": {
          "base_uri": "https://localhost:8080/"
        },
        "id": "eXy53ySNVcf4",
        "outputId": "38c551cd-36c6-4289-d9b7-40d9a0b55d91"
      },
      "execution_count": 70,
      "outputs": [
        {
          "output_type": "stream",
          "name": "stdout",
          "text": [
            "l1:  torch.Size([4, 4, 200])\n"
          ]
        }
      ]
    },
    {
      "cell_type": "code",
      "source": [
        "class Linear:\n",
        "\n",
        "    def __init__(self, fan_in, fan_out, bias=True):\n",
        "        self.weight = torch.randn((fan_in, fan_out)) / fan_in**0.5\n",
        "        self.bias = torch.zeros(fan_out) if bias else None\n",
        "\n",
        "    def __call__(self, x):\n",
        "        self.out = x @ self.weight\n",
        "        if self.bias is not None:\n",
        "            self.out += self.bias\n",
        "        return self.out\n",
        "\n",
        "    def parameters(self):\n",
        "        return [self.weight] + ([] if self.bias is None else [self.bias])\n",
        "\n",
        "\n",
        "class BatchNorm1d:\n",
        "\n",
        "    def __init__(self, dim, eps=1e-5, momentum=0.1):\n",
        "        self.eps = eps\n",
        "        self.momentum = momentum\n",
        "        self.training = True\n",
        "        # parameters (trained with backprop)\n",
        "        self.gamma = torch.ones(dim)\n",
        "        self.beta = torch.zeros(dim)\n",
        "        # buffers (trained with a running 'momentum update')\n",
        "        self.running_mean = torch.zeros(dim)\n",
        "        self.running_var = torch.ones(dim)\n",
        "\n",
        "    def __call__(self, x):\n",
        "        # calculate the forward pass\n",
        "        if self.training:\n",
        "            xmean = x.mean(0, keepdim=True) # batch mean\n",
        "            xvar = x.var(0, keepdim=True) # batch variance\n",
        "        else:\n",
        "            xmean = self.running_mean\n",
        "            xvar = self.running_var\n",
        "        xhat = (x - xmean) / torch.sqrt(xvar + self.eps) # normalize to unit variance\n",
        "        self.out = self.gamma * xhat + self.beta\n",
        "        # update the buffers\n",
        "        if self.training:\n",
        "            with torch.no_grad():\n",
        "                self.running_mean = (1 - self.momentum) * self.running_mean + self.momentum * xmean\n",
        "                self.running_var = (1 - self.momentum) * self.running_var + self.momentum * xvar\n",
        "        return self.out\n",
        "\n",
        "    def parameters(self):\n",
        "        return [self.gamma, self.beta]\n",
        "\n",
        "class Tanh:\n",
        "    def __call__(self, x):\n",
        "        self.out = torch.tanh(x)\n",
        "        return self.out\n",
        "    def parameters(self):\n",
        "        return []\n",
        "\n",
        "class Embedding:\n",
        "    def __init__(self, num_embeddings, embedding_dim):\n",
        "        self.weight = torch.randn((num_embeddings, embedding_dim))\n",
        "\n",
        "    def __call__(self, IX):\n",
        "        self.out = self.weight[IX]\n",
        "        return self.out\n",
        "\n",
        "    def parameters(self):\n",
        "        return [self.weight]\n",
        "\n",
        "class FlattenConsecutiveN:\n",
        "\n",
        "    def __init__(self, n):\n",
        "        self.n = n\n",
        "\n",
        "    def __call__(self, x):\n",
        "        B, T, C = x.shape\n",
        "        x = x.view(B, T//self.n, C * self.n)\n",
        "        if x.shape[1] == 1:\n",
        "            x = x.squeeze(1)\n",
        "        self.out = x\n",
        "        return self.out\n",
        "\n",
        "    def parameters(self):\n",
        "        return []\n",
        "\n",
        "# Clubbing Multiple Layers into a Container\n",
        "\n",
        "class Sequential:\n",
        "\n",
        "    def __init__(self, layers):\n",
        "        self.layers = layers\n",
        "\n",
        "    def __call__(self, x):\n",
        "        for layer in self.layers:\n",
        "            x = layer(x)\n",
        "        self.out = x\n",
        "        return self.out\n",
        "\n",
        "    def parameters(self):\n",
        "        return [p for layer in self.layers for p in layer.parameters()]"
      ],
      "metadata": {
        "id": "4jZAtJhtWO6S"
      },
      "execution_count": 74,
      "outputs": []
    },
    {
      "cell_type": "code",
      "source": [
        "n_embd = 10 # dimensionality of the embedding vectors\n",
        "n_hidden = 200 # neurons in the hidden layer\n",
        "vocab_size = 27\n",
        "\n",
        "model = Sequential([\n",
        "    Embedding(vocab_size, n_embd), # 4, 8, 10\n",
        "    FlattenConsecutiveN(block_size), # 4, 80\n",
        "    Linear(n_embd * block_size, n_hidden, bias=False), BatchNorm1d(n_hidden), Tanh(),\n",
        "    Linear(n_hidden, vocab_size),\n",
        "])\n",
        "\n",
        "with torch.no_grad():\n",
        "    model.layers[-1].weight *= 0.1 # make last layer less confident\n",
        "\n",
        "parameters = model.parameters()\n",
        "print(sum(p.nelement() for p in parameters))\n",
        "\n",
        "for p in parameters:\n",
        "    p.requires_grad = True"
      ],
      "metadata": {
        "colab": {
          "base_uri": "https://localhost:8080/"
        },
        "outputId": "7a9bf2e4-a72e-45aa-e6a5-84afa371eaaa",
        "id": "t1982FMUZP19"
      },
      "execution_count": 75,
      "outputs": [
        {
          "output_type": "stream",
          "name": "stdout",
          "text": [
            "22097\n"
          ]
        }
      ]
    },
    {
      "cell_type": "code",
      "source": [
        "ix = torch.randint(low=0, high=X_train.shape[0], size=(4, ))\n",
        "Xb, Yb = X_train[ix], Y_train[ix]\n",
        "logits = model(Xb)\n",
        "\n",
        "print(Xb.shape)\n",
        "Xb"
      ],
      "metadata": {
        "colab": {
          "base_uri": "https://localhost:8080/"
        },
        "id": "RyrGBDP-aNTE",
        "outputId": "7d1de2f1-7549-4391-820d-762dc32ba7c5"
      },
      "execution_count": 76,
      "outputs": [
        {
          "output_type": "stream",
          "name": "stdout",
          "text": [
            "torch.Size([4, 8])\n"
          ]
        },
        {
          "output_type": "execute_result",
          "data": {
            "text/plain": [
              "tensor([[ 0,  0,  0, 18,  8,  5, 20, 20],\n",
              "        [ 0,  0,  0,  0,  0,  0,  0, 20],\n",
              "        [ 0,  0,  0,  0,  0,  0,  1, 14],\n",
              "        [ 0,  0,  0, 19, 15, 14,  1, 13]])"
            ]
          },
          "metadata": {},
          "execution_count": 76
        }
      ]
    },
    {
      "cell_type": "code",
      "source": [
        "for layer in model.layers:\n",
        "    print(layer.__class__.__name__, ':', tuple(layer.out.shape))"
      ],
      "metadata": {
        "colab": {
          "base_uri": "https://localhost:8080/"
        },
        "id": "M7HXGvs-Z2-6",
        "outputId": "40153fff-408d-41cc-8dd4-4c92495aa6bd"
      },
      "execution_count": 77,
      "outputs": [
        {
          "output_type": "stream",
          "name": "stdout",
          "text": [
            "Embedding : (4, 8, 10)\n",
            "FlattenConsecutiveN : (4, 80)\n",
            "Linear : (4, 200)\n",
            "BatchNorm1d : (4, 200)\n",
            "Tanh : (4, 200)\n",
            "Linear : (4, 27)\n"
          ]
        }
      ]
    },
    {
      "cell_type": "markdown",
      "source": [
        "#### Update the consecutive N size"
      ],
      "metadata": {
        "id": "4bz3XlRAaj14"
      }
    },
    {
      "cell_type": "code",
      "source": [
        "n_embd = 10 # dimensionality of the embedding vectors\n",
        "n_hidden = 68 # neurons in the hidden layer\n",
        "vocab_size = 27\n",
        "\n",
        "model = Sequential([\n",
        "    Embedding(vocab_size, n_embd), # 4, 8, 10\n",
        "    FlattenConsecutiveN(2), Linear(n_embd * 2, n_hidden, bias=False), BatchNorm1d(n_hidden), Tanh(),\n",
        "    FlattenConsecutiveN(2), Linear(n_hidden * 2, n_hidden, bias=False), BatchNorm1d(n_hidden), Tanh(),\n",
        "    FlattenConsecutiveN(2), Linear(n_hidden * 2, n_hidden, bias=False), BatchNorm1d(n_hidden), Tanh(),\n",
        "    Linear(n_hidden, vocab_size),\n",
        "])\n",
        "\n",
        "with torch.no_grad():\n",
        "    model.layers[-1].weight *= 0.1 # make last layer less confident\n",
        "\n",
        "parameters = model.parameters()\n",
        "print(sum(p.nelement() for p in parameters))\n",
        "\n",
        "for p in parameters:\n",
        "    p.requires_grad = True"
      ],
      "metadata": {
        "colab": {
          "base_uri": "https://localhost:8080/"
        },
        "id": "MUGIwXZfaiuw",
        "outputId": "ab48548a-6304-4ea7-869f-41f9b79db5db"
      },
      "execution_count": 94,
      "outputs": [
        {
          "output_type": "stream",
          "name": "stdout",
          "text": [
            "22397\n"
          ]
        }
      ]
    },
    {
      "cell_type": "code",
      "source": [
        "ix = torch.randint(low=0, high=X_train.shape[0], size=(4, ))\n",
        "Xb, Yb = X_train[ix], Y_train[ix]\n",
        "logits = model(Xb)\n",
        "\n",
        "print(Xb.shape)\n",
        "Xb"
      ],
      "metadata": {
        "colab": {
          "base_uri": "https://localhost:8080/"
        },
        "id": "DlHSibGRaw8K",
        "outputId": "795444a4-4ef9-4fd1-a5cf-f6277d063fee"
      },
      "execution_count": 95,
      "outputs": [
        {
          "output_type": "stream",
          "name": "stdout",
          "text": [
            "torch.Size([4, 8])\n"
          ]
        },
        {
          "output_type": "execute_result",
          "data": {
            "text/plain": [
              "tensor([[ 0,  0,  0,  0,  0,  0,  0,  0],\n",
              "        [ 0,  0,  0, 10,  1, 13,  9, 12],\n",
              "        [ 0,  0,  0,  0,  0,  0,  0,  0],\n",
              "        [ 0,  0,  0,  0,  9, 25,  1, 14]])"
            ]
          },
          "metadata": {},
          "execution_count": 95
        }
      ]
    },
    {
      "cell_type": "code",
      "source": [
        "for layer in model.layers:\n",
        "    print(layer.__class__.__name__, ':', tuple(layer.out.shape))"
      ],
      "metadata": {
        "colab": {
          "base_uri": "https://localhost:8080/"
        },
        "id": "6ZvJRXXba0np",
        "outputId": "30cd73c7-2b17-437a-b0b8-3d55297c0288"
      },
      "execution_count": 96,
      "outputs": [
        {
          "output_type": "stream",
          "name": "stdout",
          "text": [
            "Embedding : (4, 8, 10)\n",
            "FlattenConsecutiveN : (4, 4, 20)\n",
            "Linear : (4, 4, 68)\n",
            "BatchNorm1d : (4, 4, 68)\n",
            "Tanh : (4, 4, 68)\n",
            "FlattenConsecutiveN : (4, 2, 136)\n",
            "Linear : (4, 2, 68)\n",
            "BatchNorm1d : (4, 2, 68)\n",
            "Tanh : (4, 2, 68)\n",
            "FlattenConsecutiveN : (4, 136)\n",
            "Linear : (4, 68)\n",
            "BatchNorm1d : (4, 68)\n",
            "Tanh : (4, 68)\n",
            "Linear : (4, 27)\n"
          ]
        }
      ]
    },
    {
      "cell_type": "code",
      "source": [
        "batch_size = 32\n",
        "itrns = 200000\n",
        "lossi = []\n",
        "\n",
        "for i in range(itrns):\n",
        "    # minibatch\n",
        "    ix = torch.randint(low=0, high=X_train.shape[0], size=(batch_size, ))\n",
        "    Xb, Yb = X_train[ix], Y_train[ix]\n",
        "\n",
        "    # forward pass\n",
        "    logits = model(Xb)\n",
        "    loss = F.cross_entropy(logits, Yb)\n",
        "\n",
        "    # backward pass\n",
        "    for p in parameters:\n",
        "        p.grad = None\n",
        "    loss.backward()\n",
        "\n",
        "    # nudge\n",
        "    lr = 0.1 if i < 150000 else 0.01\n",
        "    for p in parameters:\n",
        "        p.data += -lr * p.grad\n",
        "\n",
        "    if i % 10000 == 0:\n",
        "        print(f'Loss on iteration {i}: {loss.item()} | Learning Rate: {lr}')\n",
        "    lossi.append(loss.log10().item())\n",
        "\n",
        "print(\"Final Loss: \", loss.item())"
      ],
      "metadata": {
        "colab": {
          "base_uri": "https://localhost:8080/"
        },
        "outputId": "f0209c56-3298-4c6f-d5bd-062f7727d8a6",
        "id": "L9ghR9D6ZP19"
      },
      "execution_count": 97,
      "outputs": [
        {
          "output_type": "stream",
          "name": "stdout",
          "text": [
            "Loss on iteration 0: 3.2879951000213623 | Learning Rate: 0.1\n",
            "Loss on iteration 10000: 1.9877878427505493 | Learning Rate: 0.1\n",
            "Loss on iteration 20000: 1.6482698917388916 | Learning Rate: 0.1\n",
            "Loss on iteration 30000: 2.16200852394104 | Learning Rate: 0.1\n",
            "Loss on iteration 40000: 1.9285345077514648 | Learning Rate: 0.1\n",
            "Loss on iteration 50000: 2.2006118297576904 | Learning Rate: 0.1\n",
            "Loss on iteration 60000: 1.6384074687957764 | Learning Rate: 0.1\n",
            "Loss on iteration 70000: 2.066401481628418 | Learning Rate: 0.1\n",
            "Loss on iteration 80000: 1.9437100887298584 | Learning Rate: 0.1\n",
            "Loss on iteration 90000: 2.096543788909912 | Learning Rate: 0.1\n",
            "Loss on iteration 100000: 1.828500509262085 | Learning Rate: 0.1\n",
            "Loss on iteration 110000: 1.9100549221038818 | Learning Rate: 0.1\n",
            "Loss on iteration 120000: 2.579824447631836 | Learning Rate: 0.1\n",
            "Loss on iteration 130000: 2.1416876316070557 | Learning Rate: 0.1\n",
            "Loss on iteration 140000: 2.4631359577178955 | Learning Rate: 0.1\n",
            "Loss on iteration 150000: 2.6366991996765137 | Learning Rate: 0.01\n",
            "Loss on iteration 160000: 1.9873230457305908 | Learning Rate: 0.01\n",
            "Loss on iteration 170000: 2.070669651031494 | Learning Rate: 0.01\n",
            "Loss on iteration 180000: 1.4551469087600708 | Learning Rate: 0.01\n",
            "Loss on iteration 190000: 1.6939332485198975 | Learning Rate: 0.01\n",
            "Final Loss:  2.167942762374878\n"
          ]
        }
      ]
    },
    {
      "cell_type": "code",
      "source": [
        "# put layers into eval mode\n",
        "for layer in model.layers:\n",
        "    layer.training = False\n",
        "\n",
        "# DEV & TEST LOSS\n",
        "@torch.no_grad() # decorator to disable grad tracking for any vars inside the function\n",
        "def split_loss(split):\n",
        "    x, y = {\n",
        "        'train': (X_train, Y_train),\n",
        "        'val': (X_dev, Y_dev),\n",
        "        'test': (X_test, Y_test)\n",
        "    }[split]\n",
        "    logits = model(x)\n",
        "    loss = F.cross_entropy(logits, y)\n",
        "    print(split, loss.item())\n",
        "\n",
        "split_loss('val')\n",
        "split_loss('test')"
      ],
      "metadata": {
        "colab": {
          "base_uri": "https://localhost:8080/"
        },
        "outputId": "c7d80b15-6666-465f-bfe4-30f4b1d507b5",
        "id": "0tcMhSh3ZP1-"
      },
      "execution_count": 98,
      "outputs": [
        {
          "output_type": "stream",
          "name": "stdout",
          "text": [
            "val 2.038123846054077\n",
            "test 2.0357651710510254\n"
          ]
        }
      ]
    },
    {
      "cell_type": "code",
      "source": [
        "g = torch.Generator().manual_seed(2147483647 + 10)\n",
        "\n",
        "for _ in range(20):\n",
        "\n",
        "    out = []\n",
        "    context = [0] * block_size # initialize with all ...\n",
        "    while True:\n",
        "        logits = model(torch.tensor([context]))\n",
        "        probs = F.softmax(logits, dim=1)\n",
        "        ix = torch.multinomial(probs, num_samples=1, generator=g).item()\n",
        "        context = context[1:] + [ix]\n",
        "        out.append(ix)\n",
        "        if ix == 0:\n",
        "            break\n",
        "\n",
        "    print(''.join(itos[i] for i in out))"
      ],
      "metadata": {
        "colab": {
          "base_uri": "https://localhost:8080/"
        },
        "outputId": "03372cbe-7c9a-49c4-a2e9-f7d7cc47a322",
        "id": "EhYIzvL7ZP1-"
      },
      "execution_count": 99,
      "outputs": [
        {
          "output_type": "stream",
          "name": "stdout",
          "text": [
            "montaymyah.\n",
            "seelen.\n",
            "hayla.\n",
            "rensrette.\n",
            "raege.\n",
            "zehed.\n",
            "eliah.\n",
            "miloe.\n",
            "leighnes.\n",
            "anarielle.\n",
            "malaia.\n",
            "noshub.\n",
            "rilai.\n",
            "jestin.\n",
            "joselynn.\n",
            "novalfou.\n",
            "zenne.\n",
            "ruyah.\n",
            "faeli.\n",
            "kayshis.\n"
          ]
        }
      ]
    },
    {
      "cell_type": "code",
      "source": [
        "for layer in model.layers:\n",
        "    print(layer.__class__.__name__, ':', tuple(layer.out.shape))"
      ],
      "metadata": {
        "colab": {
          "base_uri": "https://localhost:8080/"
        },
        "id": "nnDNF3Qle55c",
        "outputId": "bbf37b70-f9bb-46c9-aad9-0e2352ce3db7"
      },
      "execution_count": 100,
      "outputs": [
        {
          "output_type": "stream",
          "name": "stdout",
          "text": [
            "Embedding : (1, 8, 10)\n",
            "FlattenConsecutiveN : (1, 4, 20)\n",
            "Linear : (1, 4, 68)\n",
            "BatchNorm1d : (1, 4, 68)\n",
            "Tanh : (1, 4, 68)\n",
            "FlattenConsecutiveN : (1, 2, 136)\n",
            "Linear : (1, 2, 68)\n",
            "BatchNorm1d : (1, 2, 68)\n",
            "Tanh : (1, 2, 68)\n",
            "FlattenConsecutiveN : (1, 136)\n",
            "Linear : (1, 68)\n",
            "BatchNorm1d : (1, 68)\n",
            "Tanh : (1, 68)\n",
            "Linear : (1, 27)\n"
          ]
        }
      ]
    },
    {
      "cell_type": "markdown",
      "source": [
        "Performance Log\n",
        "\n",
        "- Original (context: 3 chars + 200 hidden neurons, 12K params): train- 2.18, val-2.114, test-2.113\n",
        "- context: 3->8 (22k params): train-2.28, val-2.03, test-2.03\n",
        "- hierarchical-dilated: 2 consecutive numbers(22k params): train-2.16 , val-2.03 , test- 2.03"
      ],
      "metadata": {
        "id": "lAWP1zSQcWpB"
      }
    },
    {
      "cell_type": "markdown",
      "source": [
        "#### Debugging BatchNorm to take 3d tensors as input"
      ],
      "metadata": {
        "id": "IOwTH-J1f9iQ"
      }
    },
    {
      "cell_type": "code",
      "source": [
        "class Linear:\n",
        "\n",
        "    def __init__(self, fan_in, fan_out, bias=True):\n",
        "        self.weight = torch.randn((fan_in, fan_out)) / fan_in**0.5\n",
        "        self.bias = torch.zeros(fan_out) if bias else None\n",
        "\n",
        "    def __call__(self, x):\n",
        "        self.out = x @ self.weight\n",
        "        if self.bias is not None:\n",
        "            self.out += self.bias\n",
        "        return self.out\n",
        "\n",
        "    def parameters(self):\n",
        "        return [self.weight] + ([] if self.bias is None else [self.bias])\n",
        "\n",
        "\n",
        "class BatchNorm1d:\n",
        "\n",
        "    def __init__(self, dim, eps=1e-5, momentum=0.1):\n",
        "        self.eps = eps\n",
        "        self.momentum = momentum\n",
        "        self.training = True\n",
        "        # parameters (trained with backprop)\n",
        "        self.gamma = torch.ones(dim)\n",
        "        self.beta = torch.zeros(dim)\n",
        "        # buffers (trained with a running 'momentum update')\n",
        "        self.running_mean = torch.zeros(dim)\n",
        "        self.running_var = torch.ones(dim)\n",
        "\n",
        "    def __call__(self, x):\n",
        "        # calculate the forward pass\n",
        "        if self.training:\n",
        "            if x.ndim ==2:\n",
        "                dims_reduce = 0\n",
        "            elif x.ndim ==3:\n",
        "                dims_reduce = (0, 1)\n",
        "            xmean = x.mean(dims_reduce, keepdim=True) # batch mean\n",
        "            xvar = x.var(dims_reduce, keepdim=True) # batch variance\n",
        "        else:\n",
        "            xmean = self.running_mean\n",
        "            xvar = self.running_var\n",
        "        xhat = (x - xmean) / torch.sqrt(xvar + self.eps) # normalize to unit variance\n",
        "        self.out = self.gamma * xhat + self.beta\n",
        "        # update the buffers\n",
        "        if self.training:\n",
        "            with torch.no_grad():\n",
        "                self.running_mean = (1 - self.momentum) * self.running_mean + self.momentum * xmean\n",
        "                self.running_var = (1 - self.momentum) * self.running_var + self.momentum * xvar\n",
        "        return self.out\n",
        "\n",
        "    def parameters(self):\n",
        "        return [self.gamma, self.beta]\n",
        "\n",
        "class Tanh:\n",
        "    def __call__(self, x):\n",
        "        self.out = torch.tanh(x)\n",
        "        return self.out\n",
        "    def parameters(self):\n",
        "        return []\n",
        "\n",
        "class Embedding:\n",
        "    def __init__(self, num_embeddings, embedding_dim):\n",
        "        self.weight = torch.randn((num_embeddings, embedding_dim))\n",
        "\n",
        "    def __call__(self, IX):\n",
        "        self.out = self.weight[IX]\n",
        "        return self.out\n",
        "\n",
        "    def parameters(self):\n",
        "        return [self.weight]\n",
        "\n",
        "class FlattenConsecutiveN:\n",
        "\n",
        "    def __init__(self, n):\n",
        "        self.n = n\n",
        "\n",
        "    def __call__(self, x):\n",
        "        B, T, C = x.shape\n",
        "        x = x.view(B, T//self.n, C * self.n)\n",
        "        if x.shape[1] == 1:\n",
        "            x = x.squeeze(1)\n",
        "        self.out = x\n",
        "        return self.out\n",
        "\n",
        "    def parameters(self):\n",
        "        return []\n",
        "\n",
        "# Clubbing Multiple Layers into a Container\n",
        "\n",
        "class Sequential:\n",
        "\n",
        "    def __init__(self, layers):\n",
        "        self.layers = layers\n",
        "\n",
        "    def __call__(self, x):\n",
        "        for layer in self.layers:\n",
        "            x = layer(x)\n",
        "        self.out = x\n",
        "        return self.out\n",
        "\n",
        "    def parameters(self):\n",
        "        return [p for layer in self.layers for p in layer.parameters()]"
      ],
      "metadata": {
        "id": "7yk5u0trcSdI"
      },
      "execution_count": 101,
      "outputs": []
    },
    {
      "cell_type": "code",
      "source": [
        "n_embd = 10 # dimensionality of the embedding vectors\n",
        "n_hidden = 68 # neurons in the hidden layer\n",
        "vocab_size = 27\n",
        "\n",
        "model = Sequential([\n",
        "    Embedding(vocab_size, n_embd), # 4, 8, 10\n",
        "    FlattenConsecutiveN(2), Linear(n_embd * 2, n_hidden, bias=False), BatchNorm1d(n_hidden), Tanh(),\n",
        "    FlattenConsecutiveN(2), Linear(n_hidden * 2, n_hidden, bias=False), BatchNorm1d(n_hidden), Tanh(),\n",
        "    FlattenConsecutiveN(2), Linear(n_hidden * 2, n_hidden, bias=False), BatchNorm1d(n_hidden), Tanh(),\n",
        "    Linear(n_hidden, vocab_size),\n",
        "])\n",
        "\n",
        "with torch.no_grad():\n",
        "    model.layers[-1].weight *= 0.1 # make last layer less confident\n",
        "\n",
        "parameters = model.parameters()\n",
        "print(sum(p.nelement() for p in parameters))\n",
        "\n",
        "for p in parameters:\n",
        "    p.requires_grad = True"
      ],
      "metadata": {
        "colab": {
          "base_uri": "https://localhost:8080/"
        },
        "outputId": "33e6d306-b136-4d97-9730-d274e3a900eb",
        "id": "GgSku0W_h5OH"
      },
      "execution_count": 102,
      "outputs": [
        {
          "output_type": "stream",
          "name": "stdout",
          "text": [
            "22397\n"
          ]
        }
      ]
    },
    {
      "cell_type": "code",
      "source": [
        "batch_size = 32\n",
        "itrns = 200000\n",
        "lossi = []\n",
        "\n",
        "for i in range(itrns):\n",
        "    # minibatch\n",
        "    ix = torch.randint(low=0, high=X_train.shape[0], size=(batch_size, ))\n",
        "    Xb, Yb = X_train[ix], Y_train[ix]\n",
        "\n",
        "    # forward pass\n",
        "    logits = model(Xb)\n",
        "    loss = F.cross_entropy(logits, Yb)\n",
        "\n",
        "    # backward pass\n",
        "    for p in parameters:\n",
        "        p.grad = None\n",
        "    loss.backward()\n",
        "\n",
        "    # nudge\n",
        "    lr = 0.1 if i < 150000 else 0.01\n",
        "    for p in parameters:\n",
        "        p.data += -lr * p.grad\n",
        "\n",
        "    if i % 10000 == 0:\n",
        "        print(f'Loss on iteration {i}: {loss.item()} | Learning Rate: {lr}')\n",
        "    lossi.append(loss.log10().item())\n",
        "\n",
        "print(\"Final Loss: \", loss.item())"
      ],
      "metadata": {
        "colab": {
          "base_uri": "https://localhost:8080/"
        },
        "outputId": "3134e079-a054-4048-8d6b-84c6882b1721",
        "id": "7c5opYSVh5OK"
      },
      "execution_count": 105,
      "outputs": [
        {
          "output_type": "stream",
          "name": "stdout",
          "text": [
            "Loss on iteration 0: 3.2976396083831787 | Learning Rate: 0.1\n",
            "Loss on iteration 10000: 2.2582876682281494 | Learning Rate: 0.1\n",
            "Loss on iteration 20000: 2.0415730476379395 | Learning Rate: 0.1\n",
            "Loss on iteration 30000: 1.936320424079895 | Learning Rate: 0.1\n",
            "Loss on iteration 40000: 1.800300121307373 | Learning Rate: 0.1\n",
            "Loss on iteration 50000: 1.9813306331634521 | Learning Rate: 0.1\n",
            "Loss on iteration 60000: 1.8723562955856323 | Learning Rate: 0.1\n",
            "Loss on iteration 70000: 2.033402442932129 | Learning Rate: 0.1\n",
            "Loss on iteration 80000: 1.9158909320831299 | Learning Rate: 0.1\n",
            "Loss on iteration 90000: 2.1224076747894287 | Learning Rate: 0.1\n",
            "Loss on iteration 100000: 1.6351393461227417 | Learning Rate: 0.1\n",
            "Loss on iteration 110000: 2.3161938190460205 | Learning Rate: 0.1\n",
            "Loss on iteration 120000: 1.7075954675674438 | Learning Rate: 0.1\n",
            "Loss on iteration 130000: 1.497706651687622 | Learning Rate: 0.1\n",
            "Loss on iteration 140000: 1.9173574447631836 | Learning Rate: 0.1\n",
            "Loss on iteration 150000: 2.2600090503692627 | Learning Rate: 0.01\n",
            "Loss on iteration 160000: 1.6468818187713623 | Learning Rate: 0.01\n",
            "Loss on iteration 170000: 1.7984143495559692 | Learning Rate: 0.01\n",
            "Loss on iteration 180000: 2.018073558807373 | Learning Rate: 0.01\n",
            "Loss on iteration 190000: 1.53773832321167 | Learning Rate: 0.01\n",
            "Final Loss:  1.8498761653900146\n"
          ]
        }
      ]
    },
    {
      "cell_type": "code",
      "source": [
        "# put layers into eval mode\n",
        "for layer in model.layers:\n",
        "    layer.training = False\n",
        "\n",
        "# DEV & TEST LOSS\n",
        "@torch.no_grad() # decorator to disable grad tracking for any vars inside the function\n",
        "def split_loss(split):\n",
        "    x, y = {\n",
        "        'train': (X_train, Y_train),\n",
        "        'val': (X_dev, Y_dev),\n",
        "        'test': (X_test, Y_test)\n",
        "    }[split]\n",
        "    logits = model(x)\n",
        "    loss = F.cross_entropy(logits, y)\n",
        "    print(split, loss.item())\n",
        "\n",
        "split_loss('val')\n",
        "split_loss('test')"
      ],
      "metadata": {
        "colab": {
          "base_uri": "https://localhost:8080/"
        },
        "outputId": "7880e282-60dd-46ea-b97c-159b31342910",
        "id": "D1z5XIPhh5OL"
      },
      "execution_count": 106,
      "outputs": [
        {
          "output_type": "stream",
          "name": "stdout",
          "text": [
            "val 2.030392646789551\n",
            "test 2.022149085998535\n"
          ]
        }
      ]
    },
    {
      "cell_type": "code",
      "source": [
        "g = torch.Generator().manual_seed(2147483647 + 10)\n",
        "\n",
        "for _ in range(20):\n",
        "\n",
        "    out = []\n",
        "    context = [0] * block_size # initialize with all ...\n",
        "    while True:\n",
        "        logits = model(torch.tensor([context]))\n",
        "        probs = F.softmax(logits, dim=1)\n",
        "        ix = torch.multinomial(probs, num_samples=1, generator=g).item()\n",
        "        context = context[1:] + [ix]\n",
        "        out.append(ix)\n",
        "        if ix == 0:\n",
        "            break\n",
        "\n",
        "    print(''.join(itos[i] for i in out))"
      ],
      "metadata": {
        "colab": {
          "base_uri": "https://localhost:8080/"
        },
        "outputId": "e7d1429e-cd5c-4cb1-92b6-ca49064be870",
        "id": "qTejyh5yh5OL"
      },
      "execution_count": 107,
      "outputs": [
        {
          "output_type": "stream",
          "name": "stdout",
          "text": [
            "mordal.\n",
            "yazlee.\n",
            "lendyn.\n",
            "alareth.\n",
            "stejgra.\n",
            "graden.\n",
            "daelin.\n",
            "shivoph.\n",
            "edelieana.\n",
            "arleigh.\n",
            "malara.\n",
            "noshub.\n",
            "roshimae.\n",
            "trinio.\n",
            "jenil.\n",
            "novaleiu.\n",
            "zayven.\n",
            "jamell.\n",
            "eliyah.\n",
            "jayston.\n"
          ]
        }
      ]
    },
    {
      "cell_type": "code",
      "source": [
        "for layer in model.layers:\n",
        "    print(layer.__class__.__name__, ':', tuple(layer.out.shape))"
      ],
      "metadata": {
        "colab": {
          "base_uri": "https://localhost:8080/"
        },
        "outputId": "7465054e-0a28-4dda-8661-19429208d70c",
        "id": "uU-9YYphh5OL"
      },
      "execution_count": 108,
      "outputs": [
        {
          "output_type": "stream",
          "name": "stdout",
          "text": [
            "Embedding : (1, 8, 10)\n",
            "FlattenConsecutiveN : (1, 4, 20)\n",
            "Linear : (1, 4, 68)\n",
            "BatchNorm1d : (1, 4, 68)\n",
            "Tanh : (1, 4, 68)\n",
            "FlattenConsecutiveN : (1, 2, 136)\n",
            "Linear : (1, 2, 68)\n",
            "BatchNorm1d : (1, 2, 68)\n",
            "Tanh : (1, 2, 68)\n",
            "FlattenConsecutiveN : (1, 136)\n",
            "Linear : (1, 68)\n",
            "BatchNorm1d : (1, 68)\n",
            "Tanh : (1, 68)\n",
            "Linear : (1, 27)\n"
          ]
        }
      ]
    },
    {
      "cell_type": "markdown",
      "source": [
        "Performance Log\n",
        "\n",
        "- Original (context: 3 chars + 200 hidden neurons, 12K params): train- 2.18, val-2.114, test-2.113\n",
        "- context: 3->8 (22k params): train-2.28, val-2.03, test-2.03\n",
        "- hierarchical-dilated: 2 consecutive numbers(22k params): train-2.16 , val-2.03 , test- 2.03\n",
        "- BatchNorm for 3D tensors (22k params): train- , val-, test-"
      ],
      "metadata": {
        "id": "MZ-Vqy30h5OL"
      }
    }
  ]
}