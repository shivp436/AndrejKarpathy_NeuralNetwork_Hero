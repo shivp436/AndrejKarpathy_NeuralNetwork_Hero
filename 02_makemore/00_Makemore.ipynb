{
  "cells": [
    {
      "cell_type": "code",
      "execution_count": 2,
      "metadata": {
        "id": "InfK2IGnJTZd"
      },
      "outputs": [],
      "source": [
        "import torch"
      ]
    },
    {
      "cell_type": "code",
      "execution_count": 3,
      "metadata": {
        "id": "wmqMRLmbQ89t"
      },
      "outputs": [],
      "source": [
        "file_path = '/content/drive/MyDrive/Colab Notebooks/AndrejKarpathy_NN_Hero/names.txt'"
      ]
    },
    {
      "cell_type": "code",
      "execution_count": 4,
      "metadata": {
        "id": "yRvIyPiARV-y"
      },
      "outputs": [],
      "source": [
        "words = open(file_path, 'r').read().splitlines()"
      ]
    },
    {
      "cell_type": "code",
      "execution_count": 5,
      "metadata": {
        "colab": {
          "base_uri": "https://localhost:8080/"
        },
        "id": "BtqX8-1-RXqb",
        "outputId": "d5bf5212-7f05-4d94-a850-3b47dfd7e4c4"
      },
      "outputs": [
        {
          "data": {
            "text/plain": [
              "['emma',\n",
              " 'olivia',\n",
              " 'ava',\n",
              " 'isabella',\n",
              " 'sophia',\n",
              " 'charlotte',\n",
              " 'mia',\n",
              " 'amelia',\n",
              " 'harper',\n",
              " 'evelyn']"
            ]
          },
          "execution_count": 5,
          "metadata": {},
          "output_type": "execute_result"
        }
      ],
      "source": [
        "words[:10]"
      ]
    },
    {
      "cell_type": "code",
      "execution_count": 6,
      "metadata": {
        "id": "BY77oz9MRcaG"
      },
      "outputs": [],
      "source": [
        "# The feature of a language model is to predict the next character in a string looking at the already given characters\n",
        "# in each name, the first character is followed by a blank space, let's call it <S> Start Sequence, end each name ends with <E> end sequence"
      ]
    },
    {
      "cell_type": "markdown",
      "metadata": {
        "id": "YePzncYLSjDb"
      },
      "source": [
        "# Crude approach to Bigram\n",
        "\n",
        "Works with 2 characters\n",
        "\n",
        "With 1 given character, we try to predict the following character, by finding out the probability of each character based on given data."
      ]
    },
    {
      "cell_type": "code",
      "execution_count": 7,
      "metadata": {
        "colab": {
          "base_uri": "https://localhost:8080/"
        },
        "id": "gk1kTys1R7PO",
        "outputId": "7790dec0-de4b-410a-c69d-72de237d4dac"
      },
      "outputs": [
        {
          "name": "stdout",
          "output_type": "stream",
          "text": [
            "<S> e\n",
            "e m\n",
            "m m\n",
            "m a\n",
            "a <E>\n",
            "<S> o\n",
            "o l\n",
            "l i\n",
            "i v\n",
            "v i\n",
            "i a\n",
            "a <E>\n",
            "<S> a\n",
            "a v\n",
            "v a\n",
            "a <E>\n"
          ]
        }
      ],
      "source": [
        "for w in words[:3]:\n",
        "    chars = ['<S>'] + list(w) + ['<E>']\n",
        "    for ch1, ch2 in zip(chars, chars[1:]):\n",
        "        print(ch1, ch2)"
      ]
    },
    {
      "cell_type": "code",
      "execution_count": 8,
      "metadata": {
        "id": "_CKpMDO4UOgW"
      },
      "outputs": [],
      "source": [
        "b = {} # frequency dictionary of each pair\n",
        "\n",
        "for w in words:\n",
        "    chars = ['<S>'] + list(w) + ['<E>']\n",
        "    for ch1, ch2 in zip(chars, chars[1:]):\n",
        "        bigram = (ch1, ch2)\n",
        "        b[bigram] = b.get(bigram, 0) + 1"
      ]
    },
    {
      "cell_type": "code",
      "execution_count": 9,
      "metadata": {
        "colab": {
          "base_uri": "https://localhost:8080/"
        },
        "id": "rzslx5dQeKmo",
        "outputId": "30d2032e-622a-4cea-dad1-513c9c348f32"
      },
      "outputs": [
        {
          "data": {
            "text/plain": [
              "627"
            ]
          },
          "execution_count": 9,
          "metadata": {},
          "output_type": "execute_result"
        }
      ],
      "source": [
        "len(b)"
      ]
    },
    {
      "cell_type": "code",
      "execution_count": 10,
      "metadata": {
        "colab": {
          "base_uri": "https://localhost:8080/"
        },
        "id": "Mshe-Wg9eLPR",
        "outputId": "3cd24067-ecac-44f0-e9ea-332a753f1f47"
      },
      "outputs": [
        {
          "data": {
            "text/plain": [
              "[(('n', '<E>'), 6763),\n",
              " (('a', '<E>'), 6640),\n",
              " (('a', 'n'), 5438),\n",
              " (('<S>', 'a'), 4410),\n",
              " (('e', '<E>'), 3983),\n",
              " (('a', 'r'), 3264),\n",
              " (('e', 'l'), 3248),\n",
              " (('r', 'i'), 3033),\n",
              " (('n', 'a'), 2977),\n",
              " (('<S>', 'k'), 2963),\n",
              " (('l', 'e'), 2921),\n",
              " (('e', 'n'), 2675),\n",
              " (('l', 'a'), 2623),\n",
              " (('m', 'a'), 2590),\n",
              " (('<S>', 'm'), 2538),\n",
              " (('a', 'l'), 2528),\n",
              " (('i', '<E>'), 2489),\n",
              " (('l', 'i'), 2480),\n",
              " (('i', 'a'), 2445),\n",
              " (('<S>', 'j'), 2422),\n",
              " (('o', 'n'), 2411),\n",
              " (('h', '<E>'), 2409),\n",
              " (('r', 'a'), 2356),\n",
              " (('a', 'h'), 2332),\n",
              " (('h', 'a'), 2244),\n",
              " (('y', 'a'), 2143),\n",
              " (('i', 'n'), 2126),\n",
              " (('<S>', 's'), 2055),\n",
              " (('a', 'y'), 2050),\n",
              " (('y', '<E>'), 2007),\n",
              " (('e', 'r'), 1958),\n",
              " (('n', 'n'), 1906),\n",
              " (('y', 'n'), 1826),\n",
              " (('k', 'a'), 1731),\n",
              " (('n', 'i'), 1725),\n",
              " (('r', 'e'), 1697),\n",
              " (('<S>', 'd'), 1690),\n",
              " (('i', 'e'), 1653),\n",
              " (('a', 'i'), 1650),\n",
              " (('<S>', 'r'), 1639),\n",
              " (('a', 'm'), 1634),\n",
              " (('l', 'y'), 1588),\n",
              " (('<S>', 'l'), 1572),\n",
              " (('<S>', 'c'), 1542),\n",
              " (('<S>', 'e'), 1531),\n",
              " (('j', 'a'), 1473),\n",
              " (('r', '<E>'), 1377),\n",
              " (('n', 'e'), 1359),\n",
              " (('l', 'l'), 1345),\n",
              " (('i', 'l'), 1345),\n",
              " (('i', 's'), 1316),\n",
              " (('l', '<E>'), 1314),\n",
              " (('<S>', 't'), 1308),\n",
              " (('<S>', 'b'), 1306),\n",
              " (('d', 'a'), 1303),\n",
              " (('s', 'h'), 1285),\n",
              " (('d', 'e'), 1283),\n",
              " (('e', 'e'), 1271),\n",
              " (('m', 'i'), 1256),\n",
              " (('s', 'a'), 1201),\n",
              " (('s', '<E>'), 1169),\n",
              " (('<S>', 'n'), 1146),\n",
              " (('a', 's'), 1118),\n",
              " (('y', 'l'), 1104),\n",
              " (('e', 'y'), 1070),\n",
              " (('o', 'r'), 1059),\n",
              " (('a', 'd'), 1042),\n",
              " (('t', 'a'), 1027),\n",
              " (('<S>', 'z'), 929),\n",
              " (('v', 'i'), 911),\n",
              " (('k', 'e'), 895),\n",
              " (('s', 'e'), 884),\n",
              " (('<S>', 'h'), 874),\n",
              " (('r', 'o'), 869),\n",
              " (('e', 's'), 861),\n",
              " (('z', 'a'), 860),\n",
              " (('o', '<E>'), 855),\n",
              " (('i', 'r'), 849),\n",
              " (('b', 'r'), 842),\n",
              " (('a', 'v'), 834),\n",
              " (('m', 'e'), 818),\n",
              " (('e', 'i'), 818),\n",
              " (('c', 'a'), 815),\n",
              " (('i', 'y'), 779),\n",
              " (('r', 'y'), 773),\n",
              " (('e', 'm'), 769),\n",
              " (('s', 't'), 765),\n",
              " (('h', 'i'), 729),\n",
              " (('t', 'e'), 716),\n",
              " (('n', 'd'), 704),\n",
              " (('l', 'o'), 692),\n",
              " (('a', 'e'), 692),\n",
              " (('a', 't'), 687),\n",
              " (('s', 'i'), 684),\n",
              " (('e', 'a'), 679),\n",
              " (('d', 'i'), 674),\n",
              " (('h', 'e'), 674),\n",
              " (('<S>', 'g'), 669),\n",
              " (('t', 'o'), 667),\n",
              " (('c', 'h'), 664),\n",
              " (('b', 'e'), 655),\n",
              " (('t', 'h'), 647),\n",
              " (('v', 'a'), 642),\n",
              " (('o', 'l'), 619),\n",
              " (('<S>', 'i'), 591),\n",
              " (('i', 'o'), 588),\n",
              " (('e', 't'), 580),\n",
              " (('v', 'e'), 568),\n",
              " (('a', 'k'), 568),\n",
              " (('a', 'a'), 556),\n",
              " (('c', 'e'), 551),\n",
              " (('a', 'b'), 541),\n",
              " (('i', 't'), 541),\n",
              " (('<S>', 'y'), 535),\n",
              " (('t', 'i'), 532),\n",
              " (('s', 'o'), 531),\n",
              " (('m', '<E>'), 516),\n",
              " (('d', '<E>'), 516),\n",
              " (('<S>', 'p'), 515),\n",
              " (('i', 'c'), 509),\n",
              " (('k', 'i'), 509),\n",
              " (('o', 's'), 504),\n",
              " (('n', 'o'), 496),\n",
              " (('t', '<E>'), 483),\n",
              " (('j', 'o'), 479),\n",
              " (('u', 's'), 474),\n",
              " (('a', 'c'), 470),\n",
              " (('n', 'y'), 465),\n",
              " (('e', 'v'), 463),\n",
              " (('s', 's'), 461),\n",
              " (('m', 'o'), 452),\n",
              " (('i', 'k'), 445),\n",
              " (('n', 't'), 443),\n",
              " (('i', 'd'), 440),\n",
              " (('j', 'e'), 440),\n",
              " (('a', 'z'), 435),\n",
              " (('i', 'g'), 428),\n",
              " (('i', 'm'), 427),\n",
              " (('r', 'r'), 425),\n",
              " (('d', 'r'), 424),\n",
              " (('<S>', 'f'), 417),\n",
              " (('u', 'r'), 414),\n",
              " (('r', 'l'), 413),\n",
              " (('y', 's'), 401),\n",
              " (('<S>', 'o'), 394),\n",
              " (('e', 'd'), 384),\n",
              " (('a', 'u'), 381),\n",
              " (('c', 'o'), 380),\n",
              " (('k', 'y'), 379),\n",
              " (('d', 'o'), 378),\n",
              " (('<S>', 'v'), 376),\n",
              " (('t', 't'), 374),\n",
              " (('z', 'e'), 373),\n",
              " (('z', 'i'), 364),\n",
              " (('k', '<E>'), 363),\n",
              " (('g', 'h'), 360),\n",
              " (('t', 'r'), 352),\n",
              " (('k', 'o'), 344),\n",
              " (('t', 'y'), 341),\n",
              " (('g', 'e'), 334),\n",
              " (('g', 'a'), 330),\n",
              " (('l', 'u'), 324),\n",
              " (('b', 'a'), 321),\n",
              " (('d', 'y'), 317),\n",
              " (('c', 'k'), 316),\n",
              " (('<S>', 'w'), 307),\n",
              " (('k', 'h'), 307),\n",
              " (('u', 'l'), 301),\n",
              " (('y', 'e'), 301),\n",
              " (('y', 'r'), 291),\n",
              " (('m', 'y'), 287),\n",
              " (('h', 'o'), 287),\n",
              " (('w', 'a'), 280),\n",
              " (('s', 'l'), 279),\n",
              " (('n', 's'), 278),\n",
              " (('i', 'z'), 277),\n",
              " (('u', 'n'), 275),\n",
              " (('o', 'u'), 275),\n",
              " (('n', 'g'), 273),\n",
              " (('y', 'd'), 272),\n",
              " (('c', 'i'), 271),\n",
              " (('y', 'o'), 271),\n",
              " (('i', 'v'), 269),\n",
              " (('e', 'o'), 269),\n",
              " (('o', 'm'), 261),\n",
              " (('r', 'u'), 252),\n",
              " (('f', 'a'), 242),\n",
              " (('b', 'i'), 217),\n",
              " (('s', 'y'), 215),\n",
              " (('n', 'c'), 213),\n",
              " (('h', 'y'), 213),\n",
              " (('p', 'a'), 209),\n",
              " (('r', 't'), 208),\n",
              " (('q', 'u'), 206),\n",
              " (('p', 'h'), 204),\n",
              " (('h', 'r'), 204),\n",
              " (('j', 'u'), 202),\n",
              " (('g', 'r'), 201),\n",
              " (('p', 'e'), 197),\n",
              " (('n', 'l'), 195),\n",
              " (('y', 'i'), 192),\n",
              " (('g', 'i'), 190),\n",
              " (('o', 'd'), 190),\n",
              " (('r', 's'), 190),\n",
              " (('r', 'd'), 187),\n",
              " (('h', 'l'), 185),\n",
              " (('s', 'u'), 185),\n",
              " (('a', 'x'), 182),\n",
              " (('e', 'z'), 181),\n",
              " (('e', 'k'), 178),\n",
              " (('o', 'v'), 176),\n",
              " (('a', 'j'), 175),\n",
              " (('o', 'h'), 171),\n",
              " (('u', 'e'), 169),\n",
              " (('m', 'm'), 168),\n",
              " (('a', 'g'), 168),\n",
              " (('h', 'u'), 166),\n",
              " (('x', '<E>'), 164),\n",
              " (('u', 'a'), 163),\n",
              " (('r', 'm'), 162),\n",
              " (('a', 'w'), 161),\n",
              " (('f', 'i'), 160),\n",
              " (('z', '<E>'), 160),\n",
              " (('u', '<E>'), 155),\n",
              " (('u', 'm'), 154),\n",
              " (('e', 'c'), 153),\n",
              " (('v', 'o'), 153),\n",
              " (('e', 'h'), 152),\n",
              " (('p', 'r'), 151),\n",
              " (('d', 'd'), 149),\n",
              " (('o', 'a'), 149),\n",
              " (('w', 'e'), 149),\n",
              " (('w', 'i'), 148),\n",
              " (('y', 'm'), 148),\n",
              " (('z', 'y'), 147),\n",
              " (('n', 'z'), 145),\n",
              " (('y', 'u'), 141),\n",
              " (('r', 'n'), 140),\n",
              " (('o', 'b'), 140),\n",
              " (('k', 'l'), 139),\n",
              " (('m', 'u'), 139),\n",
              " (('l', 'd'), 138),\n",
              " (('h', 'n'), 138),\n",
              " (('u', 'd'), 136),\n",
              " (('<S>', 'x'), 134),\n",
              " (('t', 'l'), 134),\n",
              " (('a', 'f'), 134),\n",
              " (('o', 'e'), 132),\n",
              " (('e', 'x'), 132),\n",
              " (('e', 'g'), 125),\n",
              " (('f', 'e'), 123),\n",
              " (('z', 'l'), 123),\n",
              " (('u', 'i'), 121),\n",
              " (('v', 'y'), 121),\n",
              " (('e', 'b'), 121),\n",
              " (('r', 'h'), 121),\n",
              " (('j', 'i'), 119),\n",
              " (('o', 't'), 118),\n",
              " (('d', 'h'), 118),\n",
              " (('h', 'm'), 117),\n",
              " (('c', 'l'), 116),\n",
              " (('o', 'o'), 115),\n",
              " (('y', 'c'), 115),\n",
              " (('o', 'w'), 114),\n",
              " (('o', 'c'), 114),\n",
              " (('f', 'r'), 114),\n",
              " (('b', '<E>'), 114),\n",
              " (('m', 'b'), 112),\n",
              " (('z', 'o'), 110),\n",
              " (('i', 'b'), 110),\n",
              " (('i', 'u'), 109),\n",
              " (('k', 'r'), 109),\n",
              " (('g', '<E>'), 108),\n",
              " (('y', 'v'), 106),\n",
              " (('t', 'z'), 105),\n",
              " (('b', 'o'), 105),\n",
              " (('c', 'y'), 104),\n",
              " (('y', 't'), 104),\n",
              " (('u', 'b'), 103),\n",
              " (('u', 'c'), 103),\n",
              " (('x', 'a'), 103),\n",
              " (('b', 'l'), 103),\n",
              " (('o', 'y'), 103),\n",
              " (('x', 'i'), 102),\n",
              " (('i', 'f'), 101),\n",
              " (('r', 'c'), 99),\n",
              " (('c', '<E>'), 97),\n",
              " (('m', 'r'), 97),\n",
              " (('n', 'u'), 96),\n",
              " (('o', 'p'), 95),\n",
              " (('i', 'h'), 95),\n",
              " (('k', 's'), 95),\n",
              " (('l', 's'), 94),\n",
              " (('u', 'k'), 93),\n",
              " (('<S>', 'q'), 92),\n",
              " (('d', 'u'), 92),\n",
              " (('s', 'm'), 90),\n",
              " (('r', 'k'), 90),\n",
              " (('i', 'x'), 89),\n",
              " (('v', '<E>'), 88),\n",
              " (('y', 'k'), 86),\n",
              " (('u', 'w'), 86),\n",
              " (('g', 'u'), 85),\n",
              " (('b', 'y'), 83),\n",
              " (('e', 'p'), 83),\n",
              " (('g', 'o'), 83),\n",
              " (('s', 'k'), 82),\n",
              " (('u', 't'), 82),\n",
              " (('a', 'p'), 82),\n",
              " (('e', 'f'), 82),\n",
              " (('i', 'i'), 82),\n",
              " (('r', 'v'), 80),\n",
              " (('f', '<E>'), 80),\n",
              " (('t', 'u'), 78),\n",
              " (('y', 'z'), 78),\n",
              " (('<S>', 'u'), 78),\n",
              " (('l', 't'), 77),\n",
              " (('r', 'g'), 76),\n",
              " (('c', 'r'), 76),\n",
              " (('i', 'j'), 76),\n",
              " (('w', 'y'), 73),\n",
              " (('z', 'u'), 73),\n",
              " (('l', 'v'), 72),\n",
              " (('h', 't'), 71),\n",
              " (('j', '<E>'), 71),\n",
              " (('x', 't'), 70),\n",
              " (('o', 'i'), 69),\n",
              " (('e', 'u'), 69),\n",
              " (('o', 'k'), 68),\n",
              " (('b', 'd'), 65),\n",
              " (('a', 'o'), 63),\n",
              " (('p', 'i'), 61),\n",
              " (('s', 'c'), 60),\n",
              " (('d', 'l'), 60),\n",
              " (('l', 'm'), 60),\n",
              " (('a', 'q'), 60),\n",
              " (('f', 'o'), 60),\n",
              " (('p', 'o'), 59),\n",
              " (('n', 'k'), 58),\n",
              " (('w', 'n'), 58),\n",
              " (('u', 'h'), 58),\n",
              " (('e', 'j'), 55),\n",
              " (('n', 'v'), 55),\n",
              " (('s', 'r'), 55),\n",
              " (('o', 'z'), 54),\n",
              " (('i', 'p'), 53),\n",
              " (('l', 'b'), 52),\n",
              " (('i', 'q'), 52),\n",
              " (('w', '<E>'), 51),\n",
              " (('m', 'c'), 51),\n",
              " (('s', 'p'), 51),\n",
              " (('e', 'w'), 50),\n",
              " (('k', 'u'), 50),\n",
              " (('v', 'r'), 48),\n",
              " (('u', 'g'), 47),\n",
              " (('o', 'x'), 45),\n",
              " (('u', 'z'), 45),\n",
              " (('z', 'z'), 45),\n",
              " (('j', 'h'), 45),\n",
              " (('b', 'u'), 45),\n",
              " (('o', 'g'), 44),\n",
              " (('n', 'r'), 44),\n",
              " (('f', 'f'), 44),\n",
              " (('n', 'j'), 44),\n",
              " (('z', 'h'), 43),\n",
              " (('c', 'c'), 42),\n",
              " (('r', 'b'), 41),\n",
              " (('x', 'o'), 41),\n",
              " (('b', 'h'), 41),\n",
              " (('p', 'p'), 39),\n",
              " (('x', 'l'), 39),\n",
              " (('h', 'v'), 39),\n",
              " (('b', 'b'), 38),\n",
              " (('m', 'p'), 38),\n",
              " (('x', 'x'), 38),\n",
              " (('u', 'v'), 37),\n",
              " (('x', 'e'), 36),\n",
              " (('w', 'o'), 36),\n",
              " (('c', 't'), 35),\n",
              " (('z', 'm'), 35),\n",
              " (('t', 's'), 35),\n",
              " (('m', 's'), 35),\n",
              " (('c', 'u'), 35),\n",
              " (('o', 'f'), 34),\n",
              " (('u', 'x'), 34),\n",
              " (('k', 'w'), 34),\n",
              " (('p', '<E>'), 33),\n",
              " (('g', 'l'), 32),\n",
              " (('z', 'r'), 32),\n",
              " (('d', 'n'), 31),\n",
              " (('g', 't'), 31),\n",
              " (('g', 'y'), 31),\n",
              " (('h', 's'), 31),\n",
              " (('x', 's'), 31),\n",
              " (('g', 's'), 30),\n",
              " (('x', 'y'), 30),\n",
              " (('y', 'g'), 30),\n",
              " (('d', 'm'), 30),\n",
              " (('d', 's'), 29),\n",
              " (('h', 'k'), 29),\n",
              " (('y', 'x'), 28),\n",
              " (('q', '<E>'), 28),\n",
              " (('g', 'n'), 27),\n",
              " (('y', 'b'), 27),\n",
              " (('g', 'w'), 26),\n",
              " (('n', 'h'), 26),\n",
              " (('k', 'n'), 26),\n",
              " (('g', 'g'), 25),\n",
              " (('d', 'g'), 25),\n",
              " (('l', 'c'), 25),\n",
              " (('r', 'j'), 25),\n",
              " (('w', 'u'), 25),\n",
              " (('l', 'k'), 24),\n",
              " (('m', 'd'), 24),\n",
              " (('s', 'w'), 24),\n",
              " (('s', 'n'), 24),\n",
              " (('h', 'd'), 24),\n",
              " (('w', 'h'), 23),\n",
              " (('y', 'j'), 23),\n",
              " (('y', 'y'), 23),\n",
              " (('r', 'z'), 23),\n",
              " (('d', 'w'), 23),\n",
              " (('w', 'r'), 22),\n",
              " (('t', 'n'), 22),\n",
              " (('l', 'f'), 22),\n",
              " (('y', 'h'), 22),\n",
              " (('r', 'w'), 21),\n",
              " (('s', 'b'), 21),\n",
              " (('m', 'n'), 20),\n",
              " (('f', 'l'), 20),\n",
              " (('w', 's'), 20),\n",
              " (('k', 'k'), 20),\n",
              " (('h', 'z'), 20),\n",
              " (('g', 'd'), 19),\n",
              " (('l', 'h'), 19),\n",
              " (('n', 'm'), 19),\n",
              " (('x', 'z'), 19),\n",
              " (('u', 'f'), 19),\n",
              " (('f', 't'), 18),\n",
              " (('l', 'r'), 18),\n",
              " (('p', 't'), 17),\n",
              " (('t', 'c'), 17),\n",
              " (('k', 't'), 17),\n",
              " (('d', 'v'), 17),\n",
              " (('u', 'p'), 16),\n",
              " (('p', 'l'), 16),\n",
              " (('l', 'w'), 16),\n",
              " (('p', 's'), 16),\n",
              " (('o', 'j'), 16),\n",
              " (('r', 'q'), 16),\n",
              " (('y', 'p'), 15),\n",
              " (('l', 'p'), 15),\n",
              " (('t', 'v'), 15),\n",
              " (('r', 'p'), 14),\n",
              " (('l', 'n'), 14),\n",
              " (('e', 'q'), 14),\n",
              " (('f', 'y'), 14),\n",
              " (('s', 'v'), 14),\n",
              " (('u', 'j'), 14),\n",
              " (('v', 'l'), 14),\n",
              " (('q', 'a'), 13),\n",
              " (('u', 'y'), 13),\n",
              " (('q', 'i'), 13),\n",
              " (('w', 'l'), 13),\n",
              " (('p', 'y'), 12),\n",
              " (('y', 'f'), 12),\n",
              " (('c', 'q'), 11),\n",
              " (('j', 'r'), 11),\n",
              " (('n', 'w'), 11),\n",
              " (('n', 'f'), 11),\n",
              " (('t', 'w'), 11),\n",
              " (('m', 'z'), 11),\n",
              " (('u', 'o'), 10),\n",
              " (('f', 'u'), 10),\n",
              " (('l', 'z'), 10),\n",
              " (('h', 'w'), 10),\n",
              " (('u', 'q'), 10),\n",
              " (('j', 'y'), 10),\n",
              " (('s', 'z'), 10),\n",
              " (('s', 'd'), 9),\n",
              " (('j', 'l'), 9),\n",
              " (('d', 'j'), 9),\n",
              " (('k', 'm'), 9),\n",
              " (('r', 'f'), 9),\n",
              " (('h', 'j'), 9),\n",
              " (('v', 'n'), 8),\n",
              " (('n', 'b'), 8),\n",
              " (('i', 'w'), 8),\n",
              " (('h', 'b'), 8),\n",
              " (('b', 's'), 8),\n",
              " (('w', 't'), 8),\n",
              " (('w', 'd'), 8),\n",
              " (('v', 'v'), 7),\n",
              " (('v', 'u'), 7),\n",
              " (('j', 's'), 7),\n",
              " (('m', 'j'), 7),\n",
              " (('f', 's'), 6),\n",
              " (('l', 'g'), 6),\n",
              " (('l', 'j'), 6),\n",
              " (('j', 'w'), 6),\n",
              " (('n', 'x'), 6),\n",
              " (('y', 'q'), 6),\n",
              " (('w', 'k'), 6),\n",
              " (('g', 'm'), 6),\n",
              " (('x', 'u'), 5),\n",
              " (('m', 'h'), 5),\n",
              " (('m', 'l'), 5),\n",
              " (('j', 'm'), 5),\n",
              " (('c', 's'), 5),\n",
              " (('j', 'v'), 5),\n",
              " (('n', 'p'), 5),\n",
              " (('d', 'f'), 5),\n",
              " (('x', 'd'), 5),\n",
              " (('z', 'b'), 4),\n",
              " (('f', 'n'), 4),\n",
              " (('x', 'c'), 4),\n",
              " (('m', 't'), 4),\n",
              " (('t', 'm'), 4),\n",
              " (('z', 'n'), 4),\n",
              " (('z', 't'), 4),\n",
              " (('p', 'u'), 4),\n",
              " (('c', 'z'), 4),\n",
              " (('b', 'n'), 4),\n",
              " (('z', 's'), 4),\n",
              " (('f', 'w'), 4),\n",
              " (('d', 't'), 4),\n",
              " (('j', 'd'), 4),\n",
              " (('j', 'c'), 4),\n",
              " (('y', 'w'), 4),\n",
              " (('v', 'k'), 3),\n",
              " (('x', 'w'), 3),\n",
              " (('t', 'j'), 3),\n",
              " (('c', 'j'), 3),\n",
              " (('q', 'w'), 3),\n",
              " (('g', 'b'), 3),\n",
              " (('o', 'q'), 3),\n",
              " (('r', 'x'), 3),\n",
              " (('d', 'c'), 3),\n",
              " (('g', 'j'), 3),\n",
              " (('x', 'f'), 3),\n",
              " (('z', 'w'), 3),\n",
              " (('d', 'k'), 3),\n",
              " (('u', 'u'), 3),\n",
              " (('m', 'v'), 3),\n",
              " (('c', 'x'), 3),\n",
              " (('l', 'q'), 3),\n",
              " (('p', 'b'), 2),\n",
              " (('t', 'g'), 2),\n",
              " (('q', 's'), 2),\n",
              " (('t', 'x'), 2),\n",
              " (('f', 'k'), 2),\n",
              " (('b', 't'), 2),\n",
              " (('j', 'n'), 2),\n",
              " (('k', 'c'), 2),\n",
              " (('z', 'k'), 2),\n",
              " (('s', 'j'), 2),\n",
              " (('s', 'f'), 2),\n",
              " (('z', 'j'), 2),\n",
              " (('n', 'q'), 2),\n",
              " (('f', 'z'), 2),\n",
              " (('h', 'g'), 2),\n",
              " (('w', 'w'), 2),\n",
              " (('k', 'j'), 2),\n",
              " (('j', 'k'), 2),\n",
              " (('w', 'm'), 2),\n",
              " (('z', 'c'), 2),\n",
              " (('z', 'v'), 2),\n",
              " (('w', 'f'), 2),\n",
              " (('q', 'm'), 2),\n",
              " (('k', 'z'), 2),\n",
              " (('j', 'j'), 2),\n",
              " (('z', 'p'), 2),\n",
              " (('j', 't'), 2),\n",
              " (('k', 'b'), 2),\n",
              " (('m', 'w'), 2),\n",
              " (('h', 'f'), 2),\n",
              " (('c', 'g'), 2),\n",
              " (('t', 'f'), 2),\n",
              " (('h', 'c'), 2),\n",
              " (('q', 'o'), 2),\n",
              " (('k', 'd'), 2),\n",
              " (('k', 'v'), 2),\n",
              " (('s', 'g'), 2),\n",
              " (('z', 'd'), 2),\n",
              " (('q', 'r'), 1),\n",
              " (('d', 'z'), 1),\n",
              " (('p', 'j'), 1),\n",
              " (('q', 'l'), 1),\n",
              " (('p', 'f'), 1),\n",
              " (('q', 'e'), 1),\n",
              " (('b', 'c'), 1),\n",
              " (('c', 'd'), 1),\n",
              " (('m', 'f'), 1),\n",
              " (('p', 'n'), 1),\n",
              " (('w', 'b'), 1),\n",
              " (('p', 'c'), 1),\n",
              " (('h', 'p'), 1),\n",
              " (('f', 'h'), 1),\n",
              " (('b', 'j'), 1),\n",
              " (('f', 'g'), 1),\n",
              " (('z', 'g'), 1),\n",
              " (('c', 'p'), 1),\n",
              " (('p', 'k'), 1),\n",
              " (('p', 'm'), 1),\n",
              " (('x', 'n'), 1),\n",
              " (('s', 'q'), 1),\n",
              " (('k', 'f'), 1),\n",
              " (('m', 'k'), 1),\n",
              " (('x', 'h'), 1),\n",
              " (('g', 'f'), 1),\n",
              " (('v', 'b'), 1),\n",
              " (('j', 'p'), 1),\n",
              " (('g', 'z'), 1),\n",
              " (('v', 'd'), 1),\n",
              " (('d', 'b'), 1),\n",
              " (('v', 'h'), 1),\n",
              " (('h', 'h'), 1),\n",
              " (('g', 'v'), 1),\n",
              " (('d', 'q'), 1),\n",
              " (('x', 'b'), 1),\n",
              " (('w', 'z'), 1),\n",
              " (('h', 'q'), 1),\n",
              " (('j', 'b'), 1),\n",
              " (('x', 'm'), 1),\n",
              " (('w', 'g'), 1),\n",
              " (('t', 'b'), 1),\n",
              " (('z', 'x'), 1)]"
            ]
          },
          "execution_count": 10,
          "metadata": {},
          "output_type": "execute_result"
        }
      ],
      "source": [
        "sorted(b.items(), key= lambda kv: kv[1], reverse=True)"
      ]
    },
    {
      "cell_type": "code",
      "execution_count": 11,
      "metadata": {
        "id": "WVIfRd6Wek_V"
      },
      "outputs": [],
      "source": [
        "# This information is way easier to store and visualize in a 2D array, than a dictionary\n",
        "# rows - first character, columns - following character\n",
        "\n",
        "# pytorch allows us to do this easily using tensors"
      ]
    },
    {
      "cell_type": "code",
      "execution_count": 12,
      "metadata": {
        "id": "lr6SSw4Oe5Ba"
      },
      "outputs": [],
      "source": [
        "import torch"
      ]
    },
    {
      "cell_type": "code",
      "execution_count": 13,
      "metadata": {
        "colab": {
          "base_uri": "https://localhost:8080/"
        },
        "id": "zr_6PnBCgcSR",
        "outputId": "98fd3b85-9b37-4bb3-e0ce-b392c1044fa6"
      },
      "outputs": [
        {
          "data": {
            "text/plain": [
              "{'a': 1,\n",
              " 'b': 2,\n",
              " 'c': 3,\n",
              " 'd': 4,\n",
              " 'e': 5,\n",
              " 'f': 6,\n",
              " 'g': 7,\n",
              " 'h': 8,\n",
              " 'i': 9,\n",
              " 'j': 10,\n",
              " 'k': 11,\n",
              " 'l': 12,\n",
              " 'm': 13,\n",
              " 'n': 14,\n",
              " 'o': 15,\n",
              " 'p': 16,\n",
              " 'q': 17,\n",
              " 'r': 18,\n",
              " 's': 19,\n",
              " 't': 20,\n",
              " 'u': 21,\n",
              " 'v': 22,\n",
              " 'w': 23,\n",
              " 'x': 24,\n",
              " 'y': 25,\n",
              " 'z': 26,\n",
              " '+': 0}"
            ]
          },
          "execution_count": 13,
          "metadata": {},
          "output_type": "execute_result"
        }
      ],
      "source": [
        "chars = sorted(list(set(''.join(words))))\n",
        "# lookup table\n",
        "stoi = {s:i+1 for i,s in enumerate(chars)}\n",
        "stoi['+'] = 0 # let's use a single character . instead of <S> and <E>\n",
        "stoi"
      ]
    },
    {
      "cell_type": "code",
      "execution_count": 195,
      "metadata": {
        "id": "xY5tEO3dfo84"
      },
      "outputs": [],
      "source": [
        "N = torch.zeros((27, 27), dtype=torch.int32)\n",
        "\n",
        "for w in words:\n",
        "    chars = ['+'] + list(w) + ['+']\n",
        "    for ch1, ch2 in zip(chars, chars[1:]):\n",
        "        ix1, ix2 = stoi[ch1], stoi[ch2]\n",
        "        N[ix1][ix2] += 1"
      ]
    },
    {
      "cell_type": "code",
      "execution_count": 196,
      "metadata": {
        "colab": {
          "base_uri": "https://localhost:8080/"
        },
        "id": "MrWgEq0xiWxw",
        "outputId": "579c6e71-ba4d-4834-e456-cbd584d01b88"
      },
      "outputs": [
        {
          "data": {
            "text/plain": [
              "{1: 'a',\n",
              " 2: 'b',\n",
              " 3: 'c',\n",
              " 4: 'd',\n",
              " 5: 'e',\n",
              " 6: 'f',\n",
              " 7: 'g',\n",
              " 8: 'h',\n",
              " 9: 'i',\n",
              " 10: 'j',\n",
              " 11: 'k',\n",
              " 12: 'l',\n",
              " 13: 'm',\n",
              " 14: 'n',\n",
              " 15: 'o',\n",
              " 16: 'p',\n",
              " 17: 'q',\n",
              " 18: 'r',\n",
              " 19: 's',\n",
              " 20: 't',\n",
              " 21: 'u',\n",
              " 22: 'v',\n",
              " 23: 'w',\n",
              " 24: 'x',\n",
              " 25: 'y',\n",
              " 26: 'z',\n",
              " 0: '+'}"
            ]
          },
          "execution_count": 196,
          "metadata": {},
          "output_type": "execute_result"
        }
      ],
      "source": [
        "itos = {i:s for s,i in stoi.items()}\n",
        "itos"
      ]
    },
    {
      "cell_type": "code",
      "execution_count": 16,
      "metadata": {
        "colab": {
          "base_uri": "https://localhost:8080/",
          "height": 1000
        },
        "id": "IG_FkbANfpUn",
        "outputId": "eaeeedda-2928-4215-bd00-f71fb7064214"
      },
      "outputs": [
        {
          "data": {
            "image/png": "[encoded data removed]",
            "text/plain": [
              "<Figure size 1600x1600 with 1 Axes>"
            ]
          },
          "metadata": {},
          "output_type": "display_data"
        }
      ],
      "source": [
        "import matplotlib.pyplot as plt\n",
        "%matplotlib inline\n",
        "\n",
        "plt.figure(figsize=(16, 16))\n",
        "plt.imshow(N, cmap='Blues')\n",
        "plt.axis(\"off\")\n",
        "for i in range(27):\n",
        "    for j in range(27):\n",
        "        chstr = itos[i] + itos[j]\n",
        "        plt.text(j, i, chstr, ha=\"center\", va=\"bottom\", color=\"red\")\n",
        "        plt.text(j, i, N[i, j].item(), ha=\"center\", va=\"top\", color=\"red\")"
      ]
    },
    {
      "cell_type": "code",
      "execution_count": 17,
      "metadata": {
        "colab": {
          "base_uri": "https://localhost:8080/"
        },
        "id": "m6o8zUTqh08y",
        "outputId": "ea85c18c-68cf-478d-aada-1f292ca78325"
      },
      "outputs": [
        {
          "data": {
            "text/plain": [
              "tensor([0.0000, 0.1377, 0.0408, 0.0481, 0.0528, 0.0478, 0.0130, 0.0209, 0.0273,\n",
              "        0.0184, 0.0756, 0.0925, 0.0491, 0.0792, 0.0358, 0.0123, 0.0161, 0.0029,\n",
              "        0.0512, 0.0642, 0.0408, 0.0024, 0.0117, 0.0096, 0.0042, 0.0167, 0.0290])"
            ]
          },
          "execution_count": 17,
          "metadata": {},
          "output_type": "execute_result"
        }
      ],
      "source": [
        "# we have array of counts now, we need probability\n",
        "# let's normalize the counts and get it\n",
        "\n",
        "p = N[0].float()\n",
        "p = p/p.sum()\n",
        "p"
      ]
    },
    {
      "cell_type": "code",
      "execution_count": 197,
      "metadata": {
        "colab": {
          "base_uri": "https://localhost:8080/",
          "height": 36
        },
        "id": "I9tf9nVkoQho",
        "outputId": "98e6f8ff-a301-46c7-f0b1-5b9a1b596559"
      },
      "outputs": [
        {
          "data": {
            "application/vnd.google.colaboratory.intrinsic+json": {
              "type": "string"
            },
            "text/plain": [
              "'j'"
            ]
          },
          "execution_count": 197,
          "metadata": {},
          "output_type": "execute_result"
        }
      ],
      "source": [
        "# We will use a multinomial function to draw a character out based on its probability\n",
        "# it uses a generator as input, so let's create a generator with a manual seed to make it deterministic (provide same output everytime)\n",
        "\n",
        "g = torch.Generator().manual_seed(2147483647) # random definite number\n",
        "initial_state = g.get_state()\n",
        "\n",
        "# to get the most probable starting char, present in first row\n",
        "p = N[0].float()\n",
        "p = p/p.sum()\n",
        "\n",
        "# multinomial sampling\n",
        "g.set_state(initial_state)\n",
        "ix = torch.multinomial(p, num_samples=1, replacement=True, generator=g).item()\n",
        "itos[ix]"
      ]
    },
    {
      "cell_type": "code",
      "execution_count": 198,
      "metadata": {
        "colab": {
          "base_uri": "https://localhost:8080/",
          "height": 36
        },
        "id": "3u6mo7t2ozfG",
        "outputId": "9ca5968e-f334-43f6-ba76-b2398461a83d"
      },
      "outputs": [
        {
          "data": {
            "application/vnd.google.colaboratory.intrinsic+json": {
              "type": "string"
            },
            "text/plain": [
              "'a'"
            ]
          },
          "execution_count": 198,
          "metadata": {},
          "output_type": "execute_result"
        }
      ],
      "source": [
        "# so now, we have one character already sampled,\n",
        "# to sample the next character, we will keep that as the starting char\n",
        "# N[ix] shows the likelyhood of a character following itos[ix]\n",
        "\n",
        "p = N[ix].float()\n",
        "p = p/p.sum()\n",
        "\n",
        "g.set_state(initial_state)\n",
        "ix = torch.multinomial(p, num_samples=1, replacement=True, generator=g).item()\n",
        "itos[ix]"
      ]
    },
    {
      "cell_type": "code",
      "execution_count": 20,
      "metadata": {
        "colab": {
          "base_uri": "https://localhost:8080/"
        },
        "id": "B3eMlkj7rhu-",
        "outputId": "faf7ee63-9040-4f95-8f59-51e7102bcf34"
      },
      "outputs": [
        {
          "name": "stdout",
          "output_type": "stream",
          "text": [
            "tensor([0, 0, 0, 0, 1, 0, 0, 1, 1, 0])\n",
            "tensor([1, 2, 2, 0, 0, 2, 2, 0, 1, 1])\n"
          ]
        }
      ],
      "source": [
        "import torch\n",
        "g = torch.Generator().manual_seed(1)\n",
        "p = torch.rand(3, generator=g)\n",
        "g = torch.Generator().manual_seed(1)\n",
        "print(torch.multinomial(p, num_samples=10, replacement=True, generator=g))\n",
        "g.set_state(initial_state)\n",
        "print(torch.multinomial(p, num_samples=10, replacement=True, generator=g))\n",
        "\n",
        "# even with manual_seed the generator might yield different results, when state changes\n",
        "# so reset the state to initial state after each operation"
      ]
    },
    {
      "cell_type": "code",
      "execution_count": 199,
      "metadata": {
        "colab": {
          "base_uri": "https://localhost:8080/"
        },
        "id": "1nLPs1Cbw1fE",
        "outputId": "9d1c4799-3075-4a23-897a-5b3820a29c1f"
      },
      "outputs": [
        {
          "data": {
            "text/plain": [
              "tensor(1.)"
            ]
          },
          "execution_count": 199,
          "metadata": {},
          "output_type": "execute_result"
        }
      ],
      "source": [
        "# get the probability matrix\n",
        "# P = [n.float()/n.sum() for n in N]\n",
        "\n",
        "# let's use torch's vectorized method to make it more efficient\n",
        "\n",
        "P = N.float()\n",
        "# P = P / P.sum(1, keepdim=True) # creates a new copy of P\n",
        "P /= P.sum(1, keepdims=True) # inplace, no new memory\n",
        "P[0].sum()"
      ]
    },
    {
      "cell_type": "code",
      "execution_count": 200,
      "metadata": {
        "colab": {
          "base_uri": "https://localhost:8080/"
        },
        "id": "DiDC5SFOuUi8",
        "outputId": "6a015ea4-df3f-40b1-9e3a-31fb84f73d88"
      },
      "outputs": [
        {
          "name": "stdout",
          "output_type": "stream",
          "text": [
            "junide\n",
            "janasah\n",
            "p\n",
            "cony\n",
            "a\n",
            "nn\n",
            "kohin\n",
            "tolian\n",
            "juee\n",
            "ksahnaauranilevias\n",
            "dedainrwieta\n",
            "ssonielylarte\n",
            "faveumerifontume\n",
            "phynslenaruani\n",
            "core\n",
            "yaenon\n",
            "ka\n",
            "jabdinerimikimaynin\n",
            "anaasn\n",
            "ssorionsush\n"
          ]
        }
      ],
      "source": [
        "g = torch.Generator().manual_seed(2147483647)\n",
        "\n",
        "for _ in range(20):\n",
        "    ix = 0\n",
        "    wrd = ''\n",
        "    while True:\n",
        "        p = P[ix]\n",
        "        ix = torch.multinomial(p, num_samples=1, replacement=True, generator=g).item()\n",
        "        if ix==0:\n",
        "            break\n",
        "        wrd += itos[ix]\n",
        "    print(wrd)"
      ]
    },
    {
      "cell_type": "code",
      "execution_count": 23,
      "metadata": {
        "id": "nOt0sR1Hz0Xf"
      },
      "outputs": [],
      "source": [
        "# to measure the quality of the whole model\n",
        "\n",
        "# we use, MLE (Maximum Likelyhood Estimation)\n",
        "    # accuracy is proportional to the product of the probability of each pair in the whole model\n",
        "    # to multiply the probabilities of each pair (b/w 0-1), will result in a very small number\n",
        "    # so we use log likelyhood"
      ]
    },
    {
      "cell_type": "code",
      "execution_count": 24,
      "metadata": {
        "colab": {
          "base_uri": "https://localhost:8080/"
        },
        "id": "GhPYsRS02Orp",
        "outputId": "621916a2-edb0-4c6a-d491-19d9a737acc8"
      },
      "outputs": [
        {
          "name": "stdout",
          "output_type": "stream",
          "text": [
            "+e: 0.0478, -3.0408\n",
            "em: 0.0377, -3.2793\n",
            "mm: 0.0253, -3.6772\n",
            "ma: 0.3899, -0.9418\n",
            "a+: 0.1960, -1.6299\n",
            "+o: 0.0123, -4.3982\n",
            "ol: 0.0780, -2.5508\n",
            "li: 0.1777, -1.7278\n",
            "iv: 0.0152, -4.1867\n",
            "vi: 0.3541, -1.0383\n",
            "ia: 0.1381, -1.9796\n",
            "a+: 0.1960, -1.6299\n",
            "+a: 0.1377, -1.9829\n",
            "av: 0.0246, -3.7045\n",
            "va: 0.2495, -1.3882\n",
            "a+: 0.1960, -1.6299\n"
          ]
        }
      ],
      "source": [
        "for w in words[:3]:\n",
        "    chs = ['+'] + list(w) + ['+']\n",
        "    for ch1, ch2 in zip(chs, chs[1:]):\n",
        "        ix1 = stoi[ch1]\n",
        "        ix2 = stoi[ch2]\n",
        "        prob = P[ix1][ix2]\n",
        "        logprob = torch.log(prob)\n",
        "        print(f'{ch1}{ch2}: {prob:.4f}, {logprob:.4f}')"
      ]
    },
    {
      "cell_type": "code",
      "execution_count": 25,
      "metadata": {
        "id": "K-5Kfbwn2pbR"
      },
      "outputs": [],
      "source": [
        "# total likelyhood = product of likelyhood of each pair\n",
        "    # = a * b * c\n",
        "# taking log\n",
        "# log(a*b*c) = log(a) + log(b) + log(c)"
      ]
    },
    {
      "cell_type": "code",
      "execution_count": 26,
      "metadata": {
        "colab": {
          "base_uri": "https://localhost:8080/"
        },
        "id": "p88zElHx3TAv",
        "outputId": "45ebc2c3-6237-48ed-bc5f-042bcd5dd103"
      },
      "outputs": [
        {
          "name": "stdout",
          "output_type": "stream",
          "text": [
            "log_likelyhood=tensor(-559891.7500)\n"
          ]
        }
      ],
      "source": [
        "log_likelyhood = 0.0\n",
        "n = 0\n",
        "for w in words:\n",
        "    chs = ['+'] + list(w) + ['+']\n",
        "    for ch1, ch2 in zip(chs, chs[1:]):\n",
        "        ix1 = stoi[ch1]\n",
        "        ix2 = stoi[ch2]\n",
        "        prob = P[ix1][ix2]\n",
        "        logprob = torch.log(prob)\n",
        "        log_likelyhood += logprob\n",
        "        n+=1\n",
        "print(f'{log_likelyhood=}')"
      ]
    },
    {
      "cell_type": "code",
      "execution_count": 27,
      "metadata": {
        "colab": {
          "base_uri": "https://localhost:8080/"
        },
        "id": "XvZVJCQk3lm4",
        "outputId": "78f80698-8099-4bc9-9361-5054f1b5086f"
      },
      "outputs": [
        {
          "name": "stdout",
          "output_type": "stream",
          "text": [
            "nll=tensor(559891.7500)\n",
            "nll/n=tensor(2.4541)\n"
          ]
        }
      ],
      "source": [
        "# max log likelyhood will be 0, so the closer it is to 0, the better it is. (We should increase log likelyhood to make model more accurate)\n",
        "# but ideally we want a Loss function, which means the smaller it is, the more accurate it is.\n",
        "# so we calculate Negative Log Likelyhood, the inverse of Log Likelyhood\n",
        "nll = -log_likelyhood\n",
        "\n",
        "print(f'{nll=}')\n",
        "print(f'{nll/n=}') # average negative log likelyhood"
      ]
    },
    {
      "cell_type": "code",
      "execution_count": 28,
      "metadata": {
        "id": "EDdIX9lr4fvP"
      },
      "outputs": [],
      "source": [
        "# so the higher the avg. nll, the worse our model is. We try to minimize the loss (nll)"
      ]
    },
    {
      "cell_type": "code",
      "execution_count": 29,
      "metadata": {
        "id": "uYyMjKVc5E-l"
      },
      "outputs": [],
      "source": [
        "# GOAL: maximize likelyhood of the data w.r.t. model parameters (statistical modelling)\n",
        "# equivalent to maximizing the log likelihood (because log is monotonic)\n",
        "# equivalent to minimizing the negative log likelihood\n",
        "# equivalent to minimizing the average negative log likelihood\n",
        "\n",
        "# Loss = avg -(log(a) + log(b) + log(c) .... + log(n))"
      ]
    },
    {
      "cell_type": "code",
      "execution_count": 30,
      "metadata": {
        "colab": {
          "base_uri": "https://localhost:8080/"
        },
        "id": "GBXiJvSC53gK",
        "outputId": "4da3d970-8ad9-4770-8e4b-1a5b22bb8d13"
      },
      "outputs": [
        {
          "name": "stdout",
          "output_type": "stream",
          "text": [
            "+a: 0.1377, -1.9829\n",
            "an: 0.1605, -1.8296\n",
            "nd: 0.0384, -3.2594\n",
            "dr: 0.0771, -2.5620\n",
            "re: 0.1336, -2.0127\n",
            "ej: 0.0027, -5.9171\n",
            "j+: 0.0245, -3.7098\n",
            "log_likelyhood=tensor(-21.2735)\n",
            "nll=tensor(21.2735)\n",
            "loss=tensor(3.0391)\n"
          ]
        }
      ],
      "source": [
        "# testing some names for their probability\n",
        "\n",
        "log_likelyhood = 0\n",
        "n=0\n",
        "\n",
        "for w in [\"andrej\"]:\n",
        "    chs = ['+'] + list(w) + ['+']\n",
        "    for ch1, ch2 in zip(chs, chs[1:]):\n",
        "        ix1 = stoi[ch1]\n",
        "        ix2 = stoi[ch2]\n",
        "        prob = P[ix1][ix2]\n",
        "        logprob = torch.log(prob)\n",
        "        log_likelyhood += logprob\n",
        "        n+=1\n",
        "        print(f'{ch1}{ch2}: {prob:.4f}, {logprob:.4f}')\n",
        "\n",
        "print(f'{log_likelyhood=}')\n",
        "nll = -log_likelyhood\n",
        "loss = nll/n\n",
        "\n",
        "print(f'{nll=}')\n",
        "print(f'{loss=}')"
      ]
    },
    {
      "cell_type": "code",
      "execution_count": 31,
      "metadata": {
        "colab": {
          "base_uri": "https://localhost:8080/"
        },
        "id": "FZ80EoT-7yfA",
        "outputId": "72976116-8144-4a4d-c600-bb13fe4c8e15"
      },
      "outputs": [
        {
          "name": "stdout",
          "output_type": "stream",
          "text": [
            "+a: 0.1377, -1.9829\n",
            "an: 0.1605, -1.8296\n",
            "nd: 0.0384, -3.2594\n",
            "dr: 0.0771, -2.5620\n",
            "re: 0.1336, -2.0127\n",
            "ej: 0.0027, -5.9171\n",
            "jq: 0.0000, -inf\n",
            "q+: 0.1029, -2.2736\n",
            "log_likelyhood=tensor(-inf)\n",
            "nll=tensor(inf)\n",
            "loss=tensor(inf)\n"
          ]
        }
      ],
      "source": [
        "# testing some names for their probability\n",
        "\n",
        "log_likelyhood = 0\n",
        "n=0\n",
        "\n",
        "for w in [\"andrejq\"]:\n",
        "    chs = ['+'] + list(w) + ['+']\n",
        "    for ch1, ch2 in zip(chs, chs[1:]):\n",
        "        ix1 = stoi[ch1]\n",
        "        ix2 = stoi[ch2]\n",
        "        prob = P[ix1][ix2]\n",
        "        logprob = torch.log(prob)\n",
        "        log_likelyhood += logprob\n",
        "        n+=1\n",
        "        print(f'{ch1}{ch2}: {prob:.4f}, {logprob:.4f}')\n",
        "\n",
        "print(f'{log_likelyhood=}')\n",
        "nll = -log_likelyhood\n",
        "loss = nll/n\n",
        "\n",
        "print(f'{nll=}')\n",
        "print(f'{loss=}')"
      ]
    },
    {
      "cell_type": "code",
      "execution_count": 32,
      "metadata": {
        "id": "69vIBrTb7_L1"
      },
      "outputs": [],
      "source": [
        "# the loss for andrej was 3\n",
        "# whereas loss for andrejq is inf\n",
        "# because jq has a 0% probability to occur a/c to our model\n",
        "\n",
        "# which says that andrejq is a very unlikely word as compared to andrej"
      ]
    },
    {
      "cell_type": "code",
      "execution_count": 33,
      "metadata": {
        "colab": {
          "base_uri": "https://localhost:8080/"
        },
        "id": "l_PKDuZD8KFa",
        "outputId": "429614a6-8682-4299-f53a-4bf673aaf2a4"
      },
      "outputs": [
        {
          "name": "stdout",
          "output_type": "stream",
          "text": [
            "log_likelyhood=tensor(-inf)\n",
            "nll=tensor(inf)\n",
            "loss=tensor(inf)\n"
          ]
        }
      ],
      "source": [
        "# testing some names for their probability\n",
        "\n",
        "log_likelyhood = 0\n",
        "n=0\n",
        "\n",
        "for w in [\"\"]:\n",
        "    chs = ['+'] + list(w) + ['+']\n",
        "    for ch1, ch2 in zip(chs, chs[1:]):\n",
        "        ix1 = stoi[ch1]\n",
        "        ix2 = stoi[ch2]\n",
        "        prob = P[ix1][ix2]\n",
        "        logprob = torch.log(prob)\n",
        "        log_likelyhood += logprob\n",
        "        n+=1\n",
        "\n",
        "print(f'{log_likelyhood=}')\n",
        "nll = -log_likelyhood\n",
        "loss = nll/n\n",
        "\n",
        "print(f'{nll=}')\n",
        "print(f'{loss=}')"
      ]
    },
    {
      "cell_type": "code",
      "execution_count": 34,
      "metadata": {
        "id": "D0atqb7X85Z2"
      },
      "outputs": [],
      "source": [
        "# to prevent such inf loss, we can smoothen our model by adding some fake counts\n",
        "\n",
        "P = (N+1).float()\n",
        "P /= P.sum(1, keepdim=True)"
      ]
    },
    {
      "cell_type": "code",
      "execution_count": 35,
      "metadata": {
        "colab": {
          "base_uri": "https://localhost:8080/"
        },
        "id": "MN7254si9Nmo",
        "outputId": "f7acef25-14bb-4c2a-b73f-9171cf5e7d95"
      },
      "outputs": [
        {
          "name": "stdout",
          "output_type": "stream",
          "text": [
            "+a: 0.1376, -1.9835\n",
            "an: 0.1604, -1.8302\n",
            "nd: 0.0384, -3.2594\n",
            "dr: 0.0770, -2.5646\n",
            "re: 0.1334, -2.0143\n",
            "ej: 0.0027, -5.9004\n",
            "jq: 0.0003, -7.9817\n",
            "q+: 0.0970, -2.3331\n",
            "log_likelyhood=tensor(-27.8672)\n",
            "nll=tensor(27.8672)\n",
            "loss=tensor(3.4834)\n"
          ]
        }
      ],
      "source": [
        "# testing some names for their probability\n",
        "\n",
        "log_likelyhood = 0\n",
        "n=0\n",
        "\n",
        "for w in [\"andrejq\"]:\n",
        "    chs = ['+'] + list(w) + ['+']\n",
        "    for ch1, ch2 in zip(chs, chs[1:]):\n",
        "        ix1 = stoi[ch1]\n",
        "        ix2 = stoi[ch2]\n",
        "        prob = P[ix1][ix2]\n",
        "        logprob = torch.log(prob)\n",
        "        log_likelyhood += logprob\n",
        "        n+=1\n",
        "        print(f'{ch1}{ch2}: {prob:.4f}, {logprob:.4f}')\n",
        "\n",
        "print(f'{log_likelyhood=}')\n",
        "nll = -log_likelyhood\n",
        "loss = nll/n\n",
        "\n",
        "print(f'{nll=}')\n",
        "print(f'{loss=}')"
      ]
    },
    {
      "cell_type": "code",
      "execution_count": 36,
      "metadata": {
        "id": "QTEa59dZ9Pnt"
      },
      "outputs": [],
      "source": [
        "# now, even jq has a low probability (<> 0), it will not produce infinite loss"
      ]
    },
    {
      "cell_type": "code",
      "execution_count": 105,
      "metadata": {
        "id": "nWLYq5B_9WLU"
      },
      "outputs": [],
      "source": [
        "# this was bigram using basic frequency of each pair.\n",
        "\n",
        "# Summary\n",
        "    # 1. Count occurences of each pair\n",
        "    # 2. Create a 2D Tensor Matrix of occurences\n",
        "    # 3. Create probability matrix by row-wise normalization\n",
        "    # 4. Sample characters using the probability matrix until we encounter a end sequence\n",
        "\n",
        "# Let's jump into Neural Nets now"
      ]
    },
    {
      "cell_type": "markdown",
      "metadata": {
        "id": "C75Kud5t9ml_"
      },
      "source": [
        "# Neural Network approach to Bigram"
      ]
    },
    {
      "cell_type": "code",
      "execution_count": 106,
      "metadata": {
        "id": "xazQa3SNUDsD"
      },
      "outputs": [],
      "source": [
        "# Summary\n",
        "\n",
        "# 1. Split the words into characters. Get input and output datasets of character pairs.\n",
        "    # Make sure we use tensors to be efficient in the calculations\n",
        "# 2. One hot encode the input data integers, to receive a vector that can be fed into the Neural Network\n",
        "# 3. Generate a 27*27 Neuron Weights. Each Neuron receives 27 inputs\n",
        "# 4. Neural Net produces Logits as output, normalize the logits using softmax to get probability distribution\n",
        "# 5. Calculate loss using the probability distribution and minimize the loss"
      ]
    },
    {
      "cell_type": "code",
      "execution_count": 83,
      "metadata": {
        "id": "YN0ZSA0z9tAV"
      },
      "outputs": [],
      "source": [
        "# create a training set for the Neural Network\n",
        "\n",
        "xs, ys = [], []\n",
        "\n",
        "for w in words:\n",
        "    chs = ['+'] + list(w) + ['+']\n",
        "    for ch1, ch2 in zip(chs, chs[1:]):\n",
        "        ix1 = stoi[ch1]\n",
        "        ix2 = stoi[ch2]\n",
        "        xs.append(ix1)\n",
        "        ys.append(ix2)\n",
        "\n",
        "xs = torch.tensor(xs)\n",
        "ys = torch.tensor(ys)"
      ]
    },
    {
      "cell_type": "code",
      "execution_count": 84,
      "metadata": {
        "colab": {
          "base_uri": "https://localhost:8080/"
        },
        "id": "yxar5gf_nV9M",
        "outputId": "5273fb30-bb28-419d-e70f-b06683390713"
      },
      "outputs": [
        {
          "name": "stdout",
          "output_type": "stream",
          "text": [
            "tensor([ 0,  5, 13, 13,  1,  0, 15, 12,  9, 22])\n",
            "tensor([ 5, 13, 13,  1,  0, 15, 12,  9, 22,  9])\n"
          ]
        }
      ],
      "source": [
        "print(xs[:10])\n",
        "print(ys[:10])"
      ]
    },
    {
      "cell_type": "code",
      "execution_count": 85,
      "metadata": {
        "colab": {
          "base_uri": "https://localhost:8080/"
        },
        "id": "6JfPXM7IsQC9",
        "outputId": "02215cea-68ad-4f37-e2c3-7b3a5ad0800c"
      },
      "outputs": [
        {
          "data": {
            "text/plain": [
              "tensor([[1., 0., 0., 0., 0., 0., 0., 0., 0., 0., 0., 0., 0., 0., 0., 0., 0., 0.,\n",
              "         0., 0., 0., 0., 0., 0., 0., 0., 0.],\n",
              "        [0., 0., 0., 0., 0., 1., 0., 0., 0., 0., 0., 0., 0., 0., 0., 0., 0., 0.,\n",
              "         0., 0., 0., 0., 0., 0., 0., 0., 0.],\n",
              "        [0., 0., 0., 0., 0., 0., 0., 0., 0., 0., 0., 0., 0., 1., 0., 0., 0., 0.,\n",
              "         0., 0., 0., 0., 0., 0., 0., 0., 0.],\n",
              "        [0., 0., 0., 0., 0., 0., 0., 0., 0., 0., 0., 0., 0., 1., 0., 0., 0., 0.,\n",
              "         0., 0., 0., 0., 0., 0., 0., 0., 0.],\n",
              "        [0., 1., 0., 0., 0., 0., 0., 0., 0., 0., 0., 0., 0., 0., 0., 0., 0., 0.,\n",
              "         0., 0., 0., 0., 0., 0., 0., 0., 0.]])"
            ]
          },
          "execution_count": 85,
          "metadata": {},
          "output_type": "execute_result"
        }
      ],
      "source": [
        "# we need to convert these integers to be converted into vectors(arrays) of floats that can be fed into a neural network\n",
        "\n",
        "import torch.nn.functional as F\n",
        "x_enc = F.one_hot(xs, num_classes=27).float()\n",
        "x_enc[:5]"
      ]
    },
    {
      "cell_type": "code",
      "execution_count": 86,
      "metadata": {
        "id": "5KYxMUyJuwu7"
      },
      "outputs": [],
      "source": [
        "# one hot encoding will convert each integer into an array.\n",
        "# so now each integer is an array of zeros with only it's index position having 1\n",
        "# 0 is array of zeros with 1 at 0th index"
      ]
    },
    {
      "cell_type": "code",
      "execution_count": 87,
      "metadata": {
        "colab": {
          "base_uri": "https://localhost:8080/",
          "height": 169
        },
        "id": "QjD8cDqWvUQL",
        "outputId": "331928b4-07d3-4dca-9d27-9eb99c674154"
      },
      "outputs": [
        {
          "data": {
            "text/plain": [
              "<matplotlib.image.AxesImage at 0x7e8c2683de90>"
            ]
          },
          "execution_count": 87,
          "metadata": {},
          "output_type": "execute_result"
        },
        {
          "data": {
            "image/png": "[encoded data removed]",
            "text/plain": [
              "<Figure size 640x480 with 1 Axes>"
            ]
          },
          "metadata": {},
          "output_type": "display_data"
        }
      ],
      "source": [
        "plt.imshow(x_enc[:5])"
      ]
    },
    {
      "cell_type": "code",
      "execution_count": 88,
      "metadata": {
        "colab": {
          "base_uri": "https://localhost:8080/"
        },
        "id": "N5jtOl4vvcYc",
        "outputId": "c1e634c7-bafd-4111-ad84-d3020c85c221"
      },
      "outputs": [
        {
          "data": {
            "text/plain": [
              "tensor([[-0.8943, -1.0539,  0.2770, -1.7557, -0.7585,  1.2346,  0.8990, -0.7037,\n",
              "          1.2195,  0.5382, -0.4050, -1.4669, -1.1629, -0.3509,  2.1762,  0.0060,\n",
              "          0.3340, -0.7992, -1.6600,  0.4442, -1.8358,  0.1239, -1.0139, -0.7159,\n",
              "         -0.1469,  0.6996, -0.8034],\n",
              "        [ 0.6915,  0.5244,  0.5371,  0.3559,  0.7577, -0.9045, -0.9897, -1.2667,\n",
              "          0.2793,  0.9192, -0.5261,  0.6549,  0.5273,  1.5924, -2.1465,  1.3396,\n",
              "          0.0582, -2.8640, -0.7760, -2.5969,  0.1274, -0.3459, -1.8866,  0.3199,\n",
              "          0.6080,  0.9822, -0.4998],\n",
              "        [-1.2402,  0.7663,  1.2552,  1.4329,  1.0932, -1.1931, -1.3482,  0.6562,\n",
              "          1.5234,  1.3248,  0.4403,  1.3210,  0.5283, -1.1763,  2.2645, -0.1217,\n",
              "         -0.5312,  0.6163, -0.3418, -0.6771, -0.8547,  1.6973,  0.7567, -0.2929,\n",
              "         -1.0781, -1.0430,  1.1171],\n",
              "        [-1.2402,  0.7663,  1.2552,  1.4329,  1.0932, -1.1931, -1.3482,  0.6562,\n",
              "          1.5234,  1.3248,  0.4403,  1.3210,  0.5283, -1.1763,  2.2645, -0.1217,\n",
              "         -0.5312,  0.6163, -0.3418, -0.6771, -0.8547,  1.6973,  0.7567, -0.2929,\n",
              "         -1.0781, -1.0430,  1.1171],\n",
              "        [-0.7450, -0.4752, -0.5177, -0.0697,  0.2849,  0.8621, -0.5500, -1.3676,\n",
              "          1.9313,  0.0873,  2.1017, -0.1552, -2.2613, -0.1502,  1.1088, -0.6644,\n",
              "          1.1767,  0.2363,  0.2463, -0.7104,  0.9536,  1.4743, -0.2779, -0.7836,\n",
              "         -1.9684, -1.7939, -0.4528]])"
            ]
          },
          "execution_count": 88,
          "metadata": {},
          "output_type": "execute_result"
        }
      ],
      "source": [
        "x1_enc = x_enc[:5]\n",
        "W = torch.randn((27, 27)) # 27 * 27 Weights = 27 Neurons with 27 Weights each\n",
        "\n",
        "# Matrix Mult\n",
        "op = x1_enc @ W\n",
        "op"
      ]
    },
    {
      "cell_type": "code",
      "execution_count": 89,
      "metadata": {
        "colab": {
          "base_uri": "https://localhost:8080/"
        },
        "id": "a4SypmKAx0_0",
        "outputId": "9ab6a155-16ed-45be-a1a7-cc6aee5adbf7"
      },
      "outputs": [
        {
          "data": {
            "text/plain": [
              "torch.Size([5, 27])"
            ]
          },
          "execution_count": 89,
          "metadata": {},
          "output_type": "execute_result"
        }
      ],
      "source": [
        "op.shape\n",
        "# (5, 27) @ (27, 27) = (5, 27)"
      ]
    },
    {
      "cell_type": "code",
      "execution_count": 90,
      "metadata": {
        "colab": {
          "base_uri": "https://localhost:8080/"
        },
        "id": "RaPVkjHRx2V-",
        "outputId": "20c972bb-5986-4b1c-c3ae-43b870f3bc5f"
      },
      "outputs": [
        {
          "data": {
            "text/plain": [
              "tensor(-0.4528)"
            ]
          },
          "execution_count": 90,
          "metadata": {},
          "output_type": "execute_result"
        }
      ],
      "source": [
        "# This has 5 inputs and 5 outputs overall\n",
        "# each input goes through 27 Neurons, so produces 27 activations in total\n",
        "\n",
        "# op[0][0] = activation of ip1 by N1\n",
        "# op[0][1] = activation of ip2 by N2\n",
        "\n",
        "# op[4][26] = activation of ip5 by N27\n",
        "op[4][26]"
      ]
    },
    {
      "cell_type": "code",
      "execution_count": 91,
      "metadata": {
        "colab": {
          "base_uri": "https://localhost:8080/"
        },
        "id": "4ea62Gg60lLj",
        "outputId": "3a19eaea-19f3-46d6-c8b9-3a84bd5b7335"
      },
      "outputs": [
        {
          "data": {
            "text/plain": [
              "tensor([0., 1., 0., 0., 0., 0., 0., 0., 0., 0., 0., 0., 0., 0., 0., 0., 0., 0.,\n",
              "        0., 0., 0., 0., 0., 0., 0., 0., 0.])"
            ]
          },
          "execution_count": 91,
          "metadata": {},
          "output_type": "execute_result"
        }
      ],
      "source": [
        "x1_enc[4] # 5th ip"
      ]
    },
    {
      "cell_type": "code",
      "execution_count": 92,
      "metadata": {
        "colab": {
          "base_uri": "https://localhost:8080/"
        },
        "id": "8JiL0Qz00pK5",
        "outputId": "7ef31432-9201-4f0f-dd97-6dfe22119d6b"
      },
      "outputs": [
        {
          "data": {
            "text/plain": [
              "tensor([-0.8034, -0.4528,  1.4209,  1.1542,  1.0037, -0.4998, -0.0486,  0.2832,\n",
              "         0.0558, -0.4534, -0.3132,  1.2451, -0.4341,  1.1171,  1.2548,  0.4112,\n",
              "         0.4653,  0.2694, -1.1308, -0.8423,  1.3837,  0.5034,  0.1259, -0.0199,\n",
              "        -0.6567, -1.5067, -0.3234])"
            ]
          },
          "execution_count": 92,
          "metadata": {},
          "output_type": "execute_result"
        }
      ],
      "source": [
        "W[:, 26] # 27th Neuron"
      ]
    },
    {
      "cell_type": "code",
      "execution_count": 93,
      "metadata": {
        "colab": {
          "base_uri": "https://localhost:8080/"
        },
        "id": "T8VWrH9f0yBa",
        "outputId": "72b5196f-44f6-4308-b01e-2d9e4dc4b5c1"
      },
      "outputs": [
        {
          "data": {
            "text/plain": [
              "tensor(-0.4528)"
            ]
          },
          "execution_count": 93,
          "metadata": {},
          "output_type": "execute_result"
        }
      ],
      "source": [
        "(x1_enc[4] * W[:, 26]).sum()"
      ]
    },
    {
      "cell_type": "code",
      "execution_count": 94,
      "metadata": {
        "colab": {
          "base_uri": "https://localhost:8080/"
        },
        "id": "7vxOmyNz028i",
        "outputId": "d5546953-5728-4486-edfe-f71ece6441f6"
      },
      "outputs": [
        {
          "data": {
            "text/plain": [
              "tensor([-0.8943, -1.0539,  0.2770, -1.7557, -0.7585,  1.2346,  0.8990, -0.7037,\n",
              "         1.2195,  0.5382, -0.4050, -1.4669, -1.1629, -0.3509,  2.1762,  0.0060,\n",
              "         0.3340, -0.7992, -1.6600,  0.4442, -1.8358,  0.1239, -1.0139, -0.7159,\n",
              "        -0.1469,  0.6996, -0.8034])"
            ]
          },
          "execution_count": 94,
          "metadata": {},
          "output_type": "execute_result"
        }
      ],
      "source": [
        "# the outputs of these neural nets is the log count of each character after the given character\n",
        "\n",
        "# it is not probability, as sum(probability) should add up to 1, but it will not add up here\n",
        "# it is not actual counts as count cannot be float or negative\n",
        "\n",
        "op[0]"
      ]
    },
    {
      "cell_type": "code",
      "execution_count": 95,
      "metadata": {
        "colab": {
          "base_uri": "https://localhost:8080/"
        },
        "id": "q1w5kyMX2nRP",
        "outputId": "2acbe1cf-f6fc-4acb-c533-ff18a08946a5"
      },
      "outputs": [
        {
          "data": {
            "text/plain": [
              "(tensor([1., 0., 0., 0., 0., 0., 0., 0., 0., 0., 0., 0., 0., 0., 0., 0., 0., 0.,\n",
              "         0., 0., 0., 0., 0., 0., 0., 0., 0.]),\n",
              " tensor(-0.7585))"
            ]
          },
          "execution_count": 95,
          "metadata": {},
          "output_type": "execute_result"
        }
      ],
      "source": [
        "# op[0] shows the log count of each character after taking ip[0] as the inputx\n",
        "x1_enc[0], op[0][4]"
      ]
    },
    {
      "cell_type": "code",
      "execution_count": 96,
      "metadata": {
        "id": "lV4KQQ-u3rtc"
      },
      "outputs": [],
      "source": [
        "# this shows us that after x1_enc[0] i.e. '+'\n",
        "# 'd' occurs count= e**log(count) = e**0.8951 times"
      ]
    },
    {
      "cell_type": "code",
      "execution_count": 104,
      "metadata": {
        "id": "6rtZwPHc4Bnn"
      },
      "outputs": [],
      "source": [
        "logits = x_enc @ W # log counts\n",
        "counts = logits.exp() # equivalent to N (counts matrix)\n",
        "P = counts / counts.sum(1, keepdims=True) # equivalent to P\n",
        "# the last 2 lines together are called \"softmax\" = exp(ki)/ sum(exp(k))"
      ]
    },
    {
      "cell_type": "code",
      "execution_count": 99,
      "metadata": {
        "colab": {
          "base_uri": "https://localhost:8080/"
        },
        "id": "3JSRDvuUQeOy",
        "outputId": "c0b93fcc-338f-49bc-f93f-1aae347b7049"
      },
      "outputs": [
        {
          "data": {
            "text/plain": [
              "torch.Size([228146, 27])"
            ]
          },
          "execution_count": 99,
          "metadata": {},
          "output_type": "execute_result"
        }
      ],
      "source": [
        "P.shape"
      ]
    },
    {
      "cell_type": "code",
      "execution_count": 100,
      "metadata": {
        "colab": {
          "base_uri": "https://localhost:8080/"
        },
        "id": "HH4mzSOCQf3_",
        "outputId": "594a5702-e6d6-49df-ff44-a96ba4a4778c"
      },
      "outputs": [
        {
          "data": {
            "text/plain": [
              "(tensor([1., 0., 0., 0., 0., 0., 0., 0., 0., 0., 0., 0., 0., 0., 0., 0., 0., 0.,\n",
              "         0., 0., 0., 0., 0., 0., 0., 0., 0.]),\n",
              " tensor([0.0117, 0.0100, 0.0377, 0.0049, 0.0134, 0.0982, 0.0702, 0.0141, 0.0967,\n",
              "         0.0489, 0.0191, 0.0066, 0.0089, 0.0201, 0.2518, 0.0287, 0.0399, 0.0128,\n",
              "         0.0054, 0.0446, 0.0046, 0.0323, 0.0104, 0.0140, 0.0247, 0.0575, 0.0128]))"
            ]
          },
          "execution_count": 100,
          "metadata": {},
          "output_type": "execute_result"
        }
      ],
      "source": [
        "x_enc[0], P[0]"
      ]
    },
    {
      "cell_type": "code",
      "execution_count": 82,
      "metadata": {
        "id": "ljPJ5YqDQu_2"
      },
      "outputs": [],
      "source": [
        "# By taking x_enc[0] as the input, our Weights have given us the Probability of each of the 27 characters that can follow it.\n",
        "# This is our y_pred\n",
        "# We already have our y_true.\n",
        "# now we can formulate a loss function, maybe using RMSE method of both the arrays, then try to minimize it."
      ]
    },
    {
      "cell_type": "code",
      "execution_count": 103,
      "metadata": {
        "colab": {
          "base_uri": "https://localhost:8080/"
        },
        "id": "Wl4MfyXYRd4X",
        "outputId": "ca1d4e52-ec92-44c8-cd78-1a5f566099aa"
      },
      "outputs": [
        {
          "name": "stdout",
          "output_type": "stream",
          "text": [
            "tensor([0.0117, 0.0100, 0.0377, 0.0049, 0.0134, 0.0982, 0.0702, 0.0141, 0.0967,\n",
            "        0.0489, 0.0191, 0.0066, 0.0089, 0.0201, 0.2518, 0.0287, 0.0399, 0.0128,\n",
            "        0.0054, 0.0446, 0.0046, 0.0323, 0.0104, 0.0140, 0.0247, 0.0575, 0.0128])\n",
            "tensor([0., 0., 0., 0., 0., 1., 0., 0., 0., 0., 0., 0., 0., 0., 0., 0., 0., 0.,\n",
            "        0., 0., 0., 0., 0., 0., 0., 0., 0.])\n"
          ]
        }
      ],
      "source": [
        "# predicted output\n",
        "print(P[0])\n",
        "\n",
        "# desired output\n",
        "print(F.one_hot(ys[0], num_classes=27).float())"
      ]
    },
    {
      "cell_type": "code",
      "execution_count": 107,
      "metadata": {
        "id": "HBVAib7mSMAF"
      },
      "outputs": [],
      "source": [
        "# WORKING EXAMPLE"
      ]
    },
    {
      "cell_type": "code",
      "execution_count": 108,
      "metadata": {
        "id": "l9mgF-MMWc7m"
      },
      "outputs": [],
      "source": [
        "# create a training set for the Neural Network\n",
        "\n",
        "xs, ys = [], []\n",
        "\n",
        "for w in words[:1]:\n",
        "    chs = ['+'] + list(w) + ['+']\n",
        "    for ch1, ch2 in zip(chs, chs[1:]):\n",
        "        ix1 = stoi[ch1]\n",
        "        ix2 = stoi[ch2]\n",
        "        xs.append(ix1)\n",
        "        ys.append(ix2)\n",
        "\n",
        "xs = torch.tensor(xs)\n",
        "ys = torch.tensor(ys)"
      ]
    },
    {
      "cell_type": "code",
      "execution_count": 112,
      "metadata": {
        "colab": {
          "base_uri": "https://localhost:8080/"
        },
        "id": "Cz5QMvF7WnbH",
        "outputId": "cb74a183-544b-4ddf-f3b8-2f76bfb79dd5"
      },
      "outputs": [
        {
          "name": "stdout",
          "output_type": "stream",
          "text": [
            "tensor([ 0,  5, 13, 13,  1])\n",
            "tensor([[1., 0., 0., 0., 0., 0., 0., 0., 0., 0., 0., 0., 0., 0., 0., 0., 0., 0.,\n",
            "         0., 0., 0., 0., 0., 0., 0., 0., 0.],\n",
            "        [0., 0., 0., 0., 0., 1., 0., 0., 0., 0., 0., 0., 0., 0., 0., 0., 0., 0.,\n",
            "         0., 0., 0., 0., 0., 0., 0., 0., 0.],\n",
            "        [0., 0., 0., 0., 0., 0., 0., 0., 0., 0., 0., 0., 0., 1., 0., 0., 0., 0.,\n",
            "         0., 0., 0., 0., 0., 0., 0., 0., 0.],\n",
            "        [0., 0., 0., 0., 0., 0., 0., 0., 0., 0., 0., 0., 0., 1., 0., 0., 0., 0.,\n",
            "         0., 0., 0., 0., 0., 0., 0., 0., 0.],\n",
            "        [0., 1., 0., 0., 0., 0., 0., 0., 0., 0., 0., 0., 0., 0., 0., 0., 0., 0.,\n",
            "         0., 0., 0., 0., 0., 0., 0., 0., 0.]])\n",
            "tensor([ 5, 13, 13,  1,  0])\n"
          ]
        }
      ],
      "source": [
        "# One hot encode the training input\n",
        "\n",
        "xenc = F.one_hot(xs, num_classes=27).float()\n",
        "\n",
        "print(xs)\n",
        "print(xenc)\n",
        "print(ys)"
      ]
    },
    {
      "cell_type": "code",
      "execution_count": 113,
      "metadata": {
        "id": "CauobU_RWrFq"
      },
      "outputs": [],
      "source": [
        "# Generate a random Neural Network with 27 Neurons and 27 Weights each\n",
        "\n",
        "g = torch.Generator().manual_seed(2147483647)\n",
        "W = torch.randn((27, 27), generator=g)"
      ]
    },
    {
      "cell_type": "code",
      "execution_count": 117,
      "metadata": {
        "id": "7zA-wfbyXcwE"
      },
      "outputs": [],
      "source": [
        "# Product NN output as logits and get probability distribution from them\n",
        "\n",
        "logits = xenc @ W\n",
        "# Softmax\n",
        "counts = logits.exp()\n",
        "probs = counts / counts.sum(1, keepdims=True)\n",
        "\n",
        "# We make sure that all the operations used here are differentiable, so that we can backpropogate through them"
      ]
    },
    {
      "cell_type": "code",
      "execution_count": 118,
      "metadata": {
        "colab": {
          "base_uri": "https://localhost:8080/"
        },
        "id": "l2QWf45zX1MZ",
        "outputId": "5c6c81f7-7f8f-4b4e-8c9a-8704f1529a8d"
      },
      "outputs": [
        {
          "data": {
            "text/plain": [
              "tensor([[0.0607, 0.0100, 0.0123, 0.0042, 0.0168, 0.0123, 0.0027, 0.0232, 0.0137,\n",
              "         0.0313, 0.0079, 0.0278, 0.0091, 0.0082, 0.0500, 0.2378, 0.0603, 0.0025,\n",
              "         0.0249, 0.0055, 0.0339, 0.0109, 0.0029, 0.0198, 0.0118, 0.1537, 0.1459],\n",
              "        [0.0290, 0.0796, 0.0248, 0.0521, 0.1989, 0.0289, 0.0094, 0.0335, 0.0097,\n",
              "         0.0301, 0.0702, 0.0228, 0.0115, 0.0181, 0.0108, 0.0315, 0.0291, 0.0045,\n",
              "         0.0916, 0.0215, 0.0486, 0.0300, 0.0501, 0.0027, 0.0118, 0.0022, 0.0472],\n",
              "        [0.0312, 0.0737, 0.0484, 0.0333, 0.0674, 0.0200, 0.0263, 0.0249, 0.1226,\n",
              "         0.0164, 0.0075, 0.0789, 0.0131, 0.0267, 0.0147, 0.0112, 0.0585, 0.0121,\n",
              "         0.0650, 0.0058, 0.0208, 0.0078, 0.0133, 0.0203, 0.1204, 0.0469, 0.0126],\n",
              "        [0.0312, 0.0737, 0.0484, 0.0333, 0.0674, 0.0200, 0.0263, 0.0249, 0.1226,\n",
              "         0.0164, 0.0075, 0.0789, 0.0131, 0.0267, 0.0147, 0.0112, 0.0585, 0.0121,\n",
              "         0.0650, 0.0058, 0.0208, 0.0078, 0.0133, 0.0203, 0.1204, 0.0469, 0.0126],\n",
              "        [0.0150, 0.0086, 0.0396, 0.0100, 0.0606, 0.0308, 0.1084, 0.0131, 0.0125,\n",
              "         0.0048, 0.1024, 0.0086, 0.0988, 0.0112, 0.0232, 0.0207, 0.0408, 0.0078,\n",
              "         0.0899, 0.0531, 0.0463, 0.0309, 0.0051, 0.0329, 0.0654, 0.0503, 0.0091]])"
            ]
          },
          "execution_count": 118,
          "metadata": {},
          "output_type": "execute_result"
        }
      ],
      "source": [
        "probs # generated probability of each character occuring based in the input character vector"
      ]
    },
    {
      "cell_type": "code",
      "execution_count": 119,
      "metadata": {
        "colab": {
          "base_uri": "https://localhost:8080/"
        },
        "id": "wG9rG_9xX16Y",
        "outputId": "423f61a3-8db0-49c1-b860-47d4b4c9b286"
      },
      "outputs": [
        {
          "data": {
            "text/plain": [
              "torch.Size([5, 27])"
            ]
          },
          "execution_count": 119,
          "metadata": {},
          "output_type": "execute_result"
        }
      ],
      "source": [
        "probs.shape"
      ]
    },
    {
      "cell_type": "code",
      "execution_count": 120,
      "metadata": {
        "id": "rL-FiQrVYE-f"
      },
      "outputs": [],
      "source": [
        "# 5 outputs with probability distribution of the 27 characters"
      ]
    },
    {
      "cell_type": "code",
      "execution_count": 129,
      "metadata": {
        "colab": {
          "base_uri": "https://localhost:8080/"
        },
        "id": "J1pYT0mEYMap",
        "outputId": "230ddee1-774d-4789-a6fd-1f4bd709a7c3"
      },
      "outputs": [
        {
          "name": "stdout",
          "output_type": "stream",
          "text": [
            "------------------------------\n",
            "Bigram Example 0: +e (indexes((0, 5)))\n",
            "Input to the Neural Network: tensor([1., 0., 0., 0., 0., 0., 0., 0., 0., 0., 0., 0., 0., 0., 0., 0., 0., 0.,\n",
            "        0., 0., 0., 0., 0., 0., 0., 0., 0.])\n",
            "Output probability distribution from Neural Network: tensor([0.0607, 0.0100, 0.0123, 0.0042, 0.0168, 0.0123, 0.0027, 0.0232, 0.0137,\n",
            "        0.0313, 0.0079, 0.0278, 0.0091, 0.0082, 0.0500, 0.2378, 0.0603, 0.0025,\n",
            "        0.0249, 0.0055, 0.0339, 0.0109, 0.0029, 0.0198, 0.0118, 0.1537, 0.1459])\n",
            "Label (Actual Next Character Index): 5\n",
            "Probability assigned by Neural Net to the actual character Index: 0.01228625513613224\n",
            "Log Likelihood: -4.399273872375488\n",
            "Negative Log Likelihood: 4.399273872375488\n",
            "------------------------------\n",
            "------------------------------\n",
            "Bigram Example 1: em (indexes((5, 13)))\n",
            "Input to the Neural Network: tensor([0., 0., 0., 0., 0., 1., 0., 0., 0., 0., 0., 0., 0., 0., 0., 0., 0., 0.,\n",
            "        0., 0., 0., 0., 0., 0., 0., 0., 0.])\n",
            "Output probability distribution from Neural Network: tensor([0.0290, 0.0796, 0.0248, 0.0521, 0.1989, 0.0289, 0.0094, 0.0335, 0.0097,\n",
            "        0.0301, 0.0702, 0.0228, 0.0115, 0.0181, 0.0108, 0.0315, 0.0291, 0.0045,\n",
            "        0.0916, 0.0215, 0.0486, 0.0300, 0.0501, 0.0027, 0.0118, 0.0022, 0.0472])\n",
            "Label (Actual Next Character Index): 13\n",
            "Probability assigned by Neural Net to the actual character Index: 0.018050700426101685\n",
            "Log Likelihood: -4.014570713043213\n",
            "Negative Log Likelihood: 4.014570713043213\n",
            "------------------------------\n",
            "------------------------------\n",
            "Bigram Example 2: mm (indexes((13, 13)))\n",
            "Input to the Neural Network: tensor([0., 0., 0., 0., 0., 0., 0., 0., 0., 0., 0., 0., 0., 1., 0., 0., 0., 0.,\n",
            "        0., 0., 0., 0., 0., 0., 0., 0., 0.])\n",
            "Output probability distribution from Neural Network: tensor([0.0312, 0.0737, 0.0484, 0.0333, 0.0674, 0.0200, 0.0263, 0.0249, 0.1226,\n",
            "        0.0164, 0.0075, 0.0789, 0.0131, 0.0267, 0.0147, 0.0112, 0.0585, 0.0121,\n",
            "        0.0650, 0.0058, 0.0208, 0.0078, 0.0133, 0.0203, 0.1204, 0.0469, 0.0126])\n",
            "Label (Actual Next Character Index): 13\n",
            "Probability assigned by Neural Net to the actual character Index: 0.026691533625125885\n",
            "Log Likelihood: -3.623408794403076\n",
            "Negative Log Likelihood: 3.623408794403076\n",
            "------------------------------\n",
            "------------------------------\n",
            "Bigram Example 3: ma (indexes((13, 1)))\n",
            "Input to the Neural Network: tensor([0., 0., 0., 0., 0., 0., 0., 0., 0., 0., 0., 0., 0., 1., 0., 0., 0., 0.,\n",
            "        0., 0., 0., 0., 0., 0., 0., 0., 0.])\n",
            "Output probability distribution from Neural Network: tensor([0.0312, 0.0737, 0.0484, 0.0333, 0.0674, 0.0200, 0.0263, 0.0249, 0.1226,\n",
            "        0.0164, 0.0075, 0.0789, 0.0131, 0.0267, 0.0147, 0.0112, 0.0585, 0.0121,\n",
            "        0.0650, 0.0058, 0.0208, 0.0078, 0.0133, 0.0203, 0.1204, 0.0469, 0.0126])\n",
            "Label (Actual Next Character Index): 1\n",
            "Probability assigned by Neural Net to the actual character Index: 0.07367686182260513\n",
            "Log Likelihood: -2.6080665588378906\n",
            "Negative Log Likelihood: 2.6080665588378906\n",
            "------------------------------\n",
            "------------------------------\n",
            "Bigram Example 4: a+ (indexes((1, 0)))\n",
            "Input to the Neural Network: tensor([0., 1., 0., 0., 0., 0., 0., 0., 0., 0., 0., 0., 0., 0., 0., 0., 0., 0.,\n",
            "        0., 0., 0., 0., 0., 0., 0., 0., 0.])\n",
            "Output probability distribution from Neural Network: tensor([0.0150, 0.0086, 0.0396, 0.0100, 0.0606, 0.0308, 0.1084, 0.0131, 0.0125,\n",
            "        0.0048, 0.1024, 0.0086, 0.0988, 0.0112, 0.0232, 0.0207, 0.0408, 0.0078,\n",
            "        0.0899, 0.0531, 0.0463, 0.0309, 0.0051, 0.0329, 0.0654, 0.0503, 0.0091])\n",
            "Label (Actual Next Character Index): 0\n",
            "Probability assigned by Neural Net to the actual character Index: 0.014977526850998402\n",
            "Log Likelihood: -4.201204299926758\n",
            "Negative Log Likelihood: 4.201204299926758\n",
            "------------------------------\n",
            "Average Negative Log Likelihood: 3.7693049907684326\n"
          ]
        }
      ],
      "source": [
        "# Calculating loss\n",
        "nlls = torch.zeros(5)\n",
        "\n",
        "for i in range(5):\n",
        "    # i-th bigram\n",
        "    xind = xs[i].item() # index of input character\n",
        "    yind = ys[i].item() # index of output character\n",
        "    print(\"------------------------------\")\n",
        "    print(f'Bigram Example {i}: {itos[xind]}{itos[yind]} (indexes({xind, yind}))')\n",
        "    print(f'Input to the Neural Network: {xenc[i]}')\n",
        "    print(f'Output probability distribution from Neural Network: {probs[i]}')\n",
        "    print(f'Label (Actual Next Character Index): {yind}')\n",
        "\n",
        "    p = probs[i][yind]\n",
        "    print(f'Probability assigned by Neural Net to the actual character Index: {p.item()}')\n",
        "\n",
        "    logp = torch.log(p)\n",
        "    print(f'Log Likelihood: {logp.item()}')\n",
        "    nll = -logp\n",
        "    print(f'Negative Log Likelihood: {nll.item()}')\n",
        "    nlls[i] = nll\n",
        "    print(\"------------------------------\")\n",
        "\n",
        "print(f'Average Negative Log Likelihood: {nlls.mean().item()}')"
      ]
    },
    {
      "cell_type": "code",
      "execution_count": 131,
      "metadata": {
        "id": "fJtoFwLAZi1I"
      },
      "outputs": [],
      "source": [
        "# So now, we can increase the probability of the correct index,\n",
        "# which will increase the loglikelihood\n",
        "# which will inturn decrease the negative log likelihood and our loss"
      ]
    },
    {
      "cell_type": "code",
      "execution_count": 132,
      "metadata": {
        "id": "sfGDbSpnZkqR"
      },
      "outputs": [],
      "source": [
        "## OPTIMIZATION"
      ]
    },
    {
      "cell_type": "code",
      "execution_count": 133,
      "metadata": {
        "colab": {
          "base_uri": "https://localhost:8080/"
        },
        "id": "QEK1x1hcdjrV",
        "outputId": "477b607c-d0ee-4695-eda1-a98dbe66036b"
      },
      "outputs": [
        {
          "data": {
            "text/plain": [
              "tensor([ 0,  5, 13, 13,  1])"
            ]
          },
          "execution_count": 133,
          "metadata": {},
          "output_type": "execute_result"
        }
      ],
      "source": [
        "xs"
      ]
    },
    {
      "cell_type": "code",
      "execution_count": 134,
      "metadata": {
        "colab": {
          "base_uri": "https://localhost:8080/"
        },
        "id": "fTYGnq46dk4W",
        "outputId": "d860833b-dd6a-4ecb-9d09-663b2d7d983f"
      },
      "outputs": [
        {
          "data": {
            "text/plain": [
              "tensor([ 5, 13, 13,  1,  0])"
            ]
          },
          "execution_count": 134,
          "metadata": {},
          "output_type": "execute_result"
        }
      ],
      "source": [
        "ys"
      ]
    },
    {
      "cell_type": "code",
      "execution_count": 146,
      "metadata": {
        "id": "QID2q9ADdlTU"
      },
      "outputs": [],
      "source": [
        "g = torch.Generator().manual_seed(2147483647)\n",
        "W = torch.randn((27, 27), generator=g, requires_grad=True)"
      ]
    },
    {
      "cell_type": "code",
      "execution_count": 147,
      "metadata": {
        "id": "3VH_pedGdwsJ"
      },
      "outputs": [],
      "source": [
        "# forward pass\n",
        "xenc = F.one_hot(xs, num_classes=27).float()\n",
        "logits = xenc @ W\n",
        "counts = logits.exp()\n",
        "probs = counts / counts.sum(1, keepdims=True)"
      ]
    },
    {
      "cell_type": "code",
      "execution_count": 148,
      "metadata": {
        "colab": {
          "base_uri": "https://localhost:8080/"
        },
        "id": "cYxJ0PGGeJyc",
        "outputId": "4045a1f4-2ff4-4b70-d448-ff41fba3e50d"
      },
      "outputs": [
        {
          "name": "stdout",
          "output_type": "stream",
          "text": [
            "nlls=tensor([4.3993, 4.0146, 3.6234, 2.6081, 4.2012], grad_fn=<CopySlices>)\n",
            "Loss = 3.7693049907684326\n"
          ]
        }
      ],
      "source": [
        "# calculate loss (negative log likelihood)\n",
        "nlls = torch.zeros(len(ys))\n",
        "\n",
        "for i in range(len(ys)):\n",
        "    act_ind = ys[i]\n",
        "    pred_prob = probs[i, act_ind]\n",
        "    logp = torch.log(pred_prob)\n",
        "    nll = -logp\n",
        "    nlls[i] = nll\n",
        "\n",
        "print(f'{nlls=}')\n",
        "print(f'Loss = {nlls.mean().item()}')"
      ]
    },
    {
      "cell_type": "code",
      "execution_count": 149,
      "metadata": {
        "colab": {
          "base_uri": "https://localhost:8080/"
        },
        "id": "cd8fjxCheNnn",
        "outputId": "7fa8fade-6c54-4dae-f4af-0e00c9123264"
      },
      "outputs": [
        {
          "name": "stdout",
          "output_type": "stream",
          "text": [
            "loss=tensor(3.7693, grad_fn=<NegBackward0>)\n"
          ]
        }
      ],
      "source": [
        "# Torch way to do it\n",
        "\n",
        "# n = len(ys)\n",
        "# idxs = torch.arange(n)\n",
        "# pred_probs = probs[idxs, ys]\n",
        "# loss = -pred_probs.log().mean()\n",
        "\n",
        "loss = -probs[torch.arange(len(ys)), ys].log().mean() # don't dig into .item(), as we will need the backward function later\n",
        "\n",
        "print(f'{loss=}')"
      ]
    },
    {
      "cell_type": "code",
      "execution_count": 156,
      "metadata": {
        "id": "RhUe6NKLgDVM"
      },
      "outputs": [],
      "source": [
        "# Backward pass\n",
        "W.grad = None # setting grad to 0\n",
        "loss.backward() # Torch tensors have inbuilt backward method"
      ]
    },
    {
      "cell_type": "code",
      "execution_count": 158,
      "metadata": {
        "id": "Hszw-65thlXB"
      },
      "outputs": [],
      "source": [
        "# Nudge the weights\n",
        "W.data += -0.1 * W.grad"
      ]
    },
    {
      "cell_type": "code",
      "execution_count": 159,
      "metadata": {
        "colab": {
          "base_uri": "https://localhost:8080/"
        },
        "id": "0Ii5iEeeh_GH",
        "outputId": "01d112f0-a737-4e11-b06b-46641e52eb8e"
      },
      "outputs": [
        {
          "name": "stdout",
          "output_type": "stream",
          "text": [
            "loss=tensor(3.7292, grad_fn=<NegBackward0>)\n"
          ]
        }
      ],
      "source": [
        "# forward pass\n",
        "xenc = F.one_hot(xs, num_classes=27).float()\n",
        "logits = xenc @ W\n",
        "counts = logits.exp()\n",
        "probs = counts / counts.sum(1, keepdims=True)\n",
        "loss = -probs[torch.arange(len(ys)), ys].log().mean()\n",
        "\n",
        "print(f'{loss=}')"
      ]
    },
    {
      "cell_type": "code",
      "execution_count": 155,
      "metadata": {
        "id": "EpXfByuLiNeB"
      },
      "outputs": [],
      "source": [
        "# Loss has decreased by some amount"
      ]
    },
    {
      "cell_type": "code",
      "execution_count": 165,
      "metadata": {
        "id": "NadKljBOiR1y"
      },
      "outputs": [],
      "source": [
        "# making a func to make it easier\n",
        "def optimize_w(xenc, W):\n",
        "    logits = xenc @ W\n",
        "    counts = logits.exp()\n",
        "    probs = counts / counts.sum(1, keepdims=True)\n",
        "    loss = -probs[torch.arange(len(ys)), ys].log().mean()\n",
        "    # Backward pass\n",
        "    W.grad = None # setting grad to 0\n",
        "    loss.backward()\n",
        "\n",
        "    # Nudging the weights\n",
        "    W.data += -0.1 * W.grad\n",
        "\n",
        "    # Forward pass\n",
        "    logits = xenc @ W\n",
        "    counts = logits.exp()\n",
        "    probs = counts / counts.sum(1, keepdims=True)\n",
        "    loss = -probs[torch.arange(len(ys)), ys].log().mean()\n",
        "\n",
        "    print(f'{loss=}')"
      ]
    },
    {
      "cell_type": "code",
      "execution_count": 167,
      "metadata": {
        "colab": {
          "base_uri": "https://localhost:8080/"
        },
        "id": "fQClHVCXjDwt",
        "outputId": "c336f0be-ad04-4c8b-bb38-d475d838a7a0"
      },
      "outputs": [
        {
          "name": "stdout",
          "output_type": "stream",
          "text": [
            "loss=tensor(3.6892, grad_fn=<NegBackward0>)\n"
          ]
        }
      ],
      "source": [
        "optimize_w(xenc, W)"
      ]
    },
    {
      "cell_type": "code",
      "execution_count": 168,
      "metadata": {
        "id": "_NQZ3tVMjexX"
      },
      "outputs": [],
      "source": [
        "# LET\"S USE ALL THE WORDS NOW"
      ]
    },
    {
      "cell_type": "code",
      "execution_count": 182,
      "metadata": {
        "colab": {
          "base_uri": "https://localhost:8080/"
        },
        "id": "-F7YFvmMkCpw",
        "outputId": "ca4a1be1-249a-4297-b424-92f52b2c4856"
      },
      "outputs": [
        {
          "name": "stdout",
          "output_type": "stream",
          "text": [
            "Number of bigrams: 228146\n"
          ]
        }
      ],
      "source": [
        "# create a training set for the Neural Network\n",
        "\n",
        "xs, ys = [], []\n",
        "\n",
        "for w in words:\n",
        "    chs = ['+'] + list(w) + ['+']\n",
        "    for ch1, ch2 in zip(chs, chs[1:]):\n",
        "        ix1 = stoi[ch1]\n",
        "        ix2 = stoi[ch2]\n",
        "        xs.append(ix1)\n",
        "        ys.append(ix2)\n",
        "\n",
        "xs = torch.tensor(xs)\n",
        "xenc = F.one_hot(xs, num_classes=27).float()\n",
        "ys = torch.tensor(ys)\n",
        "n = xs.nelement()\n",
        "\n",
        "print(f\"Number of bigrams: {n}\")\n",
        "\n",
        "# initialize the network\n",
        "g = torch.Generator().manual_seed(2147483647)\n",
        "W = torch.randn((27, 27), generator=g, requires_grad=True)"
      ]
    },
    {
      "cell_type": "code",
      "execution_count": 183,
      "metadata": {
        "colab": {
          "base_uri": "https://localhost:8080/"
        },
        "id": "o_qJBhgkkuL7",
        "outputId": "8ca823fa-522d-42d0-eed3-b7de9768c9f0"
      },
      "outputs": [
        {
          "name": "stdout",
          "output_type": "stream",
          "text": [
            "3.758953809738159\n",
            "3.129453659057617\n",
            "2.914113998413086\n",
            "2.799959421157837\n",
            "2.7337806224823\n",
            "2.6869499683380127\n",
            "2.6551661491394043\n",
            "2.6306018829345703\n",
            "2.6211442947387695\n",
            "2.607550859451294\n",
            "2.616842031478882\n",
            "2.5821337699890137\n",
            "2.5751070976257324\n",
            "2.5671329498291016\n",
            "2.5811874866485596\n",
            "2.552203893661499\n",
            "2.5510077476501465\n",
            "2.545224905014038\n",
            "2.561443567276001\n",
            "2.5346157550811768\n",
            "2.535997152328491\n",
            "2.531637668609619\n",
            "2.549158811569214\n",
            "2.523322820663452\n",
            "2.525953769683838\n",
            "2.5225727558135986\n",
            "2.5409584045410156\n",
            "2.5155911445617676\n",
            "2.5188534259796143\n",
            "2.5161516666412354\n",
            "2.535137891769409\n",
            "2.510000705718994\n",
            "2.513601779937744\n",
            "2.511373281478882\n",
            "2.530787229537964\n",
            "2.505772590637207\n",
            "2.5095698833465576\n",
            "2.5076775550842285\n",
            "2.527402877807617\n",
            "2.502464532852173\n",
            "2.5063893795013428\n",
            "2.504737138748169\n",
            "2.5246903896331787\n",
            "2.4998087882995605\n",
            "2.503826856613159\n",
            "2.502347707748413\n",
            "2.5224721431732178\n",
            "2.497635841369629\n",
            "2.5017266273498535\n",
            "2.5003745555877686\n",
            "2.5206282138824463\n",
            "2.4958291053771973\n",
            "2.4999799728393555\n",
            "2.498723030090332\n",
            "2.5190768241882324\n",
            "2.4943089485168457\n",
            "2.4985079765319824\n",
            "2.4973244667053223\n",
            "2.5177571773529053\n",
            "2.4930148124694824\n",
            "2.497255563735962\n",
            "2.496128559112549\n",
            "2.5166239738464355\n",
            "2.4919018745422363\n",
            "2.496176242828369\n",
            "2.4950954914093018\n",
            "2.515641927719116\n",
            "2.490936756134033\n",
            "2.4952404499053955\n",
            "2.494194984436035\n",
            "2.514782428741455\n",
            "2.490093231201172\n",
            "2.49442195892334\n",
            "2.4934046268463135\n",
            "2.514026403427124\n",
            "2.4893500804901123\n",
            "2.4937005043029785\n",
            "2.492706537246704\n",
            "2.5133562088012695\n",
            "2.4886903762817383\n",
            "2.493058919906616\n",
            "2.4920852184295654\n",
            "2.5127596855163574\n",
            "2.48810076713562\n",
            "2.4924845695495605\n",
            "2.491527795791626\n",
            "2.5122227668762207\n",
            "2.487572431564331\n",
            "2.4919700622558594\n",
            "2.4910266399383545\n",
            "2.511739492416382\n",
            "2.4870944023132324\n",
            "2.4915034770965576\n",
            "2.490572214126587\n",
            "2.5113015174865723\n",
            "2.4866604804992676\n",
            "2.491079568862915\n",
            "2.490158796310425\n",
            "2.5109009742736816\n",
            "2.486265182495117\n"
          ]
        }
      ],
      "source": [
        "# Gradient Descent\n",
        "\n",
        "for i in range(100):\n",
        "    # Forward pass\n",
        "    logits = xenc @ W\n",
        "    counts = logits.exp()\n",
        "    probs = counts / counts.sum(1, keepdims=True)\n",
        "    loss = -probs[torch.arange(n), ys].log().mean()\n",
        "    print(loss.item())\n",
        "\n",
        "    # Backward pass\n",
        "    W.grad = None\n",
        "    loss.backward()\n",
        "\n",
        "    # nudging the weights\n",
        "    W.data += -100 * W.grad"
      ]
    },
    {
      "cell_type": "code",
      "execution_count": 187,
      "metadata": {
        "colab": {
          "base_uri": "https://localhost:8080/"
        },
        "id": "75nngGrhlitd",
        "outputId": "22895d74-a87c-4930-d260-8ebd2460011f"
      },
      "outputs": [
        {
          "name": "stdout",
          "output_type": "stream",
          "text": [
            "2.4601924419403076\n",
            "2.460165500640869\n",
            "2.460139513015747\n",
            "2.460113525390625\n",
            "2.460087537765503\n",
            "2.460061550140381\n",
            "2.460036277770996\n",
            "2.4600107669830322\n",
            "2.4599854946136475\n",
            "2.459960699081421\n",
            "2.4599363803863525\n",
            "2.459911823272705\n",
            "2.4598872661590576\n",
            "2.4598629474639893\n",
            "2.459839105606079\n",
            "2.459815263748169\n",
            "2.459791660308838\n",
            "2.459768295288086\n",
            "2.459745168685913\n",
            "2.4597220420837402\n",
            "2.4596991539001465\n",
            "2.4596760272979736\n",
            "2.459653854370117\n",
            "2.4596312046051025\n",
            "2.459609270095825\n",
            "2.4595870971679688\n",
            "2.4595654010772705\n",
            "2.459543466567993\n",
            "2.459521770477295\n",
            "2.459500551223755\n",
            "2.4594790935516357\n",
            "2.4594578742980957\n",
            "2.459437131881714\n",
            "2.459416389465332\n",
            "2.4593958854675293\n",
            "2.4593751430511475\n",
            "2.4593544006347656\n",
            "2.4593346118927\n",
            "2.4593143463134766\n",
            "2.459294319152832\n",
            "2.4592745304107666\n",
            "2.4592549800872803\n",
            "2.459235429763794\n",
            "2.4592161178588867\n",
            "2.4591968059539795\n",
            "2.4591777324676514\n",
            "2.4591588973999023\n",
            "2.459139823913574\n",
            "2.459120988845825\n",
            "2.4591026306152344\n",
            "2.4590840339660645\n",
            "2.4590656757354736\n",
            "2.459047317504883\n",
            "2.45902943611145\n",
            "2.4590115547180176\n",
            "2.458993434906006\n",
            "2.4589757919311523\n",
            "2.4589579105377197\n",
            "2.4589407444000244\n",
            "2.45892333984375\n",
            "2.4589061737060547\n",
            "2.4588887691497803\n",
            "2.458871841430664\n",
            "2.4588546752929688\n",
            "2.4588377475738525\n",
            "2.4588212966918945\n",
            "2.4588046073913574\n",
            "2.4587879180908203\n",
            "2.4587717056274414\n",
            "2.4587554931640625\n",
            "2.4587390422821045\n",
            "2.4587230682373047\n",
            "2.458707094192505\n",
            "2.458691120147705\n",
            "2.4586756229400635\n",
            "2.4586596488952637\n",
            "2.458644151687622\n",
            "2.4586286544799805\n",
            "2.458613157272339\n",
            "2.4585981369018555\n",
            "2.458582639694214\n",
            "2.4585678577423096\n",
            "2.458552598953247\n",
            "2.4585378170013428\n",
            "2.4585227966308594\n",
            "2.458508253097534\n",
            "2.458493709564209\n",
            "2.4584789276123047\n",
            "2.4584646224975586\n",
            "2.4584500789642334\n",
            "2.4584357738494873\n",
            "2.4584219455718994\n",
            "2.4584076404571533\n",
            "2.4583933353424072\n",
            "2.4583795070648193\n",
            "2.4583654403686523\n",
            "2.4583518505096436\n",
            "2.4583380222320557\n",
            "2.458324670791626\n",
            "2.458310842514038\n"
          ]
        }
      ],
      "source": [
        "# Gradient Descent\n",
        "\n",
        "for i in range(100):\n",
        "    # Forward pass\n",
        "    logits = xenc @ W\n",
        "    counts = logits.exp()\n",
        "    probs = counts / counts.sum(1, keepdims=True)\n",
        "    loss = -probs[torch.arange(n), ys].log().mean()\n",
        "    print(loss.item())\n",
        "\n",
        "    # Backward pass\n",
        "    W.grad = None\n",
        "    loss.backward()\n",
        "\n",
        "    # nudging the weights\n",
        "    W.data += -50 * W.grad"
      ]
    },
    {
      "cell_type": "code",
      "execution_count": 189,
      "metadata": {
        "id": "LATc59TpmwIg"
      },
      "outputs": [],
      "source": [
        "# This is the minimum loss we can achieve, as this was the loss we received using counting bigram method\n",
        "\n",
        "# https://colab.research.google.com/drive/1iHfTiwFtw3onIbGrwKztnypaes2bjsx7#scrollTo=XvZVJCQk3lm4&line=3&uniqifier=1"
      ]
    },
    {
      "cell_type": "code",
      "execution_count": 190,
      "metadata": {
        "id": "-cD4yDpInUXD"
      },
      "outputs": [],
      "source": [
        "# Neural Net Bigram is preferrable, as this concept can be taken to more complex methods as in Transformers etc.\n",
        "# It is also easier to make a Trigram out of this easily"
      ]
    },
    {
      "cell_type": "code",
      "execution_count": 191,
      "metadata": {
        "id": "3Q3cjXEsqf8A"
      },
      "outputs": [],
      "source": [
        "# SAMPLING"
      ]
    },
    {
      "cell_type": "code",
      "execution_count": 203,
      "metadata": {
        "colab": {
          "base_uri": "https://localhost:8080/"
        },
        "id": "oXHNVpOjqg-t",
        "outputId": "ab3debd4-c0b1-4688-9991-58371e801c02"
      },
      "outputs": [
        {
          "name": "stdout",
          "output_type": "stream",
          "text": [
            "junide\n",
            "janasah\n",
            "prelay\n",
            "a\n",
            "nn\n",
            "kohin\n",
            "tolian\n",
            "juee\n",
            "ksahnaauranilevias\n",
            "dedainrwieta\n",
            "ssonielylarte\n",
            "faveumerifontume\n",
            "phynslenaruani\n",
            "core\n",
            "yaenon\n",
            "ka\n",
            "jabi\n",
            "werimikimaynin\n",
            "anaasn\n",
            "ssorionsush\n"
          ]
        }
      ],
      "source": [
        "g = torch.Generator().manual_seed(2147483647)\n",
        "\n",
        "for _ in range(20):\n",
        "    ix = 0\n",
        "    wrd = ''\n",
        "    while True:\n",
        "        xenc = F.one_hot(torch.tensor([ix]), num_classes=27).float()\n",
        "        logits = xenc @ W\n",
        "        counts = logits.exp()\n",
        "        probs = counts / counts.sum(1, keepdims=True)\n",
        "        ix = torch.multinomial(probs, num_samples=1, replacement=True, generator=g).item()\n",
        "        if ix==0:\n",
        "            break\n",
        "        wrd += itos[ix]\n",
        "    print(wrd)"
      ]
    },
    {
      "cell_type": "code",
      "execution_count": 201,
      "metadata": {
        "colab": {
          "base_uri": "https://localhost:8080/"
        },
        "id": "ROl2TNZvq4aW",
        "outputId": "5d9f0c59-5671-4ca0-db5e-f28c5f01952e"
      },
      "outputs": [
        {
          "name": "stdout",
          "output_type": "stream",
          "text": [
            "junide\n",
            "janasah\n",
            "p\n",
            "cony\n",
            "a\n",
            "nn\n",
            "kohin\n",
            "tolian\n",
            "juee\n",
            "ksahnaauranilevias\n",
            "dedainrwieta\n",
            "ssonielylarte\n",
            "faveumerifontume\n",
            "phynslenaruani\n",
            "core\n",
            "yaenon\n",
            "ka\n",
            "jabdinerimikimaynin\n",
            "anaasn\n",
            "ssorionsush\n"
          ]
        }
      ],
      "source": [
        "g = torch.Generator().manual_seed(2147483647)\n",
        "\n",
        "for _ in range(20):\n",
        "    ix = 0\n",
        "    wrd = ''\n",
        "    while True:\n",
        "        p = P[ix]\n",
        "        ix = torch.multinomial(p, num_samples=1, replacement=True, generator=g).item()\n",
        "        if ix==0:\n",
        "            break\n",
        "        wrd += itos[ix]\n",
        "    print(wrd)"
      ]
    },
    {
      "cell_type": "code",
      "execution_count": 204,
      "metadata": {
        "id": "0EyrjKIzq9BA"
      },
      "outputs": [],
      "source": [
        "# We can see that the samplings are almost identical as they are built from the same data with same accuracy"
      ]
    },
    {
      "cell_type": "code",
      "execution_count": 205,
      "metadata": {
        "id": "y-QfVJRxsTf0"
      },
      "outputs": [],
      "source": [
        "# REGULARIZATION"
      ]
    },
    {
      "cell_type": "code",
      "execution_count": 206,
      "metadata": {
        "id": "h3IJjTJutEEY"
      },
      "outputs": [],
      "source": [
        "# as in the counting method, we can add a number to the counts to make the probability distribution smoother\n",
        "# N+100\n",
        "\n",
        "# We can do the same in Neural Net using Regularization\n",
        "# Here, the probability distribution can be smooth when the counts are similar (almost same)\n",
        "# to make the counts same, we need to get the logits also same\n",
        "# to have same logits throughout, it can be achieved if we multiply xenc with 0. (If we initialize W=0)\n",
        "# this will give us logits = 0, counts = 1, and equal probability distribution\n",
        "\n",
        "# to focus on getting the Weights to 0,\n",
        "# we can include a term of it directly in the loss function and try to minimize loss, which will also affect the W\n",
        "\n",
        "# loss = -probs[torch.arange(n), ys].log().mean() + 0.1 *(W**2).mean()\n",
        "\n",
        "# here 0.1 is the \"Strength of regularization\"\n",
        "# we square W to get rid of the negative signs and then take the mean to reduce the value"
      ]
    },
    {
      "cell_type": "code",
      "execution_count": 207,
      "metadata": {
        "id": "qoB_WVJuugjL"
      },
      "outputs": [],
      "source": [
        "# SUMMARY\n",
        "\n",
        "# 1. Create a dataset (xs, ys) with indices\n",
        "# 2. One hot encode the xs dataset\n",
        "# 3. Create a Net with 27 Neurons and 27 weights each at random\n",
        "# 4. Get logits as output of the matrix multiplication xenc @ W\n",
        "# 5. Get probability distribution from the logits using softmax\n",
        "# 6. Calculate loss using probability distribution\n",
        "# 7. Backward prop the loss to generate gradients (Make sure to set the grad to None first)\n",
        "# 8. Nudge the weights using gradient descent\n",
        "# 9. Check the loss and repeat 6,7,8 till satisfied with the loss"
      ]
    },
    {
      "cell_type": "code",
      "execution_count": 208,
      "metadata": {
        "id": "b5mr5u8svdhY"
      },
      "outputs": [],
      "source": [
        "# TRIGRAM PRACTICE"
      ]
    },
    {
      "cell_type": "code",
      "execution_count": 244,
      "metadata": {
        "colab": {
          "base_uri": "https://localhost:8080/"
        },
        "id": "YOxKyd2WxqxM",
        "outputId": "8fad8e67-3780-4803-f4a5-ec790d1c767b"
      },
      "outputs": [
        {
          "name": "stdout",
          "output_type": "stream",
          "text": [
            "Number of trigrams: 196113\n"
          ]
        }
      ],
      "source": [
        "# create a training set for the Neural Network\n",
        "x1s = []\n",
        "x2s = []\n",
        "ys = []\n",
        "\n",
        "for w in words:\n",
        "    chs = ['+'] + list(w) + ['+']\n",
        "    for ch1, ch2, ch3 in zip(chs, chs[1:], chs[2:]):\n",
        "        ix1 = stoi[ch1]\n",
        "        ix2 = stoi[ch2]\n",
        "        ix3 = stoi[ch3]\n",
        "        x1s.append(ix1)\n",
        "        x2s.append(ix2)\n",
        "        ys.append(ix3)\n",
        "\n",
        "x1s = torch.tensor(x1s)\n",
        "x2s = torch.tensor(x2s)\n",
        "x1enc = F.one_hot(x1s, num_classes=27).float()\n",
        "x2enc = F.one_hot(x2s, num_classes=27).float()\n",
        "ys = torch.tensor(ys)\n",
        "n = x1s.nelement()\n",
        "\n",
        "print(f\"Number of trigrams: {n}\")\n",
        "\n",
        "# initialize the network\n",
        "g = torch.Generator().manual_seed(2147483647)\n",
        "W = torch.randn((54, 27), generator=g, requires_grad=True)\n",
        "\n",
        "# Calculation:\n",
        "# x_enc = [x1_enc] + [x2+enc] = [1, 54]\n",
        "# W = [54, 27]\n",
        "\n",
        "# logits = x_enc @ W = [1, 54] @ [54, 27] = [1, 27]\n",
        "# Same logic from thereon"
      ]
    },
    {
      "cell_type": "code",
      "execution_count": 245,
      "metadata": {
        "colab": {
          "base_uri": "https://localhost:8080/"
        },
        "id": "gOa-w4qSzB-i",
        "outputId": "ae550d69-8d2f-448d-a4b5-4d287ff2392d"
      },
      "outputs": [
        {
          "data": {
            "text/plain": [
              "(torch.Size([196113, 27]),\n",
              " tensor([1., 0., 0., 0., 0., 0., 0., 0., 0., 0., 0., 0., 0., 0., 0., 0., 0., 0.,\n",
              "         0., 0., 0., 0., 0., 0., 0., 0., 0.]))"
            ]
          },
          "execution_count": 245,
          "metadata": {},
          "output_type": "execute_result"
        }
      ],
      "source": [
        "x1enc.shape, x1_enc[0]"
      ]
    },
    {
      "cell_type": "code",
      "execution_count": 246,
      "metadata": {
        "colab": {
          "base_uri": "https://localhost:8080/"
        },
        "id": "QJmv4JElzhf6",
        "outputId": "8d0630d7-ca0a-434f-cfa8-4cf5305219a3"
      },
      "outputs": [
        {
          "data": {
            "text/plain": [
              "torch.Size([196113, 54])"
            ]
          },
          "execution_count": 246,
          "metadata": {},
          "output_type": "execute_result"
        }
      ],
      "source": [
        "xenc = torch.cat([x1enc, x2enc], dim=1) # dim= dimension to concat(rows)\n",
        "xenc.shape"
      ]
    },
    {
      "cell_type": "code",
      "execution_count": 247,
      "metadata": {
        "id": "Q4jUJahwztRV"
      },
      "outputs": [],
      "source": [
        "logits = xenc @ W\n",
        "counts = logits.exp()\n",
        "probs = counts/ counts.sum(1, keepdims=True)"
      ]
    },
    {
      "cell_type": "code",
      "execution_count": 248,
      "metadata": {
        "colab": {
          "base_uri": "https://localhost:8080/"
        },
        "id": "JZsF7uS60rp7",
        "outputId": "817a842a-a83c-4405-9acf-f5cf7e762ef7"
      },
      "outputs": [
        {
          "data": {
            "text/plain": [
              "tensor(4.1863, grad_fn=<NegBackward0>)"
            ]
          },
          "execution_count": 248,
          "metadata": {},
          "output_type": "execute_result"
        }
      ],
      "source": [
        "loss = -probs[torch.arange(n), ys].log().mean()\n",
        "loss"
      ]
    },
    {
      "cell_type": "code",
      "execution_count": 249,
      "metadata": {
        "id": "IhWmC3HL0sx9"
      },
      "outputs": [],
      "source": [
        "# backward pass\n",
        "W.grad = None\n",
        "loss.backward()"
      ]
    },
    {
      "cell_type": "code",
      "execution_count": 250,
      "metadata": {
        "id": "eaMVMfqR1FP2"
      },
      "outputs": [],
      "source": [
        "W.data += -0.1 * W.grad"
      ]
    },
    {
      "cell_type": "code",
      "execution_count": 251,
      "metadata": {
        "colab": {
          "base_uri": "https://localhost:8080/"
        },
        "id": "geHi290R1OmR",
        "outputId": "4314af66-d0b8-4c20-eda2-06ea61ca5d08"
      },
      "outputs": [
        {
          "data": {
            "text/plain": [
              "tensor(4.1842, grad_fn=<NegBackward0>)"
            ]
          },
          "execution_count": 251,
          "metadata": {},
          "output_type": "execute_result"
        }
      ],
      "source": [
        "logits = xenc @ W\n",
        "counts = logits.exp()\n",
        "probs = counts/ counts.sum(1, keepdims=True)\n",
        "loss = -probs[torch.arange(n), ys].log().mean()\n",
        "loss"
      ]
    },
    {
      "cell_type": "code",
      "execution_count": 252,
      "metadata": {
        "id": "NezaBqAY1RSo"
      },
      "outputs": [],
      "source": [
        "# PUTTING IT ALL TOGETHER"
      ]
    },
    {
      "cell_type": "code",
      "execution_count": 261,
      "metadata": {
        "colab": {
          "base_uri": "https://localhost:8080/"
        },
        "id": "UzaBQR4D1VAU",
        "outputId": "9c55f9e7-6c1e-4b44-ebf7-9acb73741b8f"
      },
      "outputs": [
        {
          "name": "stdout",
          "output_type": "stream",
          "text": [
            "2.283776044845581\n"
          ]
        }
      ],
      "source": [
        "# Gradient Descent\n",
        "\n",
        "for i in range(1000):\n",
        "    # Forward pass\n",
        "    logits = xenc @ W\n",
        "    counts = logits.exp()\n",
        "    probs = counts / counts.sum(1, keepdims=True)\n",
        "    loss = -probs[torch.arange(n), ys].log().mean()\n",
        "    # print(loss.item())\n",
        "\n",
        "    # Backward pass\n",
        "    W.grad = None\n",
        "    loss.backward()\n",
        "\n",
        "    # nudging the weights\n",
        "    W.data += -1 * W.grad\n",
        "print(loss.item())"
      ]
    },
    {
      "cell_type": "code",
      "execution_count": 262,
      "metadata": {
        "id": "B4vDfoLR6ux6"
      },
      "outputs": [],
      "source": [
        "# Bit more accurate than bigram"
      ]
    },
    {
      "cell_type": "code",
      "execution_count": 263,
      "metadata": {
        "id": "5FihktW71mBA"
      },
      "outputs": [],
      "source": [
        "## TESTING TRIGRAM"
      ]
    },
    {
      "cell_type": "code",
      "execution_count": 267,
      "metadata": {
        "colab": {
          "base_uri": "https://localhost:8080/"
        },
        "id": "-rQlPoBT3dRC",
        "outputId": "312f9dd6-caf3-498e-c594-a9528678d51c"
      },
      "outputs": [
        {
          "name": "stdout",
          "output_type": "stream",
          "text": [
            "aunide\n",
            "aliasaz\n",
            "alen\n",
            "amainn\n",
            "aui\n",
            "ritoleras\n",
            "gel\n",
            "adannaauranileniassdbdainrwimel\n",
            "seisiely\n",
            "arte\n"
          ]
        }
      ],
      "source": [
        "g = torch.Generator().manual_seed(2147483647)\n",
        "\n",
        "for _ in range(10):\n",
        "    ix = [0, 0]\n",
        "    wrd = ''\n",
        "    while True:\n",
        "        x1enc = F.one_hot(torch.tensor([ix[0]]), num_classes=27).float()\n",
        "        x2enc = F.one_hot(torch.tensor([ix[1]]), num_classes=27).float()\n",
        "        xenc = torch.cat([x1enc, x2enc], dim=1)\n",
        "        logits = xenc @ W\n",
        "        counts = logits.exp()\n",
        "        probs = counts / counts.sum(1, keepdims=True)\n",
        "        ix_next = torch.multinomial(probs, num_samples=1, replacement=True, generator=g).item()\n",
        "        if ix_next==0:\n",
        "            break\n",
        "        wrd += itos[ix_next]\n",
        "        ix = [ix[-1], ix_next]\n",
        "    print(wrd)"
      ]
    },
    {
      "cell_type": "code",
      "execution_count": 268,
      "metadata": {
        "id": "G-r3ciuD4kRR"
      },
      "outputs": [],
      "source": [
        "# bit more namelike than bigram model"
      ]
    },
    {
      "cell_type": "code",
      "execution_count": null,
      "metadata": {
        "id": "KCljGoWH632p"
      },
      "outputs": [],
      "source": []
    }
  ],
  "metadata": {
    "colab": {
      "collapsed_sections": [
        "YePzncYLSjDb",
        "C75Kud5t9ml_"
      ],
      "provenance": []
    },
    "kernelspec": {
      "display_name": "Python 3",
      "name": "python3"
    },
    "language_info": {
      "name": "python"
    }
  },
  "nbformat": 4,
  "nbformat_minor": 0
}
