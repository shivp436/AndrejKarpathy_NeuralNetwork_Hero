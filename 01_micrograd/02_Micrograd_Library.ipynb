{
  "nbformat": 4,
  "nbformat_minor": 0,
  "metadata": {
    "colab": {
      "provenance": []
    },
    "kernelspec": {
      "name": "python3",
      "display_name": "Python 3"
    },
    "language_info": {
      "name": "python"
    }
  },
  "cells": [
    {
      "cell_type": "code",
      "source": [
        "import numpy as np\n",
        "import matplotlib.pyplot as plt\n",
        "import pandas as pd\n",
        "%matplotlib inline\n",
        "\n",
        "import random\n",
        "from graphviz import Digraph"
      ],
      "metadata": {
        "id": "5J5EKmRHiw_-"
      },
      "execution_count": 1,
      "outputs": []
    },
    {
      "cell_type": "markdown",
      "source": [
        "## Building block: Value"
      ],
      "metadata": {
        "id": "8PqiIBiCc36Z"
      }
    },
    {
      "cell_type": "code",
      "execution_count": 2,
      "metadata": {
        "id": "gt3ZHncoiptv"
      },
      "outputs": [],
      "source": [
        "class Value:\n",
        "    \"\"\" stores a single scalar value and its gradient \"\"\"\n",
        "\n",
        "    def __init__(self, data, _prev=(), _op='', label=''):\n",
        "        self.data = data\n",
        "        self.grad = 0\n",
        "        self.label = label\n",
        "        self._backward = lambda: None\n",
        "        self._prev = set(_prev)\n",
        "        self._op = _op\n",
        "\n",
        "    def __add__(self, other):\n",
        "        other = other if isinstance(other, Value) else Value(other)\n",
        "        out = Value(self.data + other.data, (self, other), '+')\n",
        "\n",
        "        def _backward():\n",
        "            self.grad += out.grad\n",
        "            other.grad += out.grad\n",
        "        out._backward = _backward\n",
        "\n",
        "        return out\n",
        "\n",
        "    def __mul__(self, other):\n",
        "        other = other if isinstance(other, Value) else Value(other)\n",
        "        out = Value(self.data * other.data, (self, other), '*')\n",
        "\n",
        "        def _backward():\n",
        "            self.grad += other.data * out.grad\n",
        "            other.grad += self.data * out.grad\n",
        "        out._backward = _backward\n",
        "\n",
        "        return out\n",
        "\n",
        "    def tanh(self):\n",
        "        x = self.data\n",
        "        t = (np.exp(2*x) - 1)/(np.exp(2*x) + 1)\n",
        "        out = Value(t, (self, ), 'tanh')\n",
        "\n",
        "        def _backward():\n",
        "            self.grad += (1 - t**2) * out.grad\n",
        "        out._backward = _backward\n",
        "\n",
        "        return out\n",
        "\n",
        "    def __pow__(self, other):\n",
        "        assert isinstance(other, (int, float)), \"only supporting int/float powers for now\"\n",
        "        out = Value(self.data**other, (self,), f'**{other}')\n",
        "\n",
        "        def _backward():\n",
        "            self.grad += (other * self.data**(other-1)) * out.grad\n",
        "        out._backward = _backward\n",
        "\n",
        "        return out\n",
        "\n",
        "    def relu(self):\n",
        "        out = Value(0 if self.data < 0 else self.data, (self,), 'ReLU')\n",
        "\n",
        "        def _backward():\n",
        "            self.grad += (out.data > 0) * out.grad\n",
        "        out._backward = _backward\n",
        "\n",
        "        return out\n",
        "\n",
        "    def backward(self):\n",
        "\n",
        "        # topological order all of the children in the graph\n",
        "        topo = []\n",
        "        visited = set()\n",
        "        def build_topo(v):\n",
        "            if v not in visited:\n",
        "                visited.add(v)\n",
        "                for child in v._prev:\n",
        "                    build_topo(child)\n",
        "                topo.append(v)\n",
        "        build_topo(self)\n",
        "\n",
        "        # go one variable at a time and apply the chain rule to get its gradient\n",
        "        self.grad = 1\n",
        "        for v in reversed(topo):\n",
        "            v._backward()\n",
        "\n",
        "    def __neg__(self): # -self\n",
        "        return self * -1\n",
        "\n",
        "    def __radd__(self, other): # other + self\n",
        "        return self + other\n",
        "\n",
        "    def __sub__(self, other): # self - other\n",
        "        return self + (-other)\n",
        "\n",
        "    def __rsub__(self, other): # other - self\n",
        "        return other + (-self)\n",
        "\n",
        "    def __rmul__(self, other): # other * self\n",
        "        return self * other\n",
        "\n",
        "    def __truediv__(self, other): # self / other\n",
        "        return self * other**-1\n",
        "\n",
        "    def __rtruediv__(self, other): # other / self\n",
        "        return other * self**-1\n",
        "\n",
        "    def __repr__(self):\n",
        "        return f\"Value({self.label}={self.data}, grad={self.grad})\"\n",
        "\n",
        "\n",
        "class ValueList:\n",
        "    def __init__(self, values):\n",
        "        self.values = values\n",
        "\n",
        "    def backward(self):\n",
        "        for v in self.values:\n",
        "            v.backward()\n",
        "\n",
        "    def __getitem__(self, i):\n",
        "        return self.values[i]\n",
        "\n",
        "    def __iter__(self):\n",
        "        return iter(self.values)\n",
        "\n",
        "    def __repr__(self):\n",
        "        return f\"ValueList({self.values})\""
      ]
    },
    {
      "cell_type": "markdown",
      "source": [
        "## To Draw out the roots of a Value"
      ],
      "metadata": {
        "id": "YY82dH5Kkewb"
      }
    },
    {
      "cell_type": "code",
      "source": [
        "def trace(root):\n",
        "    nodes, edges = set(), set()\n",
        "    def build(v):\n",
        "        if v not in nodes:\n",
        "            nodes.add(v)\n",
        "            for child in v._prev:\n",
        "                edges.add((child, v))\n",
        "                build(child)\n",
        "    build(root)\n",
        "    return nodes, edges\n",
        "\n",
        "def draw_dot(root, format='svg', rankdir='LR'):\n",
        "    \"\"\"\n",
        "    format: png | svg | ...\n",
        "    rankdir: TB (top to bottom graph) | LR (left to right)\n",
        "    \"\"\"\n",
        "    assert rankdir in ['LR', 'TB']\n",
        "    nodes, edges = trace(root)\n",
        "    dot = Digraph(format=format, graph_attr={'rankdir': rankdir}) #, node_attr={'rankdir': 'TB'})\n",
        "\n",
        "    for n in nodes:\n",
        "        dot.node(name=str(id(n)), label = \"{ %s | data %.4f | grad %.4f }\" % (n.label, n.data, n.grad), shape='record')\n",
        "        if n._op:\n",
        "            dot.node(name=str(id(n)) + n._op, label=n._op)\n",
        "            dot.edge(str(id(n)) + n._op, str(id(n)))\n",
        "\n",
        "    for n1, n2 in edges:\n",
        "        dot.edge(str(id(n1)), str(id(n2)) + n2._op)\n",
        "\n",
        "    return dot"
      ],
      "metadata": {
        "id": "ztRDFX5EmvFv"
      },
      "execution_count": 3,
      "outputs": []
    },
    {
      "cell_type": "markdown",
      "source": [
        "## Neural Network"
      ],
      "metadata": {
        "id": "umtec1zdkoqr"
      }
    },
    {
      "cell_type": "code",
      "source": [
        "class Module:\n",
        "\n",
        "    def zero_grad(self):\n",
        "        for p in self.parameters():\n",
        "            p.grad = 0\n",
        "\n",
        "    def parameters(self):\n",
        "        return []\n",
        "\n",
        "class Neuron(Module):\n",
        "    def __init__(self, nin):\n",
        "        self.w = [Value(random.uniform(-1,1), label='w') for _ in range(nin)]\n",
        "        self.b = Value(random.uniform(-1,1), label='b')\n",
        "\n",
        "    def __call__(self, x):\n",
        "        act = sum((wi*xi for wi, xi in zip(self.w, x)))\n",
        "        act += self.b\n",
        "        act.label = 'act'\n",
        "        out = act.tanh()\n",
        "        out.label = 'out'\n",
        "        return out\n",
        "\n",
        "    def parameters(self):\n",
        "        return self.w + [self.b]\n",
        "\n",
        "    def __repr__(self):\n",
        "        return f\"Neuron({len(self.w)})\"\n",
        "\n",
        "class Layer(Module):\n",
        "    def __init__(self, nin, nout):\n",
        "        self.neurons = [Neuron(nin) for _ in range(nout)]\n",
        "\n",
        "    def __call__(self, x):\n",
        "        outs = [n(x) for n in self.neurons]\n",
        "        return outs[0] if len(outs) == 1 else ValueList(outs)\n",
        "\n",
        "    def parameters(self):\n",
        "        return [p for n in self.neurons for p in n.parameters()]\n",
        "\n",
        "    def __repr__(self):\n",
        "        return f\"Layer of [{', '.join(str(n) for n in self.neurons)}]\""
      ],
      "metadata": {
        "id": "hwSw5kZ-nZw_"
      },
      "execution_count": 4,
      "outputs": []
    },
    {
      "cell_type": "code",
      "source": [
        "class MLP(Module):\n",
        "    def __init__(self, nin, nouts):\n",
        "        szs = [nin] + nouts\n",
        "        self.nin = nin\n",
        "        self.layers = [Layer(szs[i], szs[i+1]) for i in range(len(nouts))]\n",
        "\n",
        "    def __call__(self, x):\n",
        "        for layer in self.layers:\n",
        "            x = layer(x)\n",
        "        return x\n",
        "\n",
        "    def parameters(self):\n",
        "        return [p for layer in self.layers for p in layer.parameters()]\n",
        "\n",
        "    def __repr__(self):\n",
        "        return f\"MLP of {self.nin} Inputs and {len(self.layers)} Layers: [{', '.join(str(layer) for layer in self.layers)}]\"\n",
        "\n",
        "    def loss(self, xs, ys):\n",
        "        ypred = [self(x) for x in xs]\n",
        "        loss = sum((Value(ygt)-ypred)**2 for ygt, ypred in zip(ys, ypred))\n",
        "        return loss\n",
        "\n",
        "    def grad_desc(self, xs, ys, step_size=0.01, iter=1):\n",
        "        for k in range(iter):\n",
        "            loss = self.loss(xs, ys)\n",
        "            self.zero_grad() #reset grad to 0 for all parameters\n",
        "            loss.backward() #calculate new grads\n",
        "\n",
        "            for p in self.parameters():\n",
        "                p.data += (-1.0 * step_size * p.grad)\n",
        "            loss = self.loss(xs, ys)\n",
        "            print(\"Loss: \", loss.data)"
      ],
      "metadata": {
        "id": "7A33L1Lcmz7m"
      },
      "execution_count": 5,
      "outputs": []
    },
    {
      "cell_type": "markdown",
      "source": [
        "This is **Gradient Descent**, we are iteratively doing forward pass, backward pass then nudging the weights and bias a/c to gradient. Until we reach minimum loss"
      ],
      "metadata": {
        "id": "94NI6d2jm9Ih"
      }
    }
  ]
}