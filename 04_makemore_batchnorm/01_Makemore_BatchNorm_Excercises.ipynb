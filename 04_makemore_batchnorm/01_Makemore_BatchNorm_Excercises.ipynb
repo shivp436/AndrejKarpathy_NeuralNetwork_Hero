{
  "nbformat": 4,
  "nbformat_minor": 0,
  "metadata": {
    "colab": {
      "provenance": []
    },
    "kernelspec": {
      "name": "python3",
      "display_name": "Python 3"
    },
    "language_info": {
      "name": "python"
    }
  },
  "cells": [
    {
      "cell_type": "markdown",
      "source": [
        "# Setup"
      ],
      "metadata": {
        "id": "YNYGcmOm3tB-"
      }
    },
    {
      "cell_type": "code",
      "execution_count": null,
      "metadata": {
        "id": "boM9SKX2trCO"
      },
      "outputs": [],
      "source": [
        "import torch\n",
        "import numpy as np\n",
        "import pandas as pd\n",
        "import sklearn\n",
        "import matplotlib.pyplot as plt\n",
        "%matplotlib inline\n",
        "\n",
        "from sklearn.model_selection import train_test_split\n",
        "import torch.nn.functional as F"
      ]
    },
    {
      "cell_type": "code",
      "source": [
        "# Collecting Words\n",
        "path = '/content/drive/MyDrive/Colab Notebooks/AndrejKarpathy_NN_Hero/names.txt'\n",
        "words = open(path, 'r').read().splitlines()\n",
        "\n",
        "# Mapping\n",
        "chars = sorted(list(set(''.join(words))))\n",
        "stoi = {s:i+1 for i,s in enumerate(chars)}\n",
        "stoi['.'] = 0\n",
        "itos = {i:s for s,i in stoi.items()}"
      ],
      "metadata": {
        "id": "mE-_4C9dtuj7"
      },
      "execution_count": null,
      "outputs": []
    },
    {
      "cell_type": "code",
      "source": [
        "block_size = 3 # number of characters as input\n",
        "X, Y = [], []\n",
        "\n",
        "for w in words:\n",
        "    context = [0] * block_size\n",
        "    for ch in w+'.':\n",
        "        ix = stoi[ch]\n",
        "        X.append(context)\n",
        "        Y.append(ix)\n",
        "        context = context[1:] + [ix]\n",
        "\n",
        "X = torch.tensor(X)\n",
        "Y = torch.tensor(Y)\n",
        "\n",
        "# Split the dataset (train: 80%, dev: 10%, test:10%)\n",
        "rs = 2147483647\n",
        "X_train, X_temp, Y_train, Y_temp = train_test_split(X, Y, train_size=0.8, random_state=rs, shuffle=True)\n",
        "X_dev, X_test, Y_dev, Y_test = train_test_split(X_temp, Y_temp, train_size=0.5, random_state=rs, shuffle=True)"
      ],
      "metadata": {
        "id": "rfEbAtm2tx0_"
      },
      "execution_count": null,
      "outputs": []
    },
    {
      "cell_type": "markdown",
      "source": [
        "# Excercise 1: Set all weights and biases to zero\n",
        "\n",
        "E01: I did not get around to seeing what happens when you initialize all weights and biases to zero. Try this and train the neural net. You might think either that\n",
        "+ 1) the network trains just fine or\n",
        "+ 2) the network doesn't train at all, but actually it is\n",
        "+ 3) the network trains but only partially, and achieves a pretty bad final performance.\n",
        "\n",
        "Inspect the gradients and activations to figure out what is happening and why the network is only partially training, and what part is being trained exactly."
      ],
      "metadata": {
        "id": "fMOEhJDVt618"
      }
    },
    {
      "cell_type": "code",
      "source": [
        "# Initializing parameters\n",
        "g = torch.Generator().manual_seed(2147483647)\n",
        "n_emb = 10\n",
        "n_h = 200\n",
        "\n",
        "C = torch.randn((27, n_emb), generator=g)\n",
        "w1 = torch.zeros(( n_emb * block_size, n_h))\n",
        "b1 = torch.zeros((n_h))\n",
        "w2 = torch.zeros((n_h, 27))\n",
        "b2 = torch.zeros((27))\n",
        "\n",
        "params = [C, w1, b1, w2, b2]\n",
        "for p in params:\n",
        "    p.requires_grad = True\n",
        "\n",
        "print(sum(p.nelement() for p in params)) # total params"
      ],
      "metadata": {
        "colab": {
          "base_uri": "https://localhost:8080/"
        },
        "id": "FFaKHNnat1FG",
        "outputId": "14331b6d-021f-4fdd-df1f-2b29e1931277"
      },
      "execution_count": null,
      "outputs": [
        {
          "output_type": "stream",
          "name": "stdout",
          "text": [
            "11897\n"
          ]
        }
      ]
    },
    {
      "cell_type": "code",
      "source": [
        "g = torch.Generator().manual_seed(2147483647)\n",
        "batch_size = 32\n",
        "itrns = 200000\n",
        "lossi = []\n",
        "\n",
        "for i in range(itrns):\n",
        "    # minibatch\n",
        "    ix = torch.randint(low=0, high=X_train.shape[0], size=(batch_size, ), generator=g)\n",
        "    Xb, Yb = X_train[ix], Y_train[ix]\n",
        "\n",
        "    # forward pass\n",
        "    emb = C[Xb] # embed lookup\n",
        "    emb_cat = emb.view(emb.shape[0], -1) # concatenated embeds\n",
        "    h_preact = emb_cat @ w1 + b1 # pre activation\n",
        "    h = torch.tanh(h_preact) # activation of hidden layer\n",
        "    logits = h @ w2 + b2 # output layer\n",
        "    loss = F.cross_entropy(logits, Yb) # loss\n",
        "\n",
        "    # backward pass\n",
        "    for p in params:\n",
        "        p.grad = None\n",
        "    loss.backward()\n",
        "\n",
        "    # nudge\n",
        "    lr = 0.1 if i < 100000 else 0.01\n",
        "    for p in params:\n",
        "        p.data += -lr * p.grad\n",
        "\n",
        "    if i % 10000 == 0:\n",
        "        print(f'Loss on iteration {i}: {loss.item()} | Learning Rate: {lr}')\n",
        "    lossi.append(loss.log10().item())\n",
        "print(\"Final Loss: \", loss.item())"
      ],
      "metadata": {
        "colab": {
          "base_uri": "https://localhost:8080/"
        },
        "id": "9STXczAuuelk",
        "outputId": "b37fd3b0-ea42-4ff0-b001-225f9d59358d"
      },
      "execution_count": null,
      "outputs": [
        {
          "output_type": "stream",
          "name": "stdout",
          "text": [
            "Loss on iteration 0: 3.295837163925171 | Learning Rate: 0.1\n",
            "Loss on iteration 10000: 2.98496675491333 | Learning Rate: 0.1\n",
            "Loss on iteration 20000: 2.768519401550293 | Learning Rate: 0.1\n",
            "Loss on iteration 30000: 2.9385650157928467 | Learning Rate: 0.1\n",
            "Loss on iteration 40000: 2.8508875370025635 | Learning Rate: 0.1\n",
            "Loss on iteration 50000: 2.933950662612915 | Learning Rate: 0.1\n",
            "Loss on iteration 60000: 2.830411911010742 | Learning Rate: 0.1\n",
            "Loss on iteration 70000: 3.030425786972046 | Learning Rate: 0.1\n",
            "Loss on iteration 80000: 2.737560510635376 | Learning Rate: 0.1\n",
            "Loss on iteration 90000: 2.7670984268188477 | Learning Rate: 0.1\n",
            "Loss on iteration 100000: 3.006406545639038 | Learning Rate: 0.01\n",
            "Loss on iteration 110000: 2.6482796669006348 | Learning Rate: 0.01\n",
            "Loss on iteration 120000: 3.0532796382904053 | Learning Rate: 0.01\n",
            "Loss on iteration 130000: 3.096428155899048 | Learning Rate: 0.01\n",
            "Loss on iteration 140000: 2.6905555725097656 | Learning Rate: 0.01\n",
            "Loss on iteration 150000: 2.85589861869812 | Learning Rate: 0.01\n",
            "Loss on iteration 160000: 2.930938482284546 | Learning Rate: 0.01\n",
            "Loss on iteration 170000: 2.725767135620117 | Learning Rate: 0.01\n",
            "Loss on iteration 180000: 2.991692304611206 | Learning Rate: 0.01\n",
            "Loss on iteration 190000: 2.7129335403442383 | Learning Rate: 0.01\n",
            "Final Loss:  2.8288283348083496\n"
          ]
        }
      ]
    },
    {
      "cell_type": "code",
      "source": [
        "plt.plot(lossi)"
      ],
      "metadata": {
        "colab": {
          "base_uri": "https://localhost:8080/",
          "height": 447
        },
        "id": "2fBDCgkGurvd",
        "outputId": "671948da-327b-43ce-c663-5ca7fdee5d86"
      },
      "execution_count": null,
      "outputs": [
        {
          "output_type": "execute_result",
          "data": {
            "text/plain": [
              "[<matplotlib.lines.Line2D at 0x78fffdfd53d0>]"
            ]
          },
          "metadata": {},
          "execution_count": 8
        },
        {
          "output_type": "display_data",
          "data": {
            "text/plain": [
              "<Figure size 640x480 with 1 Axes>"
            ],
            "image/png": "[encoded data removed]"
          },
          "metadata": {}
        }
      ]
    },
    {
      "cell_type": "code",
      "source": [
        "# DEV & TEST LOSS\n",
        "\n",
        "@torch.no_grad() # decorator to disable grad tracking for any vars inside the function\n",
        "def split_loss(split):\n",
        "    x, y = {\n",
        "        'train': (X_train, Y_train),\n",
        "        'val': (X_dev, Y_dev),\n",
        "        'test': (X_test, Y_test)\n",
        "    }[split]\n",
        "\n",
        "    emb = C[x]\n",
        "    h = torch.tanh(emb.view(x.shape[0], -1) @ w1 + b1)\n",
        "    logits = h @ w2 + b2\n",
        "    loss = F.cross_entropy(logits, y)\n",
        "    print(split, loss.item())\n",
        "\n",
        "split_loss('val')\n",
        "split_loss('test')"
      ],
      "metadata": {
        "colab": {
          "base_uri": "https://localhost:8080/"
        },
        "id": "kqmfE_lpuw6r",
        "outputId": "7a77fa85-e5a9-448e-d71a-0bca5994c9f5"
      },
      "execution_count": null,
      "outputs": [
        {
          "output_type": "stream",
          "name": "stdout",
          "text": [
            "val 2.836271286010742\n",
            "test 2.8228952884674072\n"
          ]
        }
      ]
    },
    {
      "cell_type": "code",
      "source": [
        "# CONCLUSION: The network trained partially, maybe more iterations would solve this\n",
        "# More iterations didn't help"
      ],
      "metadata": {
        "id": "MnhcS7V1u1NC"
      },
      "execution_count": null,
      "outputs": []
    },
    {
      "cell_type": "markdown",
      "source": [
        "# Excercise 2: Folding the Batchnorm Layer into Linear Layer\n",
        "\n",
        "E02: BatchNorm, unlike other normalization layers like LayerNorm/GroupNorm etc. has the big advantage that after training, the batchnorm gamma/beta can be \"folded into\" the weights of the preceeding Linear layers, effectively erasing the need to forward it at test time.\n",
        "\n",
        "Set up a small 3-layer MLP with batchnorms, train the network, then \"fold\" the batchnorm gamma/beta into the preceeding Linear layer's W,b by creating a new W2, b2 and erasing the batch norm.\n",
        "\n",
        "Verify that this gives the same forward pass during inference. i.e. we see that the batchnorm is there just for stabilizing the training, and can be thrown out after training is done! pretty cool.\n"
      ],
      "metadata": {
        "id": "6_l7Qnxyvt8-"
      }
    },
    {
      "cell_type": "markdown",
      "source": [
        "## Classes"
      ],
      "metadata": {
        "id": "8cT03b6Ox4Ql"
      }
    },
    {
      "cell_type": "code",
      "source": [
        "class Linear:\n",
        "\n",
        "  def __init__(self, fan_in, fan_out, bias=True):\n",
        "    self.weight = torch.randn((fan_in, fan_out), generator=g) / fan_in**0.5\n",
        "    self.bias = torch.zeros(fan_out) if bias else None\n",
        "\n",
        "  def __call__(self, x):\n",
        "    self.out = x @ self.weight\n",
        "    if self.bias is not None:\n",
        "      self.out += self.bias\n",
        "    return self.out\n",
        "\n",
        "  def parameters(self):\n",
        "    return [self.weight] + ([] if self.bias is None else [self.bias])\n",
        "\n",
        "\n",
        "class BatchNorm1d:\n",
        "\n",
        "  def __init__(self, dim, eps=1e-5, momentum=0.1):\n",
        "    self.eps = eps\n",
        "    self.momentum = momentum\n",
        "    self.training = True\n",
        "    # parameters (trained with backprop)\n",
        "    self.gamma = torch.ones(dim)\n",
        "    self.beta = torch.zeros(dim)\n",
        "    # buffers (trained with a running 'momentum update')\n",
        "    self.running_mean = torch.zeros(dim)\n",
        "    self.running_var = torch.ones(dim)\n",
        "\n",
        "  def __call__(self, x):\n",
        "    # calculate the forward pass\n",
        "    if self.training:\n",
        "      xmean = x.mean(0, keepdim=True) # batch mean\n",
        "      xvar = x.var(0, keepdim=True) # batch variance\n",
        "    else:\n",
        "      xmean = self.running_mean\n",
        "      xvar = self.running_var\n",
        "    xhat = (x - xmean) / torch.sqrt(xvar + self.eps) # normalize to unit variance\n",
        "    self.out = self.gamma * xhat + self.beta\n",
        "    # update the buffers\n",
        "    if self.training:\n",
        "      with torch.no_grad():\n",
        "        self.running_mean = (1 - self.momentum) * self.running_mean + self.momentum * xmean\n",
        "        self.running_var = (1 - self.momentum) * self.running_var + self.momentum * xvar\n",
        "    return self.out\n",
        "\n",
        "  def parameters(self):\n",
        "    return [self.gamma, self.beta]\n",
        "\n",
        "class Tanh:\n",
        "  def __call__(self, x):\n",
        "    self.out = torch.tanh(x)\n",
        "    return self.out\n",
        "  def parameters(self):\n",
        "    return []"
      ],
      "metadata": {
        "id": "ZoLPBPFBvf3i"
      },
      "execution_count": null,
      "outputs": []
    },
    {
      "cell_type": "markdown",
      "source": [
        "## Working"
      ],
      "metadata": {
        "id": "WB8vUXqBx82o"
      }
    },
    {
      "cell_type": "code",
      "source": [
        "n_embd = 10\n",
        "n_hidden = 100\n",
        "g = torch.Generator().manual_seed(2147483647)\n",
        "vocab_size = 27\n",
        "\n",
        "C = torch.randn((vocab_size, n_embd), generator=g)\n",
        "layers = [\n",
        "    Linear(n_embd * block_size, n_hidden, bias=False), BatchNorm1d(n_hidden), Tanh(),\n",
        "    Linear(n_hidden, n_hidden, bias=False), BatchNorm1d(n_hidden), Tanh(),\n",
        "    Linear(n_hidden, vocab_size, bias=False), BatchNorm1d(vocab_size)\n",
        "]\n",
        "\n",
        "with torch.no_grad():\n",
        "    layers[-1].gamma *= 0.1\n",
        "\n",
        "parameters = [C] + [p for layer in layers for p in layer.parameters()]\n",
        "print(sum(p.nelement() for p in parameters))\n",
        "for p in parameters:\n",
        "    p.requires_grad = True"
      ],
      "metadata": {
        "colab": {
          "base_uri": "https://localhost:8080/"
        },
        "id": "n5gQyrmRw098",
        "outputId": "fae7f717-6bc6-4035-8ee7-7f4c6774681e"
      },
      "execution_count": null,
      "outputs": [
        {
          "output_type": "stream",
          "name": "stdout",
          "text": [
            "16424\n"
          ]
        }
      ]
    },
    {
      "cell_type": "code",
      "source": [
        "g = torch.Generator().manual_seed(2147483647)\n",
        "batch_size = 32\n",
        "itrns = 200000\n",
        "\n",
        "for i in range(itrns):\n",
        "    # minibatch\n",
        "    ix = torch.randint(low=0, high=X_train.shape[0], size=(batch_size, ), generator=g)\n",
        "    Xb, Yb = X_train[ix], Y_train[ix]\n",
        "\n",
        "    # forward pass\n",
        "    emb = C[Xb] # embed lookup\n",
        "    x = emb.view(emb.shape[0], -1)\n",
        "    for layer in layers: # MLP\n",
        "        x = layer(x)\n",
        "    loss = F.cross_entropy(x, Yb)\n",
        "\n",
        "    # backward pass\n",
        "    for layer in layers:\n",
        "        layer.out.retain_grad()\n",
        "    for p in parameters:\n",
        "        p.grad = None\n",
        "    loss.backward()\n",
        "\n",
        "    # nudge\n",
        "    lr = 0.15 if i < 150000 else 0.01\n",
        "    for p in parameters:\n",
        "        p.data += -lr * p.grad\n",
        "\n",
        "    if i % 10000 == 0:\n",
        "        print(f'Loss on iteration {i}: {loss.item()} | Learning Rate: {lr}')\n",
        "\n",
        "print(\"Final Loss: \", loss.item())"
      ],
      "metadata": {
        "colab": {
          "base_uri": "https://localhost:8080/"
        },
        "id": "EcreKoysyjkw",
        "outputId": "5819d717-0c1c-4734-dde1-69388d102109"
      },
      "execution_count": null,
      "outputs": [
        {
          "output_type": "stream",
          "name": "stdout",
          "text": [
            "Loss on iteration 0: 3.331695556640625 | Learning Rate: 0.15\n",
            "Loss on iteration 10000: 2.4977951049804688 | Learning Rate: 0.15\n",
            "Loss on iteration 20000: 2.2042691707611084 | Learning Rate: 0.15\n",
            "Loss on iteration 30000: 2.156787395477295 | Learning Rate: 0.15\n",
            "Loss on iteration 40000: 1.9411007165908813 | Learning Rate: 0.15\n",
            "Loss on iteration 50000: 2.1103522777557373 | Learning Rate: 0.15\n",
            "Loss on iteration 60000: 2.120114803314209 | Learning Rate: 0.15\n",
            "Loss on iteration 70000: 2.3726634979248047 | Learning Rate: 0.15\n",
            "Loss on iteration 80000: 2.1173620223999023 | Learning Rate: 0.15\n",
            "Loss on iteration 90000: 2.004641056060791 | Learning Rate: 0.15\n",
            "Loss on iteration 100000: 2.1450388431549072 | Learning Rate: 0.15\n",
            "Loss on iteration 110000: 2.161019802093506 | Learning Rate: 0.15\n",
            "Loss on iteration 120000: 2.1925976276397705 | Learning Rate: 0.15\n",
            "Loss on iteration 130000: 2.5124757289886475 | Learning Rate: 0.15\n",
            "Loss on iteration 140000: 1.9205337762832642 | Learning Rate: 0.15\n",
            "Loss on iteration 150000: 2.27701473236084 | Learning Rate: 0.01\n",
            "Loss on iteration 160000: 2.048468828201294 | Learning Rate: 0.01\n",
            "Loss on iteration 170000: 1.9722391366958618 | Learning Rate: 0.01\n",
            "Loss on iteration 180000: 2.2942936420440674 | Learning Rate: 0.01\n",
            "Loss on iteration 190000: 2.2101473808288574 | Learning Rate: 0.01\n",
            "Final Loss:  2.1560819149017334\n"
          ]
        }
      ]
    },
    {
      "cell_type": "code",
      "source": [
        "# DEV & TEST LOSS\n",
        "\n",
        "@torch.no_grad()\n",
        "def split_loss(split):\n",
        "    x, y = {\n",
        "        'train': (X_train, Y_train),\n",
        "        'val': (X_dev, Y_dev),\n",
        "        'test': (X_test, Y_test)\n",
        "    }[split]\n",
        "\n",
        "    emb = C[x]\n",
        "    x = emb.view(emb.shape[0], -1)\n",
        "    for layer in layers:\n",
        "        x = layer(x)\n",
        "    loss = F.cross_entropy(x, y)\n",
        "    print(split, loss.item())\n",
        "\n",
        "split_loss('val')\n",
        "split_loss('test')"
      ],
      "metadata": {
        "colab": {
          "base_uri": "https://localhost:8080/"
        },
        "id": "O9ZX9hvayyVa",
        "outputId": "3b18de12-61d4-4dc5-d498-7442ab923f12"
      },
      "execution_count": null,
      "outputs": [
        {
          "output_type": "stream",
          "name": "stdout",
          "text": [
            "val 2.1083784103393555\n",
            "test 2.105869770050049\n"
          ]
        }
      ]
    },
    {
      "cell_type": "markdown",
      "source": [
        "## Folding the Layers\n",
        "\n",
        "To compute the weights & biases of folded layers:\n",
        "+ std = torch.sqrt(bn.running_var + bn.eps)  # [features]\n",
        "+ W_folded = lin.weight * (bn.gamma / std)   # shape: same as lin.weight\n",
        "+ b_folded = - (bn.running_mean * bn.gamma / std) + bn.beta\n",
        "\n",
        "If linear layer has bias, then:\n",
        "+ b_folded = ((lin.bias - bn.running_mean) / std) * bn.gamma + bn.beta"
      ],
      "metadata": {
        "id": "W4LtZSQf09u8"
      }
    },
    {
      "cell_type": "code",
      "source": [
        "# FOLDING THE LAYERS\n",
        "\n",
        "folded_layers = []\n",
        "i = 0\n",
        "\n",
        "while i < len(layers):\n",
        "    lin = layers[i]\n",
        "    bn = layers[i+1]\n",
        "    act = layers[i+2] if i+2 < len(layers) and isinstance(layers[i+2], Tanh) else None\n",
        "\n",
        "    assert isinstance(lin, Linear) and isinstance(bn, BatchNorm1d), \"Unexpected layer pattern\"\n",
        "\n",
        "    std = torch.sqrt(bn.running_var.squeeze() + bn.eps)\n",
        "    W_folded = lin.weight * (bn.gamma / std)\n",
        "    b_folded = - (bn.running_mean.squeeze() * bn.gamma / std) + bn.beta\n",
        "\n",
        "    # Create a new Linear layer with folded parameters\n",
        "    class LinearFolded:\n",
        "        def __init__(self, weight, bias):\n",
        "            self.weight = weight\n",
        "            self.bias = bias\n",
        "        def __call__(self, x):\n",
        "            return x @ self.weight + self.bias\n",
        "        def parameters(self):\n",
        "            return []\n",
        "\n",
        "    lin_folded = LinearFolded(W_folded, b_folded)\n",
        "\n",
        "    folded_layers.append(lin_folded)\n",
        "    if act is not None:\n",
        "        folded_layers.append(act)\n",
        "        i += 3  # skip over Linear, BatchNorm, Tanh\n",
        "    else:\n",
        "        i += 2  # final layer might not have Tanh"
      ],
      "metadata": {
        "id": "JUwbIbENzdso"
      },
      "execution_count": null,
      "outputs": []
    },
    {
      "cell_type": "code",
      "source": [
        "folded_layers"
      ],
      "metadata": {
        "colab": {
          "base_uri": "https://localhost:8080/"
        },
        "id": "pAaD-1c_1rvC",
        "outputId": "0210ca13-801c-4c96-86d0-6a08713ff8ee"
      },
      "execution_count": null,
      "outputs": [
        {
          "output_type": "execute_result",
          "data": {
            "text/plain": [
              "[<__main__.LinearFolded at 0x79011be47b50>,\n",
              " <__main__.Tanh at 0x7900e8eb5110>,\n",
              " <__main__.LinearFolded at 0x78fff47aa2d0>,\n",
              " <__main__.Tanh at 0x78fff80fe410>,\n",
              " <__main__.LinearFolded at 0x78fff47aae10>]"
            ]
          },
          "metadata": {},
          "execution_count": 23
        }
      ]
    },
    {
      "cell_type": "code",
      "source": [
        "# TESTING IT\n",
        "# DEV & TEST LOSS\n",
        "\n",
        "@torch.no_grad()\n",
        "def split_loss(split):\n",
        "    x, y = {\n",
        "        'train': (X_train, Y_train),\n",
        "        'val': (X_dev, Y_dev),\n",
        "        'test': (X_test, Y_test)\n",
        "    }[split]\n",
        "\n",
        "    emb = C[x]\n",
        "    x = emb.view(emb.shape[0], -1)\n",
        "    for layer in folded_layers:\n",
        "        x = layer(x)\n",
        "    loss = F.cross_entropy(x, y)\n",
        "    print(split, loss.item())\n",
        "\n",
        "split_loss('val')\n",
        "split_loss('test')"
      ],
      "metadata": {
        "colab": {
          "base_uri": "https://localhost:8080/"
        },
        "id": "w5X4cNn11tt-",
        "outputId": "77046373-448f-4a03-df6a-b8e5b164a0a6"
      },
      "execution_count": null,
      "outputs": [
        {
          "output_type": "stream",
          "name": "stdout",
          "text": [
            "val 2.1096646785736084\n",
            "test 2.1069693565368652\n"
          ]
        }
      ]
    },
    {
      "cell_type": "markdown",
      "source": [
        "---\n",
        "Pretty accurate results:\n",
        "\n",
        "Loss Without folding:\n",
        "+ val 2.1083784103393555\n",
        "+ test 2.105869770050049\n",
        "\n",
        "Loss with folding:\n",
        "+ val 2.1096646785736084\n",
        "+ test 2.1069693565368652\n",
        "---"
      ],
      "metadata": {
        "id": "2yhVgEKY2C9r"
      }
    },
    {
      "cell_type": "code",
      "source": [
        "# Verifying accuracy on Test Data\n",
        "\n",
        "# Set BN layers to inference mode\n",
        "for layer in layers:\n",
        "    if isinstance(layer, BatchNorm1d):\n",
        "        layer.training = False\n",
        "\n",
        "# Run original model\n",
        "with torch.no_grad():\n",
        "    emb = C[X_test]  # e.g., your input\n",
        "    x = emb.view(emb.shape[0], -1)\n",
        "    for layer in layers:\n",
        "        x = layer(x)\n",
        "    y_original = x\n",
        "\n",
        "# Run folded model\n",
        "with torch.no_grad():\n",
        "    emb = C[X_test]\n",
        "    x = emb.view(emb.shape[0], -1)\n",
        "    for layer in folded_layers:\n",
        "        x = layer(x)\n",
        "    y_folded = x\n",
        "\n",
        "# Compare\n",
        "max_abs_diff = (y_original - y_folded).abs().max().item()\n",
        "print(f'{\"Folded successfully\" if max_abs_diff < 1e-5 else \"Folding Failed\"} with {max_abs_diff=}')"
      ],
      "metadata": {
        "colab": {
          "base_uri": "https://localhost:8080/"
        },
        "id": "TB-saiQo16dJ",
        "outputId": "681f8158-f807-45a0-b863-ad5fc7ef4f82"
      },
      "execution_count": null,
      "outputs": [
        {
          "output_type": "stream",
          "name": "stdout",
          "text": [
            "Folded successfully with max_abs_diff=5.7220458984375e-06\n"
          ]
        }
      ]
    },
    {
      "cell_type": "markdown",
      "source": [
        "## Sampling Words"
      ],
      "metadata": {
        "id": "nI5T6ZqC5G5C"
      }
    },
    {
      "cell_type": "code",
      "source": [
        "import torch\n",
        "g = torch.Generator().manual_seed(2147483647)\n",
        "block_size = 3\n",
        "\n",
        "def sample(n_words=20):\n",
        "    for _ in range(n_words):\n",
        "        context = [0] * block_size\n",
        "        word = []\n",
        "        while True:\n",
        "            x = torch.tensor([context])\n",
        "            emb = C[x]\n",
        "            x = emb.view(1, -1)\n",
        "            for layer in folded_layers:\n",
        "                x = layer(x)\n",
        "\n",
        "            # Softmax to get probabilities\n",
        "            probs = F.softmax(x, dim=1)  # shape: (1, vocab_size)\n",
        "            ix = torch.multinomial(probs, num_samples=1, generator=g).item()\n",
        "\n",
        "            if ix == 0:\n",
        "                break\n",
        "            word.append(itos[ix])\n",
        "            context = context[1:] + [ix]\n",
        "        print(''.join(word))\n",
        "\n",
        "sample(20)"
      ],
      "metadata": {
        "colab": {
          "base_uri": "https://localhost:8080/"
        },
        "id": "TfYP6Zjb5KRG",
        "outputId": "f2600203-7847-4148-cf18-2c115458a5b2"
      },
      "execution_count": 28,
      "outputs": [
        {
          "output_type": "stream",
          "name": "stdout",
          "text": [
            "junide\n",
            "jakarie\n",
            "pres\n",
            "amaire\n",
            "kai\n",
            "rono\n",
            "sabrayett\n",
            "dameia\n",
            "zamilene\n",
            "jededainroi\n",
            "tayse\n",
            "sina\n",
            "larie\n",
            "faveum\n",
            "kyfontamjaney\n",
            "sumah\n",
            "jaylie\n",
            "reaya\n",
            "jocely\n",
            "jamiya\n"
          ]
        }
      ]
    },
    {
      "cell_type": "code",
      "source": [],
      "metadata": {
        "id": "KMxoH1nL6H9Y"
      },
      "execution_count": null,
      "outputs": []
    }
  ]
}